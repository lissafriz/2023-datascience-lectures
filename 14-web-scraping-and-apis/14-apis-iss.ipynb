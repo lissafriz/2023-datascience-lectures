{
 "cells": [
  {
   "cell_type": "markdown",
   "metadata": {},
   "source": [
    "# Introduction to Data Science – Lecture 14 – APIs\n",
    "*COMP 5360 / MATH 4100, University of Utah, http://datasciencecourse.net/*\n",
    "\n",
    "In this lecture we will explore how we can extract data from web-APIs. The first part of this tutorial is based on [this blog](https://www.dataquest.io/blog/python-api-tutorial/).\n",
    "\n",
    "API stands for Application Programming Interface. It is supposed to be a **well defined interface** for consuming data (in contrast to web-scraping), or, more generally, for the **interaction with a remote program** on a server. APIs aren't only generated so that you can read data; they're often designed so that you could write custom software to interact with the API. You could, for example, write your own twitter client! \n",
    "\n",
    "APIs are usually well documented, as the organization that provides APIs wants you to use them. \n",
    "\n",
    "Here are a couple of examples of sites that have documented APIs:\n",
    "\n",
    " * [StackExchange](https://api.stackexchange.com/docs)  \n",
    " * [Twitter](https://dev.twitter.com/rest/public)\n",
    " * [Facebook](https://developers.facebook.com/docs/graph-api)\n",
    " * [KEGG](http://www.genome.jp/kegg/rest/keggapi.html) \n",
    " * [Google Maps](https://developers.google.com/maps/) \n",
    " * and many many more. \n",
    " \n",
    "Most APIs require some form of authentication and have rules on what you're allowed to do and what not. Follow those rules, or you will be blocked faster than you can say `GET`. \n",
    " \n",
    "Working with an API is a lot like working with a website, but instead of a human in front of the screen, it's computers talking to each other. \n",
    "\n",
    "We'll be using the dominant form of APIs on the web: REST (REpresentational State Transfer). REST APIs use an [URI](https://en.wikipedia.org/wiki/Uniform_Resource_Identifier) (a Uniform Resource Identifier; URLs are one specific form of URIs) to specify what you want to do with and API.\n",
    "\n",
    "All API methods in REST are relative to a base URL. E.g., for twitter this would be\n",
    "```\n",
    "https://api.twitter.com/1.1/\n",
    "```\n",
    "\n",
    "A query would look like this: \n",
    "\n",
    "```\n",
    "https://api.twitter.com/1.1/search/tweets.json?q=%40twitterapi\n",
    "```\n",
    "\n",
    "\n",
    "REST APIs can return data in different forms. The most common ones are JSON and XML, and of those two, JSON is now dominant. \n",
    "\n",
    "JSON stands for JavaScript Object Notation, and is a pretty convenient format, as we'll see. \n",
    " \n",
    "\n",
    "Let's start with a very simple example, retrieving the current position of the ISS. We will be using the [requests library](http://www.python-requests.org/en/latest/), which will handle our communication with the server."
   ]
  },
  {
   "cell_type": "code",
   "execution_count": 1,
   "metadata": {},
   "outputs": [
    {
     "data": {
      "text/plain": [
       "<Response [200]>"
      ]
     },
     "execution_count": 1,
     "metadata": {},
     "output_type": "execute_result"
    }
   ],
   "source": [
    "import requests \n",
    "# Make a get request to get the latest position of the international space station from the opennotify api.\n",
    "response = requests.get(\"http://api.open-notify.org/iss-now.json\")\n",
    "\n",
    "response"
   ]
  },
  {
   "cell_type": "markdown",
   "metadata": {},
   "source": [
    "That looks good, we've received a response with the message \"200\". What does the 200 mean? It's a status code - you've probably seen the \"Error 404\" on the internet. \n",
    "\n",
    "Here are a couple of codes:\n",
    "\n",
    " * **200** – everything went okay, and the result has been returned (if any)\n",
    " * **301** – the server is redirecting you to a different endpoint. This can happen when a company switches domain names, or an endpoint name is changed.\n",
    " * **401** – the server thinks you’re not authenticated. This happens when you don’t send the right credentials to access an API (we’ll talk about authentication later).\n",
    " * **400** – the server thinks you made a bad request. This can happen when you don’t send along the right data, among other things.\n",
    " * **403** – the resource you’re trying to access is forbidden – you don’t have the right permissions to see it.\n",
    " * **404** – the resource you tried to access wasn’t found on the server.\n",
    "\n",
    "Let's try to get a response with a wrong URL:"
   ]
  },
  {
   "cell_type": "code",
   "execution_count": 2,
   "metadata": {},
   "outputs": [
    {
     "data": {
      "text/plain": [
       "<Response [404]>"
      ]
     },
     "execution_count": 2,
     "metadata": {},
     "output_type": "execute_result"
    }
   ],
   "source": [
    "response_failed = requests.get(\"http://api.open-notify.org/iss\")\n",
    "\n",
    "response_failed"
   ]
  },
  {
   "cell_type": "markdown",
   "metadata": {},
   "source": [
    "We used the get methods to put in a GET request. There are four different types of requests: \n",
    "\n",
    "![Request types](requests.png)\n",
    "[Source](https://en.wikipedia.org/wiki/Representational_state_transfer)"
   ]
  },
  {
   "cell_type": "markdown",
   "metadata": {
    "collapsed": true
   },
   "source": [
    "Let's look at the payload of our previous, successful response:"
   ]
  },
  {
   "cell_type": "code",
   "execution_count": 3,
   "metadata": {},
   "outputs": [
    {
     "data": {
      "text/plain": [
       "b'{\"iss_position\": {\"longitude\": \"-165.0972\", \"latitude\": \"5.8001\"}, \"message\": \"success\", \"timestamp\": 1677195865}'"
      ]
     },
     "execution_count": 3,
     "metadata": {},
     "output_type": "execute_result"
    }
   ],
   "source": [
    "response.content"
   ]
  },
  {
   "cell_type": "markdown",
   "metadata": {},
   "source": [
    "We can already see that this is JSON (though it is stored a `bytes` object), but we can check formally:"
   ]
  },
  {
   "cell_type": "code",
   "execution_count": 4,
   "metadata": {},
   "outputs": [
    {
     "data": {
      "text/plain": [
       "'application/json'"
      ]
     },
     "execution_count": 4,
     "metadata": {},
     "output_type": "execute_result"
    }
   ],
   "source": [
    "response.headers['content-type']"
   ]
  },
  {
   "cell_type": "markdown",
   "metadata": {},
   "source": [
    "We can decode this byte object, then the JSON will be readable. "
   ]
  },
  {
   "cell_type": "code",
   "execution_count": 5,
   "metadata": {},
   "outputs": [
    {
     "name": "stdout",
     "output_type": "stream",
     "text": [
      "{\"iss_position\": {\"longitude\": \"-165.0972\", \"latitude\": \"5.8001\"}, \"message\": \"success\", \"timestamp\": 1677195865}\n"
     ]
    }
   ],
   "source": [
    "response_j = response.content.decode(\"utf-8\")\n",
    "print(response_j)"
   ]
  },
  {
   "cell_type": "markdown",
   "metadata": {},
   "source": [
    "Let's take a look at the JSON with nice formatting here:\n",
    "\n",
    "```JSON\n",
    "{\n",
    "  \"timestamp\": 1475240215,\n",
    "  \"message\": \"success\", \n",
    "  \"iss_position\": {\n",
    "    \"latitude\": -30.005751854107206, \n",
    "    \"longitude\": -104.20085371352678\n",
    "  } \n",
    "}\n",
    "```\n",
    "\n",
    "This looks a lot like a dictionary (or objects, for that matter)! We have key-value pairs. \n",
    "\n",
    "We can use the [json library](https://docs.python.org/3/library/json.html) to convert JSON into objects:"
   ]
  },
  {
   "cell_type": "code",
   "execution_count": 6,
   "metadata": {},
   "outputs": [
    {
     "name": "stdout",
     "output_type": "stream",
     "text": [
      "<class 'dict'>\n",
      "{'iss_position': {'longitude': '-165.0972', 'latitude': '5.8001'}, 'message': 'success', 'timestamp': 1677195865}\n"
     ]
    },
    {
     "data": {
      "text/plain": [
       "{'longitude': '-165.0972', 'latitude': '5.8001'}"
      ]
     },
     "execution_count": 6,
     "metadata": {},
     "output_type": "execute_result"
    }
   ],
   "source": [
    "import json\n",
    "response_d = json.loads(response_j)\n",
    "print(type(response_d))\n",
    "print(response_d)\n",
    "response_d[\"iss_position\"]"
   ]
  },
  {
   "cell_type": "markdown",
   "metadata": {},
   "source": [
    "Or, not surprisingly, pandas can also load a json object:"
   ]
  },
  {
   "cell_type": "code",
   "execution_count": 7,
   "metadata": {},
   "outputs": [
    {
     "data": {
      "text/html": [
       "<div>\n",
       "<style scoped>\n",
       "    .dataframe tbody tr th:only-of-type {\n",
       "        vertical-align: middle;\n",
       "    }\n",
       "\n",
       "    .dataframe tbody tr th {\n",
       "        vertical-align: top;\n",
       "    }\n",
       "\n",
       "    .dataframe thead th {\n",
       "        text-align: right;\n",
       "    }\n",
       "</style>\n",
       "<table border=\"1\" class=\"dataframe\">\n",
       "  <thead>\n",
       "    <tr style=\"text-align: right;\">\n",
       "      <th></th>\n",
       "      <th>iss_position</th>\n",
       "      <th>message</th>\n",
       "      <th>timestamp</th>\n",
       "    </tr>\n",
       "  </thead>\n",
       "  <tbody>\n",
       "    <tr>\n",
       "      <th>latitude</th>\n",
       "      <td>5.8001</td>\n",
       "      <td>success</td>\n",
       "      <td>2023-02-23 23:44:25</td>\n",
       "    </tr>\n",
       "    <tr>\n",
       "      <th>longitude</th>\n",
       "      <td>-165.0972</td>\n",
       "      <td>success</td>\n",
       "      <td>2023-02-23 23:44:25</td>\n",
       "    </tr>\n",
       "  </tbody>\n",
       "</table>\n",
       "</div>"
      ],
      "text/plain": [
       "           iss_position  message           timestamp\n",
       "latitude         5.8001  success 2023-02-23 23:44:25\n",
       "longitude     -165.0972  success 2023-02-23 23:44:25"
      ]
     },
     "execution_count": 7,
     "metadata": {},
     "output_type": "execute_result"
    }
   ],
   "source": [
    "import pandas as pd \n",
    "\n",
    "df = pd.read_json(response_j)\n",
    "df"
   ]
  },
  {
   "cell_type": "markdown",
   "metadata": {},
   "source": [
    "This isn't quite what we want - we probably want one row per timestamp and longitude and latitude as columns:"
   ]
  },
  {
   "cell_type": "code",
   "execution_count": 8,
   "metadata": {},
   "outputs": [
    {
     "data": {
      "text/plain": [
       "{'latitude': '5.8001', 'longitude': '-165.0972', 'timestamp': 1677195865}"
      ]
     },
     "execution_count": 8,
     "metadata": {},
     "output_type": "execute_result"
    }
   ],
   "source": [
    "def flatten(response_d):\n",
    "    response_flat = {}\n",
    "    response_flat[\"latitude\"] = response_d[\"iss_position\"][\"latitude\"]\n",
    "    response_flat[\"longitude\"] = response_d[\"iss_position\"][\"longitude\"]\n",
    "    response_flat[\"timestamp\"] = response_d[\"timestamp\"]\n",
    "    return response_flat\n",
    "flatten(response_d)"
   ]
  },
  {
   "cell_type": "markdown",
   "metadata": {},
   "source": [
    "That looks better. Let's get a couple of positions of the ISS over time and save it as an array:"
   ]
  },
  {
   "cell_type": "code",
   "execution_count": 9,
   "metadata": {},
   "outputs": [
    {
     "name": "stdout",
     "output_type": "stream",
     "text": [
      "{'latitude': '-1.1107', 'longitude': '-160.1816', 'timestamp': 1677196001}\n",
      "{'latitude': '-1.2627', 'longitude': '-160.0738', 'timestamp': 1677196004}\n",
      "{'latitude': '-1.4147', 'longitude': '-159.9661', 'timestamp': 1677196007}\n",
      "{'latitude': '-1.5667', 'longitude': '-159.8583', 'timestamp': 1677196010}\n",
      "{'latitude': '-1.7440', 'longitude': '-159.7326', 'timestamp': 1677196014}\n",
      "{'latitude': '-1.8959', 'longitude': '-159.6248', 'timestamp': 1677196017}\n",
      "{'latitude': '-2.0479', 'longitude': '-159.5170', 'timestamp': 1677196020}\n",
      "{'latitude': '-2.1998', 'longitude': '-159.4092', 'timestamp': 1677196023}\n",
      "{'latitude': '-2.3516', 'longitude': '-159.3014', 'timestamp': 1677196026}\n",
      "{'latitude': '-2.5035', 'longitude': '-159.1935', 'timestamp': 1677196029}\n"
     ]
    },
    {
     "data": {
      "text/plain": [
       "10"
      ]
     },
     "execution_count": 9,
     "metadata": {},
     "output_type": "execute_result"
    }
   ],
   "source": [
    "import time\n",
    "\n",
    "def pull_position():\n",
    "    \"\"\"Retreives the position of the ISS and returns it as a flat dictionary\"\"\"\n",
    "    response = requests.get(\"http://api.open-notify.org/iss-now.json\")\n",
    "    response_j = response.content.decode(\"utf-8\")\n",
    "    response_d = json.loads(response_j)\n",
    "    flat_response = flatten(response_d)\n",
    "    return flat_response    \n",
    "\n",
    "iss_position = []\n",
    "    \n",
    "# calls pull_position 10 times with 3 seconds break\n",
    "for i in range(10):\n",
    "    flat_response = pull_position()\n",
    "    iss_position.append(flat_response)\n",
    "    print(flat_response)\n",
    "    time.sleep(3)\n",
    "    \n",
    "len(iss_position)"
   ]
  },
  {
   "cell_type": "markdown",
   "metadata": {},
   "source": [
    "Now we can convert this into a nice dataframe:"
   ]
  },
  {
   "cell_type": "code",
   "execution_count": 10,
   "metadata": {},
   "outputs": [
    {
     "data": {
      "text/html": [
       "<div>\n",
       "<style scoped>\n",
       "    .dataframe tbody tr th:only-of-type {\n",
       "        vertical-align: middle;\n",
       "    }\n",
       "\n",
       "    .dataframe tbody tr th {\n",
       "        vertical-align: top;\n",
       "    }\n",
       "\n",
       "    .dataframe thead th {\n",
       "        text-align: right;\n",
       "    }\n",
       "</style>\n",
       "<table border=\"1\" class=\"dataframe\">\n",
       "  <thead>\n",
       "    <tr style=\"text-align: right;\">\n",
       "      <th></th>\n",
       "      <th>latitude</th>\n",
       "      <th>longitude</th>\n",
       "      <th>timestamp</th>\n",
       "    </tr>\n",
       "    <tr>\n",
       "      <th>timestamp</th>\n",
       "      <th></th>\n",
       "      <th></th>\n",
       "      <th></th>\n",
       "    </tr>\n",
       "  </thead>\n",
       "  <tbody>\n",
       "    <tr>\n",
       "      <th>2023-02-23 23:46:41</th>\n",
       "      <td>-1.1107</td>\n",
       "      <td>-160.1816</td>\n",
       "      <td>2023-02-23 23:46:41</td>\n",
       "    </tr>\n",
       "    <tr>\n",
       "      <th>2023-02-23 23:46:44</th>\n",
       "      <td>-1.2627</td>\n",
       "      <td>-160.0738</td>\n",
       "      <td>2023-02-23 23:46:44</td>\n",
       "    </tr>\n",
       "    <tr>\n",
       "      <th>2023-02-23 23:46:47</th>\n",
       "      <td>-1.4147</td>\n",
       "      <td>-159.9661</td>\n",
       "      <td>2023-02-23 23:46:47</td>\n",
       "    </tr>\n",
       "    <tr>\n",
       "      <th>2023-02-23 23:46:50</th>\n",
       "      <td>-1.5667</td>\n",
       "      <td>-159.8583</td>\n",
       "      <td>2023-02-23 23:46:50</td>\n",
       "    </tr>\n",
       "    <tr>\n",
       "      <th>2023-02-23 23:46:54</th>\n",
       "      <td>-1.7440</td>\n",
       "      <td>-159.7326</td>\n",
       "      <td>2023-02-23 23:46:54</td>\n",
       "    </tr>\n",
       "    <tr>\n",
       "      <th>2023-02-23 23:46:57</th>\n",
       "      <td>-1.8959</td>\n",
       "      <td>-159.6248</td>\n",
       "      <td>2023-02-23 23:46:57</td>\n",
       "    </tr>\n",
       "    <tr>\n",
       "      <th>2023-02-23 23:47:00</th>\n",
       "      <td>-2.0479</td>\n",
       "      <td>-159.5170</td>\n",
       "      <td>2023-02-23 23:47:00</td>\n",
       "    </tr>\n",
       "    <tr>\n",
       "      <th>2023-02-23 23:47:03</th>\n",
       "      <td>-2.1998</td>\n",
       "      <td>-159.4092</td>\n",
       "      <td>2023-02-23 23:47:03</td>\n",
       "    </tr>\n",
       "    <tr>\n",
       "      <th>2023-02-23 23:47:06</th>\n",
       "      <td>-2.3516</td>\n",
       "      <td>-159.3014</td>\n",
       "      <td>2023-02-23 23:47:06</td>\n",
       "    </tr>\n",
       "    <tr>\n",
       "      <th>2023-02-23 23:47:09</th>\n",
       "      <td>-2.5035</td>\n",
       "      <td>-159.1935</td>\n",
       "      <td>2023-02-23 23:47:09</td>\n",
       "    </tr>\n",
       "  </tbody>\n",
       "</table>\n",
       "</div>"
      ],
      "text/plain": [
       "                     latitude  longitude           timestamp\n",
       "timestamp                                                   \n",
       "2023-02-23 23:46:41   -1.1107  -160.1816 2023-02-23 23:46:41\n",
       "2023-02-23 23:46:44   -1.2627  -160.0738 2023-02-23 23:46:44\n",
       "2023-02-23 23:46:47   -1.4147  -159.9661 2023-02-23 23:46:47\n",
       "2023-02-23 23:46:50   -1.5667  -159.8583 2023-02-23 23:46:50\n",
       "2023-02-23 23:46:54   -1.7440  -159.7326 2023-02-23 23:46:54\n",
       "2023-02-23 23:46:57   -1.8959  -159.6248 2023-02-23 23:46:57\n",
       "2023-02-23 23:47:00   -2.0479  -159.5170 2023-02-23 23:47:00\n",
       "2023-02-23 23:47:03   -2.1998  -159.4092 2023-02-23 23:47:03\n",
       "2023-02-23 23:47:06   -2.3516  -159.3014 2023-02-23 23:47:06\n",
       "2023-02-23 23:47:09   -2.5035  -159.1935 2023-02-23 23:47:09"
      ]
     },
     "execution_count": 10,
     "metadata": {},
     "output_type": "execute_result"
    }
   ],
   "source": [
    "iss_position_df = pd.DataFrame(iss_position)\n",
    "iss_position_df['timestamp']  = pd.to_datetime(iss_position_df['timestamp'], unit=\"s\")\n",
    "\n",
    "iss_position_df = iss_position_df.set_index(pd.DatetimeIndex(iss_position_df['timestamp']))\n",
    "iss_position_df[\"latitude\"] = iss_position_df[\"latitude\"].map(float)\n",
    "iss_position_df[\"longitude\"] = iss_position_df[\"longitude\"].map(float)\n",
    "iss_position_df"
   ]
  },
  {
   "cell_type": "markdown",
   "metadata": {},
   "source": [
    "Let's see how the ISS moves"
   ]
  },
  {
   "cell_type": "code",
   "execution_count": 11,
   "metadata": {},
   "outputs": [
    {
     "data": {
      "text/plain": [
       "<AxesSubplot:xlabel='latitude', ylabel='longitude'>"
      ]
     },
     "execution_count": 11,
     "metadata": {},
     "output_type": "execute_result"
    },
    {
     "data": {
      "image/png": "[encoded data removed]",
      "text/plain": [
       "<Figure size 640x480 with 1 Axes>"
      ]
     },
     "metadata": {},
     "output_type": "display_data"
    }
   ],
   "source": [
    "import matplotlib.pyplot as plt\n",
    "# This next line tells jupyter to render the images inline\n",
    "%matplotlib inline\n",
    "plt.style.use('ggplot')\n",
    "iss_position_df.plot(kind=\"scatter\", x=\"latitude\", y=\"longitude\")"
   ]
  },
  {
   "cell_type": "code",
   "execution_count": null,
   "metadata": {},
   "outputs": [],
   "source": []
  }
 ],
 "metadata": {
  "anaconda-cloud": {},
  "kernelspec": {
   "display_name": "Python 3 (ipykernel)",
   "language": "python",
   "name": "python3"
  },
  "language_info": {
   "codemirror_mode": {
    "name": "ipython",
    "version": 3
   },
   "file_extension": ".py",
   "mimetype": "text/x-python",
   "name": "python",
   "nbconvert_exporter": "python",
   "pygments_lexer": "ipython3",
   "version": "3.9.13"
  }
 },
 "nbformat": 4,
 "nbformat_minor": 1
}
