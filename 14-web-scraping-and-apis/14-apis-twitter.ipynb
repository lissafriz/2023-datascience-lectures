{
 "cells": [
  {
   "cell_type": "markdown",
   "metadata": {},
   "source": [
    "# Introduction to Data Science – Lecture 14 – APIs\n",
    "*COMP 5360 / MATH 4100, University of Utah, http://datasciencecourse.net/*\n",
    "\n",
    "In this lecture we will explore Twitter API. \n",
    "  \n",
    " * [Twitter](https://dev.twitter.com/rest/public)\n",
    " "
   ]
  },
  {
   "cell_type": "markdown",
   "metadata": {},
   "source": [
    "## Libraries and Authentication\n",
    "\n",
    "While we now have the skills to directly talk to an API, it's sometimes a little tedious. Popular APIs often have existing Python libraries that wrap around them. [Here](https://github.com/realpython/list-of-python-api-wrappers) is a long list of wrappers! \n",
    "\n",
    "Now we'll explore the Twitter API using the [twython library](https://github.com/ryanmcgrath/twython). Check out the [documentation](https://twython.readthedocs.io/en/latest/).\n",
    "\n",
    "Unfortunately, most professional APIs will require you to authenticate and will limit you in what you can do – mostly they limit how much data you can retreive at a certain time. To run the following code, you'll have to put in your own credentials (sorry – I can't share mine). \n",
    "\n",
    "Install twython:\n",
    "`pip install twython`\n",
    "\n",
    "* First, you need to have a developer account https://developer.twitter.com/en\n",
    "* Second, create an app \n",
    "* Third, save your api key and api key secret in a file `credentials.py` in the format:\n",
    "```python\n",
    "API_KEY = \"KEY\"\n",
    "API_KEY_SECRET = \"KEY\"\n",
    "```\n",
    "* You will need at least an Elevated access level (free) for the following code to work\n",
    "\n",
    "But before we get started, let's check out what [a tweet looks like](https://dev.twitter.com/overview/api/tweets):"
   ]
  },
  {
   "cell_type": "markdown",
   "metadata": {},
   "source": [
    "```JSON\n",
    "{'created_at': 'Mon Mar 01 19:58:00 +0000 2021',\n",
    "  'id': 1366477842213707784,\n",
    "  'id_str': '1366477842213707784',\n",
    "  'text': 'This afternoon, I’ll be meeting virtually with Mexican President Andrés Manuel López Obrador. The U.S.-Mexico relat… https://t.co/4M2OgsL7uX',\n",
    "  'truncated': True,\n",
    "  'entities': {'hashtags': [],\n",
    "   'symbols': [],\n",
    "   'user_mentions': [],\n",
    "   'urls': [{'url': 'https://t.co/4M2OgsL7uX',\n",
    "     'expanded_url': 'https://twitter.com/i/web/status/1366477842213707784',\n",
    "     'display_url': 'twitter.com/i/web/status/1…',\n",
    "     'indices': [117, 140]}]},\n",
    "  'source': '<a href=\"https://www.sprinklr.com\" rel=\"nofollow\">The White House</a>',\n",
    "  'in_reply_to_status_id': None,\n",
    "  'in_reply_to_status_id_str': None,\n",
    "  'in_reply_to_user_id': None,\n",
    "  'in_reply_to_user_id_str': None,\n",
    "  'in_reply_to_screen_name': None,\n",
    "  'user': {'id': 1349149096909668363,\n",
    "   'id_str': '1349149096909668363',\n",
    "   'name': 'President Biden',\n",
    "   'screen_name': 'POTUS',\n",
    "   'location': '',\n",
    "   'description': '46th President of the United States, husband to @FLOTUS, proud dad & pop. Tweets may be archived: https://t.co/IURuMIrzxb',\n",
    "   'url': 'https://t.co/IxLjEB2zlE',\n",
    "   'entities': {'url': {'urls': [{'url': 'https://t.co/IxLjEB2zlE',\n",
    "       'expanded_url': 'http://WhiteHouse.gov',\n",
    "       'display_url': 'WhiteHouse.gov',\n",
    "       'indices': [0, 23]}]},\n",
    "    'description': {'urls': [{'url': 'https://t.co/IURuMIrzxb',\n",
    "       'expanded_url': 'http://whitehouse.gov/privacy',\n",
    "       'display_url': 'whitehouse.gov/privacy',\n",
    "       'indices': [98, 121]}]}},\n",
    "   'protected': False,\n",
    "   'followers_count': 8329657,\n",
    "   'friends_count': 12,\n",
    "   'listed_count': 9248,\n",
    "   'created_at': 'Wed Jan 13 00:37:08 +0000 2021',\n",
    "   'favourites_count': 0,\n",
    "   'utc_offset': None,\n",
    "   'time_zone': None,\n",
    "   'geo_enabled': False,\n",
    "   'verified': True,\n",
    "   'statuses_count': 238,\n",
    "   'lang': None,\n",
    "   'contributors_enabled': False,\n",
    "   'is_translator': False,\n",
    "   'is_translation_enabled': False,\n",
    "   'profile_background_color': 'F5F8FA',\n",
    "   'profile_background_image_url': None,\n",
    "   'profile_background_image_url_https': None,\n",
    "   'profile_background_tile': False,\n",
    "   'profile_image_url': 'http://pbs.twimg.com/profile_images/1349837426626330628/CRMNXzQJ_normal.jpg',\n",
    "   'profile_image_url_https': 'https://pbs.twimg.com/profile_images/1349837426626330628/CRMNXzQJ_normal.jpg',\n",
    "   'profile_banner_url': 'https://pbs.twimg.com/profile_banners/1349149096909668363/1614313035',\n",
    "   'profile_link_color': '1DA1F2',\n",
    "   'profile_sidebar_border_color': 'C0DEED',\n",
    "   'profile_sidebar_fill_color': 'DDEEF6',\n",
    "   'profile_text_color': '333333',\n",
    "   'profile_use_background_image': True,\n",
    "   'has_extended_profile': True,\n",
    "   'default_profile': True,\n",
    "   'default_profile_image': False,\n",
    "   'following': None,\n",
    "   'follow_request_sent': None,\n",
    "   'notifications': None,\n",
    "   'translator_type': 'none'},\n",
    "  'geo': None,\n",
    "  'coordinates': None,\n",
    "  'place': None,\n",
    "  'contributors': None,\n",
    "  'is_quote_status': False,\n",
    "  'retweet_count': 2155,\n",
    "  'favorite_count': 19136,\n",
    "  'favorited': False,\n",
    "  'retweeted': False,\n",
    "  'lang': 'en'}\n",
    "```\n"
   ]
  },
  {
   "cell_type": "code",
   "execution_count": null,
   "metadata": {},
   "outputs": [],
   "source": [
    "from twython import Twython\n",
    "# credentials is a local file with your own credentials.\n",
    "# you will have to load your own credentials here.\n",
    "from credentials_bei import * \n",
    "twitter = Twython(API_KEY, API_KEY_SECRET)"
   ]
  },
  {
   "cell_type": "markdown",
   "metadata": {},
   "source": [
    "Here, we have created the Twython library object and authenticated against our user.\n",
    "\n",
    "Now let's search for a hashtag:"
   ]
  },
  {
   "cell_type": "code",
   "execution_count": null,
   "metadata": {},
   "outputs": [],
   "source": [
    "tag = \"#covid19\"\n",
    "result = twitter.search(q=tag, tweet_mode=\"extended\")\n",
    "result"
   ]
  },
  {
   "cell_type": "code",
   "execution_count": null,
   "metadata": {},
   "outputs": [],
   "source": [
    "tag = \"#war\"\n",
    "result = twitter.search(q=tag, tweet_mode=\"extended\")\n",
    "result"
   ]
  },
  {
   "cell_type": "markdown",
   "metadata": {},
   "source": [
    "The result is an array of tweets, we can look at specific text:"
   ]
  },
  {
   "cell_type": "code",
   "execution_count": null,
   "metadata": {},
   "outputs": [],
   "source": [
    "result[\"statuses\"][0][\"full_text\"]"
   ]
  },
  {
   "cell_type": "markdown",
   "metadata": {},
   "source": [
    "Or print all the tweets:"
   ]
  },
  {
   "cell_type": "code",
   "execution_count": null,
   "metadata": {},
   "outputs": [],
   "source": [
    "for status in result[\"statuses\"]:\n",
    "    print(status[\"full_text\"])\n",
    "    print(\"----\")"
   ]
  },
  {
   "cell_type": "markdown",
   "metadata": {},
   "source": [
    "## Analysis of Twitter Popularity\n",
    "\n",
    "Let's do a brief analysis of twitter popularity of two political figures: Joe Biden's official POTUS account and Alexandria Ocasio-Cortez. As you would expect, Biden's personal account has more twitter followers (29 million) than AOC (12.6 million), though the POTUS account has only 8 million followers. We're using the POTUS account, because Biden's account has mostly been used for retweeting POTUS ever since he took office. As an aside, Barack Obama has 130 million followers, and Justin Bieber has 114 million. "
   ]
  },
  {
   "cell_type": "markdown",
   "metadata": {},
   "source": [
    "We can search for tweets based on usernames:"
   ]
  },
  {
   "cell_type": "code",
   "execution_count": null,
   "metadata": {},
   "outputs": [],
   "source": [
    "result = twitter.search(q=\"@joebiden\",  tweet_mode=\"extended\")\n",
    "for status in result[\"statuses\"]:\n",
    "    print(status[\"full_text\"])\n",
    "    print(\"----\")"
   ]
  },
  {
   "cell_type": "markdown",
   "metadata": {},
   "source": [
    "This returns all tweets that are mentioning a username. \n",
    "\n",
    "We can also explicitly get the tweets of a person. Let's download Biden's last 50 tweets. [Here](https://dev.twitter.com/rest/reference/get/statuses/user_timeline) is the relevant API documentation, [here](https://github.com/ryanmcgrath/twython/blob/master/twython/endpoints.py) are the definitions for twython. \n",
    "\n",
    "Note that you get an error message if you try this with an account that is locked (like Trump's) or that doesn't exist."
   ]
  },
  {
   "cell_type": "code",
   "execution_count": null,
   "metadata": {},
   "outputs": [],
   "source": [
    "#twitter = Twython(CONSUMER_KEY, CONSUMER_SECRET, ACCESS_TOKEN, ACCESS_TOKEN_SECRET)\n",
    "\n",
    "# count is limited to the last 3200 tweets of a user, a max of 200 per request\n",
    "biden_result = twitter.get_user_timeline(screen_name=\"potus\", count=50)\n",
    "biden_result"
   ]
  },
  {
   "cell_type": "markdown",
   "metadata": {},
   "source": [
    "Let's count the numbers for Biden's favorites and retweets."
   ]
  },
  {
   "cell_type": "code",
   "execution_count": null,
   "metadata": {},
   "outputs": [],
   "source": [
    "biden_favorites = []\n",
    "biden_retweets = []\n",
    "biden_texts = []\n",
    "for status in biden_result:\n",
    "    print(status[\"text\"])\n",
    "    print(status[\"favorite_count\"])\n",
    "    print(\"----\")\n",
    "    biden_favorites.append(status[\"favorite_count\"])\n",
    "    biden_retweets.append(status[\"retweet_count\"])\n",
    "    biden_texts.append(status[\"text\"])"
   ]
  },
  {
   "cell_type": "markdown",
   "metadata": {},
   "source": [
    "Now let's do the same for Alexandria Ocasio-Cortez."
   ]
  },
  {
   "cell_type": "code",
   "execution_count": null,
   "metadata": {},
   "outputs": [],
   "source": [
    "aoc_results = twitter.get_user_timeline(screen_name=\"aoc\", count=50)\n",
    "aoc_results"
   ]
  },
  {
   "cell_type": "code",
   "execution_count": null,
   "metadata": {},
   "outputs": [],
   "source": [
    "aoc_favorites = []\n",
    "aoc_retweets = []\n",
    "aoc_texts = []\n",
    "for status in aoc_results:\n",
    "    print(status[\"text\"])\n",
    "    print(status[\"favorite_count\"])\n",
    "    print(\"----\")\n",
    "    aoc_favorites.append(status[\"favorite_count\"])\n",
    "    aoc_retweets.append(status[\"retweet_count\"])\n",
    "    aoc_texts.append(status[\"text\"])"
   ]
  },
  {
   "cell_type": "markdown",
   "metadata": {},
   "source": [
    "And let's create DataFrames for both of them and explore their stats:"
   ]
  },
  {
   "cell_type": "code",
   "execution_count": null,
   "metadata": {},
   "outputs": [],
   "source": [
    "import pandas as pd \n",
    "\n",
    "biden_stats = pd.DataFrame({\n",
    "        \"Biden Fav\":biden_favorites,\n",
    "        \"Biden RT\":biden_retweets,\n",
    "        \"Biden Text\":biden_texts\n",
    "    })\n",
    "\n",
    "aoc_stats = pd.DataFrame({\n",
    "      \"AOC Fav\":aoc_favorites,\n",
    "      \"AOC RT\":aoc_retweets, \n",
    "      \"AOC Text\":aoc_texts\n",
    "        })"
   ]
  },
  {
   "cell_type": "code",
   "execution_count": null,
   "metadata": {},
   "outputs": [],
   "source": [
    "biden_stats.head()"
   ]
  },
  {
   "cell_type": "code",
   "execution_count": null,
   "metadata": {},
   "outputs": [],
   "source": [
    "biden_stats.describe()"
   ]
  },
  {
   "cell_type": "markdown",
   "metadata": {},
   "source": [
    "We will plot the tweet data; but we have to sort them first so that they make sense. "
   ]
  },
  {
   "cell_type": "code",
   "execution_count": null,
   "metadata": {},
   "outputs": [],
   "source": [
    "biden_stats = biden_stats.sort_values(\"Biden Fav\", ascending=False)\n",
    "biden_stats = biden_stats.reset_index(drop=True)\n",
    "biden_stats.head(30)"
   ]
  },
  {
   "cell_type": "code",
   "execution_count": null,
   "metadata": {},
   "outputs": [],
   "source": [
    "biden_stats.tail(10)"
   ]
  },
  {
   "cell_type": "code",
   "execution_count": null,
   "metadata": {},
   "outputs": [],
   "source": [
    "aoc_stats = aoc_stats.sort_values(\"AOC Fav\", ascending=False)\n",
    "aoc_stats = aoc_stats.reset_index(drop=True)\n",
    "aoc_stats.head(30)"
   ]
  },
  {
   "cell_type": "code",
   "execution_count": null,
   "metadata": {},
   "outputs": [],
   "source": [
    "combined = aoc_stats.copy()\n",
    "combined[\"Biden Fav\"] = biden_stats[\"Biden Fav\"]\n",
    "combined[\"Biden RT\"] = biden_stats[\"Biden RT\"]"
   ]
  },
  {
   "cell_type": "code",
   "execution_count": null,
   "metadata": {},
   "outputs": [],
   "source": [
    "combined.plot()"
   ]
  },
  {
   "cell_type": "code",
   "execution_count": null,
   "metadata": {},
   "outputs": [],
   "source": [
    "russia_results = twitter.get_user_timeline(screen_name=\"KremlinRussia_E\", count=50)\n",
    "russia_results"
   ]
  },
  {
   "cell_type": "code",
   "execution_count": null,
   "metadata": {},
   "outputs": [],
   "source": []
  }
 ],
 "metadata": {
  "anaconda-cloud": {},
  "kernelspec": {
   "display_name": "Python 3 (ipykernel)",
   "language": "python",
   "name": "python3"
  },
  "language_info": {
   "codemirror_mode": {
    "name": "ipython",
    "version": 3
   },
   "file_extension": ".py",
   "mimetype": "text/x-python",
   "name": "python",
   "nbconvert_exporter": "python",
   "pygments_lexer": "ipython3",
   "version": "3.9.16"
  }
 },
 "nbformat": 4,
 "nbformat_minor": 1
}
