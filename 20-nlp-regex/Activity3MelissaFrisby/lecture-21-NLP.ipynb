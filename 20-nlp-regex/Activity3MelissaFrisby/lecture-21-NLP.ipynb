{
 "cells": [
  {
   "cell_type": "markdown",
   "metadata": {},
   "source": [
    "# Introduction to Data Science – Practical Natural Language Processing (NLP)\n",
    "*COMP 5360 / MATH 4100, University of Utah, http://datasciencecourse.net/* \n",
    "\n",
    "In this lecture, we introduce some practical NLP following up on the theoretical lecture. We will do some basic text processing followed by analyzing sentiment for movie reviews. For this purpose, we'll introduce  the [Natural Language Toolkit (NLTK)](http://www.nltk.org/), a Python library for natural language processing. \n",
    "\n",
    "We won't cover NLTK or NLP extensively here – this lecture is meant to give you a few pointers if you want to use NLP in the future, e.g., for your project.\n",
    "\n",
    "Also, there is a well-regarded alternative to NLTK: [Spacy](https://spacy.io/). If you're planning to use a lot of NLP in your project, that might be worth checking out. \n",
    "\n",
    "**Reading:** \n",
    "\n",
    "[S. Bird, E. Klein, and E. Loper, *Natural Language Processing with Python – Analyzing Text with the Natural Language Toolkit*](http://www.nltk.org/book/). \n",
    "\n",
    "\n",
    "[C. Manning and H. Schütze, *Foundations of Statistical Natural Language Processing* (1999).](http://nlp.stanford.edu/fsnlp/)\n",
    "\n",
    "[D. Jurafsky and J. H. Martin, *Speech and Language Processing* (2016).](https://web.stanford.edu/~jurafsky/slp3/)"
   ]
  },
  {
   "cell_type": "markdown",
   "metadata": {},
   "source": [
    "**Next week:** guest lecturer Dr. Ana Marasovic will be speaking about state-of-the-art techniques!   \n",
    "\n",
    "We also recommend last year's guest lecture, by Yichu Zhou: [https://youtu.be/WengvXA8XzM](https://youtu.be/WengvXA8XzM)\n",
    "\n",
    "*Note: We will also be demonstrating CoLab for collaborative notebook editing in the extra time at this lecture.*"
   ]
  },
  {
   "cell_type": "markdown",
   "metadata": {},
   "source": [
    "### NLP Tasks\n",
    "\n",
    "There are several tasks we might perform in understand text data:\n",
    "* Part of speech tagging (what are the nouns, verbs, adjectives, prepositions).\n",
    "+ Information Extraction\n",
    "+ Sentiment Analysis (determine the attitude of text, e.g., is it positive or negative).\n",
    "+ Semantic Parsing (translate natural language into a formal meaning representation).\n",
    "\n",
    "The current strategy for many NLP tasks is to find a good way to represent the text (\"extract features\") and then to use machine learning / statistics tools, such as classification or clustering. \n",
    "\n",
    "Our goal today is to use NLTK + scikit-learn to do some basic NLP tasks."
   ]
  },
  {
   "cell_type": "markdown",
   "metadata": {},
   "source": [
    "### Install datasets and models\n",
    "\n",
    "To use NLTK, you must first download and install the datasets and models. Run the following:"
   ]
  },
  {
   "cell_type": "code",
   "execution_count": 1,
   "metadata": {
    "scrolled": true
   },
   "outputs": [
    {
     "name": "stderr",
     "output_type": "stream",
     "text": [
      "[nltk_data] Downloading collection 'all'\n",
      "[nltk_data]    | \n",
      "[nltk_data]    | Downloading package abc to\n",
      "[nltk_data]    |     C:\\Users\\lissa\\AppData\\Roaming\\nltk_data...\n",
      "[nltk_data]    |   Unzipping corpora\\abc.zip.\n",
      "[nltk_data]    | Downloading package alpino to\n",
      "[nltk_data]    |     C:\\Users\\lissa\\AppData\\Roaming\\nltk_data...\n",
      "[nltk_data]    |   Unzipping corpora\\alpino.zip.\n",
      "[nltk_data]    | Downloading package averaged_perceptron_tagger to\n",
      "[nltk_data]    |     C:\\Users\\lissa\\AppData\\Roaming\\nltk_data...\n",
      "[nltk_data]    |   Unzipping taggers\\averaged_perceptron_tagger.zip.\n",
      "[nltk_data]    | Downloading package averaged_perceptron_tagger_ru to\n",
      "[nltk_data]    |     C:\\Users\\lissa\\AppData\\Roaming\\nltk_data...\n",
      "[nltk_data]    |   Unzipping\n",
      "[nltk_data]    |       taggers\\averaged_perceptron_tagger_ru.zip.\n",
      "[nltk_data]    | Downloading package basque_grammars to\n",
      "[nltk_data]    |     C:\\Users\\lissa\\AppData\\Roaming\\nltk_data...\n",
      "[nltk_data]    |   Unzipping grammars\\basque_grammars.zip.\n",
      "[nltk_data]    | Downloading package bcp47 to\n",
      "[nltk_data]    |     C:\\Users\\lissa\\AppData\\Roaming\\nltk_data...\n",
      "[nltk_data]    | Downloading package biocreative_ppi to\n",
      "[nltk_data]    |     C:\\Users\\lissa\\AppData\\Roaming\\nltk_data...\n",
      "[nltk_data]    |   Unzipping corpora\\biocreative_ppi.zip.\n",
      "[nltk_data]    | Downloading package bllip_wsj_no_aux to\n",
      "[nltk_data]    |     C:\\Users\\lissa\\AppData\\Roaming\\nltk_data...\n",
      "[nltk_data]    |   Unzipping models\\bllip_wsj_no_aux.zip.\n",
      "[nltk_data]    | Downloading package book_grammars to\n",
      "[nltk_data]    |     C:\\Users\\lissa\\AppData\\Roaming\\nltk_data...\n",
      "[nltk_data]    |   Unzipping grammars\\book_grammars.zip.\n",
      "[nltk_data]    | Downloading package brown to\n",
      "[nltk_data]    |     C:\\Users\\lissa\\AppData\\Roaming\\nltk_data...\n",
      "[nltk_data]    |   Unzipping corpora\\brown.zip.\n",
      "[nltk_data]    | Downloading package brown_tei to\n",
      "[nltk_data]    |     C:\\Users\\lissa\\AppData\\Roaming\\nltk_data...\n",
      "[nltk_data]    |   Unzipping corpora\\brown_tei.zip.\n",
      "[nltk_data]    | Downloading package cess_cat to\n",
      "[nltk_data]    |     C:\\Users\\lissa\\AppData\\Roaming\\nltk_data...\n",
      "[nltk_data]    |   Unzipping corpora\\cess_cat.zip.\n",
      "[nltk_data]    | Downloading package cess_esp to\n",
      "[nltk_data]    |     C:\\Users\\lissa\\AppData\\Roaming\\nltk_data...\n",
      "[nltk_data]    |   Unzipping corpora\\cess_esp.zip.\n",
      "[nltk_data]    | Downloading package chat80 to\n",
      "[nltk_data]    |     C:\\Users\\lissa\\AppData\\Roaming\\nltk_data...\n",
      "[nltk_data]    |   Unzipping corpora\\chat80.zip.\n",
      "[nltk_data]    | Downloading package city_database to\n",
      "[nltk_data]    |     C:\\Users\\lissa\\AppData\\Roaming\\nltk_data...\n",
      "[nltk_data]    |   Unzipping corpora\\city_database.zip.\n",
      "[nltk_data]    | Downloading package cmudict to\n",
      "[nltk_data]    |     C:\\Users\\lissa\\AppData\\Roaming\\nltk_data...\n",
      "[nltk_data]    |   Unzipping corpora\\cmudict.zip.\n",
      "[nltk_data]    | Downloading package comparative_sentences to\n",
      "[nltk_data]    |     C:\\Users\\lissa\\AppData\\Roaming\\nltk_data...\n",
      "[nltk_data]    |   Unzipping corpora\\comparative_sentences.zip.\n",
      "[nltk_data]    | Downloading package comtrans to\n",
      "[nltk_data]    |     C:\\Users\\lissa\\AppData\\Roaming\\nltk_data...\n",
      "[nltk_data]    | Downloading package conll2000 to\n",
      "[nltk_data]    |     C:\\Users\\lissa\\AppData\\Roaming\\nltk_data...\n",
      "[nltk_data]    |   Unzipping corpora\\conll2000.zip.\n",
      "[nltk_data]    | Downloading package conll2002 to\n",
      "[nltk_data]    |     C:\\Users\\lissa\\AppData\\Roaming\\nltk_data...\n",
      "[nltk_data]    |   Unzipping corpora\\conll2002.zip.\n",
      "[nltk_data]    | Downloading package conll2007 to\n",
      "[nltk_data]    |     C:\\Users\\lissa\\AppData\\Roaming\\nltk_data...\n",
      "[nltk_data]    | Downloading package crubadan to\n",
      "[nltk_data]    |     C:\\Users\\lissa\\AppData\\Roaming\\nltk_data...\n",
      "[nltk_data]    |   Unzipping corpora\\crubadan.zip.\n",
      "[nltk_data]    | Downloading package dependency_treebank to\n",
      "[nltk_data]    |     C:\\Users\\lissa\\AppData\\Roaming\\nltk_data...\n",
      "[nltk_data]    |   Unzipping corpora\\dependency_treebank.zip.\n",
      "[nltk_data]    | Downloading package dolch to\n",
      "[nltk_data]    |     C:\\Users\\lissa\\AppData\\Roaming\\nltk_data...\n",
      "[nltk_data]    |   Unzipping corpora\\dolch.zip.\n",
      "[nltk_data]    | Downloading package europarl_raw to\n",
      "[nltk_data]    |     C:\\Users\\lissa\\AppData\\Roaming\\nltk_data...\n",
      "[nltk_data]    |   Unzipping corpora\\europarl_raw.zip.\n",
      "[nltk_data]    | Downloading package extended_omw to\n",
      "[nltk_data]    |     C:\\Users\\lissa\\AppData\\Roaming\\nltk_data...\n",
      "[nltk_data]    | Downloading package floresta to\n",
      "[nltk_data]    |     C:\\Users\\lissa\\AppData\\Roaming\\nltk_data...\n",
      "[nltk_data]    |   Unzipping corpora\\floresta.zip.\n",
      "[nltk_data]    | Downloading package framenet_v15 to\n",
      "[nltk_data]    |     C:\\Users\\lissa\\AppData\\Roaming\\nltk_data...\n",
      "[nltk_data]    |   Unzipping corpora\\framenet_v15.zip.\n",
      "[nltk_data]    | Downloading package framenet_v17 to\n",
      "[nltk_data]    |     C:\\Users\\lissa\\AppData\\Roaming\\nltk_data...\n",
      "[nltk_data]    |   Unzipping corpora\\framenet_v17.zip.\n",
      "[nltk_data]    | Downloading package gazetteers to\n",
      "[nltk_data]    |     C:\\Users\\lissa\\AppData\\Roaming\\nltk_data...\n",
      "[nltk_data]    |   Unzipping corpora\\gazetteers.zip.\n",
      "[nltk_data]    | Downloading package genesis to\n",
      "[nltk_data]    |     C:\\Users\\lissa\\AppData\\Roaming\\nltk_data...\n",
      "[nltk_data]    |   Unzipping corpora\\genesis.zip.\n",
      "[nltk_data]    | Downloading package gutenberg to\n",
      "[nltk_data]    |     C:\\Users\\lissa\\AppData\\Roaming\\nltk_data...\n",
      "[nltk_data]    |   Unzipping corpora\\gutenberg.zip.\n",
      "[nltk_data]    | Downloading package ieer to\n",
      "[nltk_data]    |     C:\\Users\\lissa\\AppData\\Roaming\\nltk_data...\n",
      "[nltk_data]    |   Unzipping corpora\\ieer.zip.\n",
      "[nltk_data]    | Downloading package inaugural to\n",
      "[nltk_data]    |     C:\\Users\\lissa\\AppData\\Roaming\\nltk_data...\n",
      "[nltk_data]    |   Unzipping corpora\\inaugural.zip.\n",
      "[nltk_data]    | Downloading package indian to\n",
      "[nltk_data]    |     C:\\Users\\lissa\\AppData\\Roaming\\nltk_data...\n",
      "[nltk_data]    |   Unzipping corpora\\indian.zip.\n",
      "[nltk_data]    | Downloading package jeita to\n",
      "[nltk_data]    |     C:\\Users\\lissa\\AppData\\Roaming\\nltk_data...\n",
      "[nltk_data]    | Downloading package kimmo to\n",
      "[nltk_data]    |     C:\\Users\\lissa\\AppData\\Roaming\\nltk_data...\n",
      "[nltk_data]    |   Unzipping corpora\\kimmo.zip.\n",
      "[nltk_data]    | Downloading package knbc to\n",
      "[nltk_data]    |     C:\\Users\\lissa\\AppData\\Roaming\\nltk_data...\n",
      "[nltk_data]    | Downloading package large_grammars to\n",
      "[nltk_data]    |     C:\\Users\\lissa\\AppData\\Roaming\\nltk_data...\n",
      "[nltk_data]    |   Unzipping grammars\\large_grammars.zip.\n",
      "[nltk_data]    | Downloading package lin_thesaurus to\n",
      "[nltk_data]    |     C:\\Users\\lissa\\AppData\\Roaming\\nltk_data...\n",
      "[nltk_data]    |   Unzipping corpora\\lin_thesaurus.zip.\n",
      "[nltk_data]    | Downloading package mac_morpho to\n",
      "[nltk_data]    |     C:\\Users\\lissa\\AppData\\Roaming\\nltk_data...\n",
      "[nltk_data]    |   Unzipping corpora\\mac_morpho.zip.\n",
      "[nltk_data]    | Downloading package machado to\n",
      "[nltk_data]    |     C:\\Users\\lissa\\AppData\\Roaming\\nltk_data...\n",
      "[nltk_data]    | Downloading package masc_tagged to\n",
      "[nltk_data]    |     C:\\Users\\lissa\\AppData\\Roaming\\nltk_data...\n",
      "[nltk_data]    | Downloading package maxent_ne_chunker to\n",
      "[nltk_data]    |     C:\\Users\\lissa\\AppData\\Roaming\\nltk_data...\n",
      "[nltk_data]    |   Unzipping chunkers\\maxent_ne_chunker.zip.\n",
      "[nltk_data]    | Downloading package maxent_treebank_pos_tagger to\n",
      "[nltk_data]    |     C:\\Users\\lissa\\AppData\\Roaming\\nltk_data...\n",
      "[nltk_data]    |   Unzipping taggers\\maxent_treebank_pos_tagger.zip.\n",
      "[nltk_data]    | Downloading package moses_sample to\n",
      "[nltk_data]    |     C:\\Users\\lissa\\AppData\\Roaming\\nltk_data...\n",
      "[nltk_data]    |   Unzipping models\\moses_sample.zip.\n",
      "[nltk_data]    | Downloading package movie_reviews to\n",
      "[nltk_data]    |     C:\\Users\\lissa\\AppData\\Roaming\\nltk_data...\n",
      "[nltk_data]    |   Unzipping corpora\\movie_reviews.zip.\n",
      "[nltk_data]    | Downloading package mte_teip5 to\n",
      "[nltk_data]    |     C:\\Users\\lissa\\AppData\\Roaming\\nltk_data...\n",
      "[nltk_data]    |   Unzipping corpora\\mte_teip5.zip.\n",
      "[nltk_data]    | Downloading package mwa_ppdb to\n",
      "[nltk_data]    |     C:\\Users\\lissa\\AppData\\Roaming\\nltk_data...\n",
      "[nltk_data]    |   Unzipping misc\\mwa_ppdb.zip.\n",
      "[nltk_data]    | Downloading package names to\n",
      "[nltk_data]    |     C:\\Users\\lissa\\AppData\\Roaming\\nltk_data...\n",
      "[nltk_data]    |   Unzipping corpora\\names.zip.\n",
      "[nltk_data]    | Downloading package nombank.1.0 to\n",
      "[nltk_data]    |     C:\\Users\\lissa\\AppData\\Roaming\\nltk_data...\n"
     ]
    },
    {
     "name": "stderr",
     "output_type": "stream",
     "text": [
      "[nltk_data]    | Downloading package nonbreaking_prefixes to\n",
      "[nltk_data]    |     C:\\Users\\lissa\\AppData\\Roaming\\nltk_data...\n",
      "[nltk_data]    |   Unzipping corpora\\nonbreaking_prefixes.zip.\n",
      "[nltk_data]    | Downloading package nps_chat to\n",
      "[nltk_data]    |     C:\\Users\\lissa\\AppData\\Roaming\\nltk_data...\n",
      "[nltk_data]    |   Unzipping corpora\\nps_chat.zip.\n",
      "[nltk_data]    | Downloading package omw to\n",
      "[nltk_data]    |     C:\\Users\\lissa\\AppData\\Roaming\\nltk_data...\n",
      "[nltk_data]    | Downloading package omw-1.4 to\n",
      "[nltk_data]    |     C:\\Users\\lissa\\AppData\\Roaming\\nltk_data...\n",
      "[nltk_data]    | Downloading package opinion_lexicon to\n",
      "[nltk_data]    |     C:\\Users\\lissa\\AppData\\Roaming\\nltk_data...\n",
      "[nltk_data]    |   Unzipping corpora\\opinion_lexicon.zip.\n",
      "[nltk_data]    | Downloading package panlex_swadesh to\n",
      "[nltk_data]    |     C:\\Users\\lissa\\AppData\\Roaming\\nltk_data...\n",
      "[nltk_data]    | Downloading package paradigms to\n",
      "[nltk_data]    |     C:\\Users\\lissa\\AppData\\Roaming\\nltk_data...\n",
      "[nltk_data]    |   Unzipping corpora\\paradigms.zip.\n",
      "[nltk_data]    | Downloading package pe08 to\n",
      "[nltk_data]    |     C:\\Users\\lissa\\AppData\\Roaming\\nltk_data...\n",
      "[nltk_data]    |   Unzipping corpora\\pe08.zip.\n",
      "[nltk_data]    | Downloading package perluniprops to\n",
      "[nltk_data]    |     C:\\Users\\lissa\\AppData\\Roaming\\nltk_data...\n",
      "[nltk_data]    |   Unzipping misc\\perluniprops.zip.\n",
      "[nltk_data]    | Downloading package pil to\n",
      "[nltk_data]    |     C:\\Users\\lissa\\AppData\\Roaming\\nltk_data...\n",
      "[nltk_data]    |   Unzipping corpora\\pil.zip.\n",
      "[nltk_data]    | Downloading package pl196x to\n",
      "[nltk_data]    |     C:\\Users\\lissa\\AppData\\Roaming\\nltk_data...\n",
      "[nltk_data]    |   Unzipping corpora\\pl196x.zip.\n",
      "[nltk_data]    | Downloading package porter_test to\n",
      "[nltk_data]    |     C:\\Users\\lissa\\AppData\\Roaming\\nltk_data...\n",
      "[nltk_data]    |   Unzipping stemmers\\porter_test.zip.\n",
      "[nltk_data]    | Downloading package ppattach to\n",
      "[nltk_data]    |     C:\\Users\\lissa\\AppData\\Roaming\\nltk_data...\n",
      "[nltk_data]    |   Unzipping corpora\\ppattach.zip.\n",
      "[nltk_data]    | Downloading package problem_reports to\n",
      "[nltk_data]    |     C:\\Users\\lissa\\AppData\\Roaming\\nltk_data...\n",
      "[nltk_data]    |   Unzipping corpora\\problem_reports.zip.\n",
      "[nltk_data]    | Downloading package product_reviews_1 to\n",
      "[nltk_data]    |     C:\\Users\\lissa\\AppData\\Roaming\\nltk_data...\n",
      "[nltk_data]    |   Unzipping corpora\\product_reviews_1.zip.\n",
      "[nltk_data]    | Downloading package product_reviews_2 to\n",
      "[nltk_data]    |     C:\\Users\\lissa\\AppData\\Roaming\\nltk_data...\n",
      "[nltk_data]    |   Unzipping corpora\\product_reviews_2.zip.\n",
      "[nltk_data]    | Downloading package propbank to\n",
      "[nltk_data]    |     C:\\Users\\lissa\\AppData\\Roaming\\nltk_data...\n",
      "[nltk_data]    | Downloading package pros_cons to\n",
      "[nltk_data]    |     C:\\Users\\lissa\\AppData\\Roaming\\nltk_data...\n",
      "[nltk_data]    |   Unzipping corpora\\pros_cons.zip.\n",
      "[nltk_data]    | Downloading package ptb to\n",
      "[nltk_data]    |     C:\\Users\\lissa\\AppData\\Roaming\\nltk_data...\n",
      "[nltk_data]    |   Unzipping corpora\\ptb.zip.\n",
      "[nltk_data]    | Downloading package punkt to\n",
      "[nltk_data]    |     C:\\Users\\lissa\\AppData\\Roaming\\nltk_data...\n",
      "[nltk_data]    |   Unzipping tokenizers\\punkt.zip.\n",
      "[nltk_data]    | Downloading package qc to\n",
      "[nltk_data]    |     C:\\Users\\lissa\\AppData\\Roaming\\nltk_data...\n",
      "[nltk_data]    |   Unzipping corpora\\qc.zip.\n",
      "[nltk_data]    | Downloading package reuters to\n",
      "[nltk_data]    |     C:\\Users\\lissa\\AppData\\Roaming\\nltk_data...\n",
      "[nltk_data]    | Downloading package rslp to\n",
      "[nltk_data]    |     C:\\Users\\lissa\\AppData\\Roaming\\nltk_data...\n",
      "[nltk_data]    |   Unzipping stemmers\\rslp.zip.\n",
      "[nltk_data]    | Downloading package rte to\n",
      "[nltk_data]    |     C:\\Users\\lissa\\AppData\\Roaming\\nltk_data...\n",
      "[nltk_data]    |   Unzipping corpora\\rte.zip.\n",
      "[nltk_data]    | Downloading package sample_grammars to\n",
      "[nltk_data]    |     C:\\Users\\lissa\\AppData\\Roaming\\nltk_data...\n",
      "[nltk_data]    |   Unzipping grammars\\sample_grammars.zip.\n",
      "[nltk_data]    | Downloading package semcor to\n",
      "[nltk_data]    |     C:\\Users\\lissa\\AppData\\Roaming\\nltk_data...\n",
      "[nltk_data]    | Downloading package senseval to\n",
      "[nltk_data]    |     C:\\Users\\lissa\\AppData\\Roaming\\nltk_data...\n",
      "[nltk_data]    |   Unzipping corpora\\senseval.zip.\n",
      "[nltk_data]    | Downloading package sentence_polarity to\n",
      "[nltk_data]    |     C:\\Users\\lissa\\AppData\\Roaming\\nltk_data...\n",
      "[nltk_data]    |   Unzipping corpora\\sentence_polarity.zip.\n",
      "[nltk_data]    | Downloading package sentiwordnet to\n",
      "[nltk_data]    |     C:\\Users\\lissa\\AppData\\Roaming\\nltk_data...\n",
      "[nltk_data]    |   Unzipping corpora\\sentiwordnet.zip.\n",
      "[nltk_data]    | Downloading package shakespeare to\n",
      "[nltk_data]    |     C:\\Users\\lissa\\AppData\\Roaming\\nltk_data...\n",
      "[nltk_data]    |   Unzipping corpora\\shakespeare.zip.\n",
      "[nltk_data]    | Downloading package sinica_treebank to\n",
      "[nltk_data]    |     C:\\Users\\lissa\\AppData\\Roaming\\nltk_data...\n",
      "[nltk_data]    |   Unzipping corpora\\sinica_treebank.zip.\n",
      "[nltk_data]    | Downloading package smultron to\n",
      "[nltk_data]    |     C:\\Users\\lissa\\AppData\\Roaming\\nltk_data...\n",
      "[nltk_data]    |   Unzipping corpora\\smultron.zip.\n",
      "[nltk_data]    | Downloading package snowball_data to\n",
      "[nltk_data]    |     C:\\Users\\lissa\\AppData\\Roaming\\nltk_data...\n",
      "[nltk_data]    | Downloading package spanish_grammars to\n",
      "[nltk_data]    |     C:\\Users\\lissa\\AppData\\Roaming\\nltk_data...\n",
      "[nltk_data]    |   Unzipping grammars\\spanish_grammars.zip.\n",
      "[nltk_data]    | Downloading package state_union to\n",
      "[nltk_data]    |     C:\\Users\\lissa\\AppData\\Roaming\\nltk_data...\n",
      "[nltk_data]    |   Unzipping corpora\\state_union.zip.\n",
      "[nltk_data]    | Downloading package stopwords to\n",
      "[nltk_data]    |     C:\\Users\\lissa\\AppData\\Roaming\\nltk_data...\n",
      "[nltk_data]    |   Unzipping corpora\\stopwords.zip.\n",
      "[nltk_data]    | Downloading package subjectivity to\n",
      "[nltk_data]    |     C:\\Users\\lissa\\AppData\\Roaming\\nltk_data...\n",
      "[nltk_data]    |   Unzipping corpora\\subjectivity.zip.\n",
      "[nltk_data]    | Downloading package swadesh to\n",
      "[nltk_data]    |     C:\\Users\\lissa\\AppData\\Roaming\\nltk_data...\n",
      "[nltk_data]    |   Unzipping corpora\\swadesh.zip.\n",
      "[nltk_data]    | Downloading package switchboard to\n",
      "[nltk_data]    |     C:\\Users\\lissa\\AppData\\Roaming\\nltk_data...\n",
      "[nltk_data]    |   Unzipping corpora\\switchboard.zip.\n",
      "[nltk_data]    | Downloading package tagsets to\n",
      "[nltk_data]    |     C:\\Users\\lissa\\AppData\\Roaming\\nltk_data...\n",
      "[nltk_data]    |   Unzipping help\\tagsets.zip.\n",
      "[nltk_data]    | Downloading package timit to\n",
      "[nltk_data]    |     C:\\Users\\lissa\\AppData\\Roaming\\nltk_data...\n",
      "[nltk_data]    |   Unzipping corpora\\timit.zip.\n",
      "[nltk_data]    | Downloading package toolbox to\n",
      "[nltk_data]    |     C:\\Users\\lissa\\AppData\\Roaming\\nltk_data...\n",
      "[nltk_data]    |   Unzipping corpora\\toolbox.zip.\n",
      "[nltk_data]    | Downloading package treebank to\n",
      "[nltk_data]    |     C:\\Users\\lissa\\AppData\\Roaming\\nltk_data...\n",
      "[nltk_data]    |   Unzipping corpora\\treebank.zip.\n",
      "[nltk_data]    | Downloading package twitter_samples to\n",
      "[nltk_data]    |     C:\\Users\\lissa\\AppData\\Roaming\\nltk_data...\n",
      "[nltk_data]    |   Unzipping corpora\\twitter_samples.zip.\n",
      "[nltk_data]    | Downloading package udhr to\n",
      "[nltk_data]    |     C:\\Users\\lissa\\AppData\\Roaming\\nltk_data...\n",
      "[nltk_data]    |   Unzipping corpora\\udhr.zip.\n",
      "[nltk_data]    | Downloading package udhr2 to\n",
      "[nltk_data]    |     C:\\Users\\lissa\\AppData\\Roaming\\nltk_data...\n",
      "[nltk_data]    |   Unzipping corpora\\udhr2.zip.\n",
      "[nltk_data]    | Downloading package unicode_samples to\n",
      "[nltk_data]    |     C:\\Users\\lissa\\AppData\\Roaming\\nltk_data...\n",
      "[nltk_data]    |   Unzipping corpora\\unicode_samples.zip.\n",
      "[nltk_data]    | Downloading package universal_tagset to\n",
      "[nltk_data]    |     C:\\Users\\lissa\\AppData\\Roaming\\nltk_data...\n",
      "[nltk_data]    |   Unzipping taggers\\universal_tagset.zip.\n",
      "[nltk_data]    | Downloading package universal_treebanks_v20 to\n",
      "[nltk_data]    |     C:\\Users\\lissa\\AppData\\Roaming\\nltk_data...\n",
      "[nltk_data]    | Downloading package vader_lexicon to\n",
      "[nltk_data]    |     C:\\Users\\lissa\\AppData\\Roaming\\nltk_data...\n",
      "[nltk_data]    | Downloading package verbnet to\n",
      "[nltk_data]    |     C:\\Users\\lissa\\AppData\\Roaming\\nltk_data...\n",
      "[nltk_data]    |   Unzipping corpora\\verbnet.zip.\n",
      "[nltk_data]    | Downloading package verbnet3 to\n",
      "[nltk_data]    |     C:\\Users\\lissa\\AppData\\Roaming\\nltk_data...\n"
     ]
    },
    {
     "name": "stderr",
     "output_type": "stream",
     "text": [
      "[nltk_data]    |   Unzipping corpora\\verbnet3.zip.\n",
      "[nltk_data]    | Downloading package webtext to\n",
      "[nltk_data]    |     C:\\Users\\lissa\\AppData\\Roaming\\nltk_data...\n",
      "[nltk_data]    |   Unzipping corpora\\webtext.zip.\n",
      "[nltk_data]    | Downloading package wmt15_eval to\n",
      "[nltk_data]    |     C:\\Users\\lissa\\AppData\\Roaming\\nltk_data...\n",
      "[nltk_data]    |   Unzipping models\\wmt15_eval.zip.\n",
      "[nltk_data]    | Downloading package word2vec_sample to\n",
      "[nltk_data]    |     C:\\Users\\lissa\\AppData\\Roaming\\nltk_data...\n",
      "[nltk_data]    |   Unzipping models\\word2vec_sample.zip.\n",
      "[nltk_data]    | Downloading package wordnet to\n",
      "[nltk_data]    |     C:\\Users\\lissa\\AppData\\Roaming\\nltk_data...\n",
      "[nltk_data]    | Downloading package wordnet2021 to\n",
      "[nltk_data]    |     C:\\Users\\lissa\\AppData\\Roaming\\nltk_data...\n",
      "[nltk_data]    | Downloading package wordnet2022 to\n",
      "[nltk_data]    |     C:\\Users\\lissa\\AppData\\Roaming\\nltk_data...\n",
      "[nltk_data]    |   Unzipping corpora\\wordnet2022.zip.\n",
      "[nltk_data]    | Downloading package wordnet31 to\n",
      "[nltk_data]    |     C:\\Users\\lissa\\AppData\\Roaming\\nltk_data...\n",
      "[nltk_data]    | Downloading package wordnet_ic to\n",
      "[nltk_data]    |     C:\\Users\\lissa\\AppData\\Roaming\\nltk_data...\n",
      "[nltk_data]    |   Unzipping corpora\\wordnet_ic.zip.\n",
      "[nltk_data]    | Downloading package words to\n",
      "[nltk_data]    |     C:\\Users\\lissa\\AppData\\Roaming\\nltk_data...\n",
      "[nltk_data]    |   Unzipping corpora\\words.zip.\n",
      "[nltk_data]    | Downloading package ycoe to\n",
      "[nltk_data]    |     C:\\Users\\lissa\\AppData\\Roaming\\nltk_data...\n",
      "[nltk_data]    |   Unzipping corpora\\ycoe.zip.\n",
      "[nltk_data]    | \n",
      "[nltk_data]  Done downloading collection all\n"
     ]
    },
    {
     "data": {
      "text/plain": [
       "True"
      ]
     },
     "execution_count": 1,
     "metadata": {},
     "output_type": "execute_result"
    }
   ],
   "source": [
    "import nltk\n",
    "nltk.download('all')"
   ]
  },
  {
   "cell_type": "code",
   "execution_count": 2,
   "metadata": {},
   "outputs": [],
   "source": [
    "# imports and setup\n",
    "import numpy as np\n",
    "from sklearn.neighbors import NearestNeighbors\n",
    "from sklearn.neighbors import KNeighborsClassifier\n",
    "from sklearn import svm\n",
    "from sklearn.model_selection import cross_val_score\n",
    "from sklearn.model_selection import train_test_split\n",
    "\n",
    "import matplotlib.pyplot as plt\n",
    "%matplotlib inline\n",
    "plt.rcParams['figure.figsize'] = (15, 9)\n",
    "plt.style.use('ggplot')"
   ]
  },
  {
   "cell_type": "markdown",
   "metadata": {},
   "source": [
    "## Basics of NLTK\n",
    "\n",
    "We have downloaded a set of text corpora above. Here is a list of these texts:"
   ]
  },
  {
   "cell_type": "code",
   "execution_count": 3,
   "metadata": {
    "scrolled": true
   },
   "outputs": [
    {
     "name": "stdout",
     "output_type": "stream",
     "text": [
      "*** Introductory Examples for the NLTK Book ***\n",
      "Loading text1, ..., text9 and sent1, ..., sent9\n",
      "Type the name of the text or sentence to view it.\n",
      "Type: 'texts()' or 'sents()' to list the materials.\n",
      "text1: Moby Dick by Herman Melville 1851\n",
      "text2: Sense and Sensibility by Jane Austen 1811\n",
      "text3: The Book of Genesis\n",
      "text4: Inaugural Address Corpus\n",
      "text5: Chat Corpus\n",
      "text6: Monty Python and the Holy Grail\n",
      "text7: Wall Street Journal\n",
      "text8: Personals Corpus\n",
      "text9: The Man Who Was Thursday by G . K . Chesterton 1908\n"
     ]
    }
   ],
   "source": [
    "from nltk.book import *"
   ]
  },
  {
   "cell_type": "markdown",
   "metadata": {},
   "source": [
    "Let's look at the first 20 words of text1 – Moby Dick:"
   ]
  },
  {
   "cell_type": "code",
   "execution_count": 4,
   "metadata": {},
   "outputs": [
    {
     "data": {
      "text/plain": [
       "['[',\n",
       " 'Moby',\n",
       " 'Dick',\n",
       " 'by',\n",
       " 'Herman',\n",
       " 'Melville',\n",
       " '1851',\n",
       " ']',\n",
       " 'ETYMOLOGY',\n",
       " '.',\n",
       " '(',\n",
       " 'Supplied',\n",
       " 'by',\n",
       " 'a',\n",
       " 'Late',\n",
       " 'Consumptive',\n",
       " 'Usher',\n",
       " 'to',\n",
       " 'a',\n",
       " 'Grammar']"
      ]
     },
     "execution_count": 4,
     "metadata": {},
     "output_type": "execute_result"
    }
   ],
   "source": [
    "text1[0:20]"
   ]
  },
  {
   "cell_type": "markdown",
   "metadata": {},
   "source": [
    "### Text Statistics\n",
    "\n",
    "We can check the length of a text. The text of Moby Dick is 26,0819 words, whereas Monty Python and the Holy Grail has 16,967 words. "
   ]
  },
  {
   "cell_type": "code",
   "execution_count": 5,
   "metadata": {},
   "outputs": [
    {
     "data": {
      "text/plain": [
       "260819"
      ]
     },
     "execution_count": 5,
     "metadata": {},
     "output_type": "execute_result"
    }
   ],
   "source": [
    "len(text1)"
   ]
  },
  {
   "cell_type": "code",
   "execution_count": 6,
   "metadata": {},
   "outputs": [
    {
     "data": {
      "text/plain": [
       "16967"
      ]
     },
     "execution_count": 6,
     "metadata": {},
     "output_type": "execute_result"
    }
   ],
   "source": [
    "len(text6)"
   ]
  },
  {
   "cell_type": "markdown",
   "metadata": {},
   "source": [
    "We can check for the frequency of a word. The word \"swallow\" appears 10 times in Monty Python."
   ]
  },
  {
   "cell_type": "code",
   "execution_count": 7,
   "metadata": {},
   "outputs": [
    {
     "data": {
      "text/plain": [
       "10"
      ]
     },
     "execution_count": 7,
     "metadata": {},
     "output_type": "execute_result"
    }
   ],
   "source": [
    "text6.count(\"swallow\")"
   ]
  },
  {
   "cell_type": "markdown",
   "metadata": {},
   "source": [
    "We might want to know the context in which \"swallow\" appears in the text\n",
    "\n",
    "\"You shall know a word by the company it keeps.\" – John Firth\n",
    "\n",
    "Use the [`concordance`](http://www.nltk.org/api/nltk.html#nltk.text.Text.concordance) function to print out the words just before and after all occurrences of the word \"swallow\". "
   ]
  },
  {
   "cell_type": "code",
   "execution_count": 18,
   "metadata": {},
   "outputs": [
    {
     "name": "stdout",
     "output_type": "stream",
     "text": [
      "Displaying 10 of 10 matches:\n",
      " is a temperate zone . ARTHUR : The swallow may fly south with the sun or the h\n",
      "be carried . SOLDIER # 1 : What ? A swallow carrying a coconut ? ARTHUR : It co\n",
      "o maintain air - speed velocity , a swallow needs to beat its wings forty - thr\n",
      ": It could be carried by an African swallow ! SOLDIER # 1 : Oh , yeah , an Afri\n",
      "OLDIER # 1 : Oh , yeah , an African swallow maybe , but not a European swallow \n",
      " swallow maybe , but not a European swallow . That ' s my point . SOLDIER # 2 :\n",
      " and Sir Bedevere , not more than a swallow ' s flight away , had discovered so\n",
      "omething . Oh , that ' s an unladen swallow ' s flight , obviously . I mean , t\n",
      " air - speed velocity of an unladen swallow ? ARTHUR : What do you mean ? An Af\n",
      "o you mean ? An African or European swallow ? BRIDGEKEEPER : Huh ? I -- I don '\n",
      "Displaying 25 of 34 matches:\n",
      "sy jokes . OLD MAN : Get on with it . TIM THE ENCHANTER : Yes , get on with it \n",
      "mon up fire without flint or tinder ? TIM THE ENCHANTER : I ... am an enchanter\n",
      "ARTHUR : By what name are you known ? TIM : There are some who call me ... Tim \n",
      " TIM : There are some who call me ... Tim ? ARTHUR : Greetings , Tim the Enchan\n",
      "all me ... Tim ? ARTHUR : Greetings , Tim the Enchanter . TIM : Greetings , Kin\n",
      "HUR : Greetings , Tim the Enchanter . TIM : Greetings , King Arthur ! ARTHUR : \n",
      " Arthur ! ARTHUR : You know my name ? TIM : I do . [ zoosh ] You seek the Holy \n",
      "st . You know much that is hidden , O Tim . TIM : Quite . [ pweeng boom ] [ cla\n",
      "ou know much that is hidden , O Tim . TIM : Quite . [ pweeng boom ] [ clap clap\n",
      "-- find a , uh -- a , um -- a , uh -- TIM : A what ...? ARTHUR : A g -- a -- a \n",
      "A g -- a -- a g -- a g -- a -- a g -- TIM : A grail ?! ARTHUR : Yes , I think s\n",
      "HAD : Yup . KNIGHTS : That ' s it ... TIM : Yes ! ROBIN : Oh . ARTHUR : Oh . Th\n",
      "ok , um , you ' re a busy man , uh -- TIM : Yes , I can help you find the Holy \n",
      "l . KNIGHTS : Oh , thank you . Oh ... TIM : To the north there lies a cave -- t\n",
      "R : Where could we find this cave , O Tim ? TIM : Follow . But ! Follow only if\n",
      "ere could we find this cave , O Tim ? TIM : Follow . But ! Follow only if ye be\n",
      " and carry on on foot . Dis - mount ! TIM : Behold the cave of Caerbannog ! ART\n",
      " ARTHUR : W -- just keep me covered . TIM : Too late ! [ dramatic chord ] ARTHU\n",
      " ! [ dramatic chord ] ARTHUR : What ? TIM : There he is ! ARTHUR : Where ? TIM \n",
      " TIM : There he is ! ARTHUR : Where ? TIM : There ! ARTHUR : What , behind the \n",
      "! ARTHUR : What , behind the rabbit ? TIM : It is the rabbit ! ARTHUR : You sil\n",
      "the rabbit ! ARTHUR : You silly sod ! TIM : What ? ARTHUR : You got us all work\n",
      "? ARTHUR : You got us all worked up ! TIM : Well , that ' s no ordinary rabbit \n",
      "s no ordinary rabbit . ARTHUR : Ohh . TIM : That ' s the most foul , cruel , an\n",
      "! I soiled my armor I was so scared ! TIM : Look , that rabbit ' s got a viciou\n"
     ]
    }
   ],
   "source": [
    "text6.concordance(\"swallow\")\n",
    "\n",
    "text6.concordance(\"tim\")"
   ]
  },
  {
   "cell_type": "markdown",
   "metadata": {},
   "source": [
    "Words that occur with notable frequencey are \"fly\" or \"flight\", \"unladen\", \"air\", \"African\", \"European\". We can learn about what a swallow can do or properties of a swallow by this. "
   ]
  },
  {
   "cell_type": "markdown",
   "metadata": {},
   "source": [
    "And if we look for Ishmael in Moby Dick:"
   ]
  },
  {
   "cell_type": "code",
   "execution_count": 9,
   "metadata": {},
   "outputs": [
    {
     "name": "stdout",
     "output_type": "stream",
     "text": [
      "Displaying 20 of 20 matches:\n",
      "SONG . CHAPTER 1 Loomings . Call me Ishmael . Some years ago -- never mind how \n",
      "ED STATES . \" WHALING VOYAGE BY ONE ISHMAEL . \" BLOODY BATTLE IN AFFGHANISTAN .\n",
      "f silver ,-- So , wherever you go , Ishmael , said I to myself , as I stood in \n",
      "de to lodge for the night , my dear Ishmael , be sure to inquire the price , an\n",
      "nkling glasses within . But go on , Ishmael , said I at last ; don ' t you hear\n",
      "g and teeth - gnashing there . Ha , Ishmael , muttered I , backing out , Wretch\n",
      "emen who had gone before me . Yes , Ishmael , the same fate may be thine . But \n",
      " ? thought I . Do you suppose now , Ishmael , that the magnanimous God of heave\n",
      "l , which , if left to myself , I , Ishmael , should infallibly light upon , fo\n",
      " Bildad . Now then , my young man , Ishmael ' s thy name , didn ' t ye say ? We\n",
      "say ? Well then , down ye go here , Ishmael , for the three hundredth lay .\" \" \n",
      "why don ' t you speak ? It ' s I -- Ishmael .\" But all remained still as before\n",
      "l fear ! CHAPTER 41 Moby Dick . I , Ishmael , was one of that crew ; my shouts \n",
      "lain , would be to dive deeper than Ishmael can go . The subterranean miner tha\n",
      "oul ; thou surrenderest to a hypo , Ishmael . Tell me , why this strong young c\n",
      " snows of prairies ; all these , to Ishmael , are as the shaking of that buffal\n",
      "ubtle meanings , how may unlettered Ishmael hope to read the awful Chaldee of t\n",
      "onditional skeleton . But how now , Ishmael ? How is it , that you , a mere oar\n",
      " for exhibition ? Explain thyself , Ishmael . Can you land a full - grown whale\n",
      "le witness have you hitherto been , Ishmael ; but have a care how you seize the\n"
     ]
    }
   ],
   "source": [
    "text1.concordance(\"Ishmael\")"
   ]
  },
  {
   "cell_type": "markdown",
   "metadata": {},
   "source": [
    "Here, we see a lot of \"I\"s. We could probably infer that Ishmael is the narrator based on that. "
   ]
  },
  {
   "cell_type": "markdown",
   "metadata": {},
   "source": [
    "We can see what other words frequently appear in the same context using the  [`similar`](http://www.nltk.org/api/nltk.html#nltk.text.Text.similar) function.  "
   ]
  },
  {
   "cell_type": "code",
   "execution_count": 10,
   "metadata": {},
   "outputs": [
    {
     "name": "stdout",
     "output_type": "stream",
     "text": [
      "plover\n"
     ]
    }
   ],
   "source": [
    "text6.similar(\"swallow\")"
   ]
  },
  {
   "cell_type": "code",
   "execution_count": 11,
   "metadata": {},
   "outputs": [
    {
     "name": "stdout",
     "output_type": "stream",
     "text": [
      "unladen\n"
     ]
    }
   ],
   "source": [
    "text6.similar(\"african\")"
   ]
  },
  {
   "cell_type": "code",
   "execution_count": 12,
   "metadata": {},
   "outputs": [
    {
     "name": "stdout",
     "output_type": "stream",
     "text": [
      "castle lord what horse robinson scratch draw bristol model god grail\n",
      "sniff sacrifice bride test mistake\n"
     ]
    }
   ],
   "source": [
    "text6.similar(\"coconut\")"
   ]
  },
  {
   "cell_type": "markdown",
   "metadata": {},
   "source": [
    "This means that 'african' and 'unladen' both appeared in the text with the same word just before and just after. To see what the phrase is, we can use the [`common_contexts`](http://www.nltk.org/api/nltk.html#nltk.text.Text.concordance) function. "
   ]
  },
  {
   "cell_type": "code",
   "execution_count": 13,
   "metadata": {},
   "outputs": [
    {
     "name": "stdout",
     "output_type": "stream",
     "text": [
      "an_swallow\n"
     ]
    }
   ],
   "source": [
    "text6.common_contexts([\"African\", \"unladen\"])"
   ]
  },
  {
   "cell_type": "markdown",
   "metadata": {},
   "source": [
    "We see that both \"an unladen swallow\" and \"an african swallow\" appear in the text. "
   ]
  },
  {
   "cell_type": "code",
   "execution_count": 14,
   "metadata": {},
   "outputs": [
    {
     "name": "stdout",
     "output_type": "stream",
     "text": [
      "Displaying 2 of 2 matches:\n",
      "overed something . Oh , that ' s an unladen swallow ' s flight , obviously . I \n",
      "t is the air - speed velocity of an unladen swallow ? ARTHUR : What do you mean\n",
      "\n",
      "Displaying 4 of 4 matches:\n",
      "IER # 2 : It could be carried by an African swallow ! SOLDIER # 1 : Oh , yeah ,\n",
      "llow ! SOLDIER # 1 : Oh , yeah , an African swallow maybe , but not a European \n",
      "LDIER # 1 : But then of course a -- African swallows are non - migratory . SOLD\n",
      "ow ? ARTHUR : What do you mean ? An African or European swallow ? BRIDGEKEEPER \n"
     ]
    }
   ],
   "source": [
    "text6.concordance(\"unladen\")\n",
    "print()\n",
    "text6.concordance(\"african\")"
   ]
  },
  {
   "cell_type": "markdown",
   "metadata": {},
   "source": [
    "### Dispersion plot\n",
    "\n",
    "`text4` is the Inaugural Address Corpus which includes inaugural addresses going back to 1789. \n",
    "We can use a dispersion plot to see where in a text certain words appear, and hence how the language of the address has changed over time. \n"
   ]
  },
  {
   "cell_type": "code",
   "execution_count": 15,
   "metadata": {},
   "outputs": [
    {
     "name": "stdout",
     "output_type": "stream",
     "text": [
      "Fellow - Citizens of the Senate and of the House of Representatives : Among the vicissitudes incident to life no event could have filled me with greater anxieties than that of which the notification was transmitted by your order , and received on the 14th day of the present month . On the one hand , I was summoned by my Country , whose voice I can never hear but with veneration and love , from a retreat which I had chosen with the fondest predilection , and , in my flattering hopes , with an immutable decision , as\n",
      "\n",
      "and justice , did not die on our watch , but thrived ; that America secured liberty at home and stood once again as a beacon to the world . That is what we owe our forebearers , one another , and generations to follow . So with purpose and resolve we turn to those tasks of our time , sustained by faith , driven by conviction , and devoted to one another and the country we love with all our hearts . May God bless America , and may God protect our troops . Thank you , America .\n"
     ]
    }
   ],
   "source": [
    "print(\" \".join(text4[:100]))\n",
    "print(\"\")\n",
    "\n",
    "print(\" \".join(text4[-100:]))\n"
   ]
  },
  {
   "cell_type": "code",
   "execution_count": 16,
   "metadata": {
    "scrolled": true
   },
   "outputs": [
    {
     "data": {
      "image/png": "[encoded data removed]",
      "text/plain": [
       "<Figure size 1500x900 with 1 Axes>"
      ]
     },
     "metadata": {},
     "output_type": "display_data"
    }
   ],
   "source": [
    "text4.dispersion_plot([\"citizens\", \"democracy\", \"freedom\", \"duty\", \"America\", \"nation\", \"God\", \"military\"])"
   ]
  },
  {
   "cell_type": "markdown",
   "metadata": {},
   "source": [
    "### Exploring texts using statistics\n",
    "\n",
    "We'll explore a text by counting the frequency of different words.\n",
    "\n",
    "The total number of words (\"outcomes\") in Moby Dick is 260,819 and the number of unique words (\"samples\") is 19,317. "
   ]
  },
  {
   "cell_type": "code",
   "execution_count": 17,
   "metadata": {},
   "outputs": [
    {
     "name": "stdout",
     "output_type": "stream",
     "text": [
      "<FreqDist with 19317 samples and 260819 outcomes>\n",
      "\n",
      " [(',', 18713), ('the', 13721), ('.', 6862), ('of', 6536), ('and', 6024), ('a', 4569), ('to', 4542), (';', 4072), ('in', 3916), ('that', 2982), (\"'\", 2684), ('-', 2552), ('his', 2459), ('it', 2209), ('I', 2124), ('s', 1739), ('is', 1695), ('he', 1661), ('with', 1659), ('was', 1632), ('as', 1620), ('\"', 1478), ('all', 1462), ('for', 1414), ('this', 1280), ('!', 1269), ('at', 1231), ('by', 1137), ('but', 1113), ('not', 1103), ('--', 1070), ('him', 1058), ('from', 1052), ('be', 1030), ('on', 1005), ('so', 918), ('whale', 906), ('one', 889), ('you', 841), ('had', 767), ('have', 760), ('there', 715), ('But', 705), ('or', 697), ('were', 680), ('now', 646), ('which', 640), ('?', 637), ('me', 627), ('like', 624)]\n",
      "\n",
      " 906\n"
     ]
    }
   ],
   "source": [
    "frequency_dist = FreqDist(text1)\n",
    "print(frequency_dist)\n",
    "\n",
    "# find 50 most common words\n",
    "print('\\n',frequency_dist.most_common(50))\n",
    "\n",
    "# not suprisingly, whale occurs quite frequently (906 times!)\n",
    "print('\\n', frequency_dist['whale'])"
   ]
  },
  {
   "cell_type": "markdown",
   "metadata": {},
   "source": [
    "We can find all the words in Moby Dick with more than 15 characters"
   ]
  },
  {
   "cell_type": "code",
   "execution_count": 26,
   "metadata": {},
   "outputs": [
    {
     "name": "stdout",
     "output_type": "stream",
     "text": [
      "['indispensableness', 'physiognomically', 'uninterpenetratingly', 'preternaturalness', 'apprehensiveness', 'irresistibleness', 'subterraneousness', 'responsibilities', 'cannibalistically', 'uncompromisedness', 'simultaneousness', 'supernaturalness', 'characteristically', 'circumnavigating', 'uncomfortableness', 'comprehensiveness', 'circumnavigation', 'superstitiousness', 'indiscriminately', 'undiscriminating', 'hermaphroditical', 'physiognomically', 'circumnavigation', 'circumnavigations']\n",
      "['immediately', 'dictatorship', 'differences', 'suspenseful', 'particularly', 'perpetuates', 'nnnnniggets', 'individually', 'earthquakes', 'illegitimate', 'bridgekeeper', 'syndicalism', 'indefatigable', 'voluntarily', 'perpetuating', 'dramatically', 'elderberries', 'intermission', 'disheartened', 'accomplished', 'auuuuuuuugh', 'performance', 'bridgekeeper', 'regulations', 'considerable', 'syndicalist', 'distributing', 'conclusions', 'understanding', 'unfortunately', 'illustrious', 'varletesses', 'hospitality', 'accompanied', 'oooohoohohooo', 'shrubberies', 'approacheth', 'shrubberies', 'impersonate', 'auuuuuuuugh', 'influential', 'automatically', 'approaching', 'camaaaaaargue', 'imperialist']\n"
     ]
    }
   ],
   "source": [
    "unique_words = set(text1)\n",
    "unique_word2 = set(text6)\n",
    "long_words = [w.lower() for w in unique_words if len(w) > 15]\n",
    "print(long_words)\n",
    "long_word2 = [w.lower() for w in unique_word2 if len(w) > 10]\n",
    "print(long_word2)"
   ]
  },
  {
   "cell_type": "markdown",
   "metadata": {},
   "source": [
    "### Stopword Removal\n",
    "\n",
    "Often, it is useful to ignore frequently used words, to concentrate on the meaning of the remaining words. These are referred to as *stopwords*. Examples are \"the\", \"was\", \"is\", etc. \n",
    "\n",
    "NLTK comes with a stopword corpus. "
   ]
  },
  {
   "cell_type": "code",
   "execution_count": 27,
   "metadata": {},
   "outputs": [
    {
     "name": "stdout",
     "output_type": "stream",
     "text": [
      "['i', 'me', 'my', 'myself', 'we', 'our', 'ours', 'ourselves', 'you', \"you're\", \"you've\", \"you'll\", \"you'd\", 'your', 'yours', 'yourself', 'yourselves', 'he', 'him', 'his', 'himself', 'she', \"she's\", 'her', 'hers', 'herself', 'it', \"it's\", 'its', 'itself', 'they', 'them', 'their', 'theirs', 'themselves', 'what', 'which', 'who', 'whom', 'this', 'that', \"that'll\", 'these', 'those', 'am', 'is', 'are', 'was', 'were', 'be', 'been', 'being', 'have', 'has', 'had', 'having', 'do', 'does', 'did', 'doing', 'a', 'an', 'the', 'and', 'but', 'if', 'or', 'because', 'as', 'until', 'while', 'of', 'at', 'by', 'for', 'with', 'about', 'against', 'between', 'into', 'through', 'during', 'before', 'after', 'above', 'below', 'to', 'from', 'up', 'down', 'in', 'out', 'on', 'off', 'over', 'under', 'again', 'further', 'then', 'once', 'here', 'there', 'when', 'where', 'why', 'how', 'all', 'any', 'both', 'each', 'few', 'more', 'most', 'other', 'some', 'such', 'no', 'nor', 'not', 'only', 'own', 'same', 'so', 'than', 'too', 'very', 's', 't', 'can', 'will', 'just', 'don', \"don't\", 'should', \"should've\", 'now', 'd', 'll', 'm', 'o', 're', 've', 'y', 'ain', 'aren', \"aren't\", 'couldn', \"couldn't\", 'didn', \"didn't\", 'doesn', \"doesn't\", 'hadn', \"hadn't\", 'hasn', \"hasn't\", 'haven', \"haven't\", 'isn', \"isn't\", 'ma', 'mightn', \"mightn't\", 'mustn', \"mustn't\", 'needn', \"needn't\", 'shan', \"shan't\", 'shouldn', \"shouldn't\", 'wasn', \"wasn't\", 'weren', \"weren't\", 'won', \"won't\", 'wouldn', \"wouldn't\"]\n"
     ]
    }
   ],
   "source": [
    "from nltk.corpus import stopwords\n",
    "stopwords = nltk.corpus.stopwords.words('english')\n",
    "print(stopwords)"
   ]
  },
  {
   "cell_type": "markdown",
   "metadata": {},
   "source": [
    "Depending on the task, these stopwords are important modifiers, or superfluous content. "
   ]
  },
  {
   "cell_type": "markdown",
   "metadata": {},
   "source": [
    "### Exercise 1.1: Frequent Words\n",
    "Find the most frequently used words in Moby Dick that are not stopwords and not punctuation. Hint: [`str.isalpha()`](https://docs.python.org/3/library/stdtypes.html#str.isalpha) could be useful here."
   ]
  },
  {
   "cell_type": "code",
   "execution_count": 61,
   "metadata": {},
   "outputs": [
    {
     "name": "stdout",
     "output_type": "stream",
     "text": [
      "[('whale', 906), ('one', 889), ('like', 624), ('upon', 538), ('man', 508), ('ship', 507), ('Ahab', 501), ('ye', 460), ('old', 436), ('sea', 433), ('would', 421), ('head', 335), ('though', 335), ('boat', 330), ('time', 324), ('long', 318)]\n"
     ]
    }
   ],
   "source": [
    "# your code here\n",
    "\n"
   ]
  },
  {
   "cell_type": "markdown",
   "metadata": {},
   "source": [
    "### Stopwords in different corpora\n",
    "Is there a difference between the frequency in which stopwords appear in the different texts? "
   ]
  },
  {
   "cell_type": "code",
   "execution_count": 28,
   "metadata": {},
   "outputs": [
    {
     "name": "stdout",
     "output_type": "stream",
     "text": [
      "1 0.5862954769399469\n",
      "2 0.5285429733853195\n",
      "3 0.5496381020462872\n",
      "4 0.5240253497361037\n",
      "5 0.7097756054210176\n",
      "6 0.7195732893263393\n",
      "7 0.697187015773372\n",
      "8 0.8255598931580028\n",
      "9 0.5608339473798275\n"
     ]
    }
   ],
   "source": [
    "def content_fraction(text):\n",
    "    stopwords = nltk.corpus.stopwords.words('english')\n",
    "    content = [w for w in text if w.lower() not in stopwords]\n",
    "    return len(content) / len(text)\n",
    "\n",
    "for i,t in enumerate([text1,text2,text3,text4,text5,text6,text7,text8,text9]):\n",
    "    print(i+1,content_fraction(t))"
   ]
  },
  {
   "cell_type": "markdown",
   "metadata": {},
   "source": [
    "Apparently, \"text8: Personals Corpus\" has the most content. Why is that?"
   ]
  },
  {
   "cell_type": "code",
   "execution_count": 29,
   "metadata": {},
   "outputs": [
    {
     "name": "stdout",
     "output_type": "stream",
     "text": [
      "25 SEXY MALE , seeks attrac older single lady , for discreet encounters . 35YO Security Guard , seeking lady in uniform for fun times . 40 yo SINGLE DAD , sincere friendly DTE seeks r / ship with fem age open S / E 44yo tall seeks working single mum or lady below 45 fship rship . Nat Open 6 . 2 35 yr old OUTGOING M seeks fem 28 - 35 for o / door sports - w / e away A professional business male , late 40s , 6 feet tall , slim build , well groomed\n"
     ]
    }
   ],
   "source": [
    "print(\" \".join(text8[:100]))"
   ]
  },
  {
   "cell_type": "markdown",
   "metadata": {},
   "source": [
    "### Collocations\n",
    "A *collocation* is a sequence of words that occur together unusually often, we can retreive these using the [`collocations()`](http://www.nltk.org/api/nltk.html#nltk.text.Text.collocations) function."
   ]
  },
  {
   "cell_type": "code",
   "execution_count": 30,
   "metadata": {},
   "outputs": [
    {
     "name": "stdout",
     "output_type": "stream",
     "text": [
      "Colonel Brandon; Sir John; Lady Middleton; Miss Dashwood; every thing;\n",
      "thousand pounds; dare say; Miss Steeles; said Elinor; Miss Steele;\n",
      "every body; John Dashwood; great deal; Harley Street; Berkeley Street;\n",
      "Miss Dashwoods; young man; Combe Magna; every day; next morning\n"
     ]
    }
   ],
   "source": [
    "text2.collocations()"
   ]
  },
  {
   "cell_type": "markdown",
   "metadata": {},
   "source": [
    "## Sentiment analysis for movie reviews\n",
    "When analyzing movie reviews, we can ask the simple question: Is the attitude of a movie review positive or negative? If you're developing [rotten tomatoes](https://www.rottentomatoes.com/), that's what you want to know to certify whether a review is \"fresh\" or \"rotten\".\n",
    "\n",
    "How can we approach this question?\n",
    "\n",
    "Our data is a corpus consisting of 2000 movie reviews together with the user's sentiment polarity (positive or negative). More information about this dataset is available [from this website](https://www.cs.cornell.edu/people/pabo/movie-review-data/).\n",
    "\n",
    "Our goal is to predict the sentiment polarity from just the review. \n",
    "\n",
    "Of course, this is something that we can do very easily: \n",
    "1. That movie was terrible. -> negative\n",
    "+ That movie was great! -> positive\n",
    "\n",
    "\n",
    "\n"
   ]
  },
  {
   "cell_type": "code",
   "execution_count": 48,
   "metadata": {},
   "outputs": [],
   "source": [
    "from nltk.corpus import movie_reviews as reviews"
   ]
  },
  {
   "cell_type": "markdown",
   "metadata": {},
   "source": [
    "The datset contains 1000 positive and 1000 negative movie reviews. \n",
    "\n",
    "The paths to / IDs for the individual reviews are accessible via the fileids() call:"
   ]
  },
  {
   "cell_type": "code",
   "execution_count": 49,
   "metadata": {},
   "outputs": [
    {
     "data": {
      "text/plain": [
       "['neg/cv000_29416.txt',\n",
       " 'neg/cv001_19502.txt',\n",
       " 'neg/cv002_17424.txt',\n",
       " 'neg/cv003_12683.txt',\n",
       " 'neg/cv004_12641.txt']"
      ]
     },
     "execution_count": 49,
     "metadata": {},
     "output_type": "execute_result"
    }
   ],
   "source": [
    "reviews.fileids()[0:5]"
   ]
  },
  {
   "cell_type": "markdown",
   "metadata": {},
   "source": [
    "We can access the positives or negatives explicitly:"
   ]
  },
  {
   "cell_type": "code",
   "execution_count": 50,
   "metadata": {},
   "outputs": [
    {
     "data": {
      "text/plain": [
       "['pos/cv000_29590.txt',\n",
       " 'pos/cv001_18431.txt',\n",
       " 'pos/cv002_15918.txt',\n",
       " 'pos/cv003_11664.txt',\n",
       " 'pos/cv004_11636.txt']"
      ]
     },
     "execution_count": 50,
     "metadata": {},
     "output_type": "execute_result"
    }
   ],
   "source": [
    "reviews.fileids('pos')[0:5]"
   ]
  },
  {
   "cell_type": "markdown",
   "metadata": {},
   "source": [
    "There are in fact 1000 positive and 1000 negative reviews:"
   ]
  },
  {
   "cell_type": "code",
   "execution_count": 51,
   "metadata": {},
   "outputs": [
    {
     "name": "stdout",
     "output_type": "stream",
     "text": [
      "2000\n",
      "1000 1000\n"
     ]
    }
   ],
   "source": [
    "num_reviews = len(reviews.fileids())\n",
    "print(num_reviews)\n",
    "print(len(reviews.fileids('pos')),len(reviews.fileids('neg')))"
   ]
  },
  {
   "cell_type": "markdown",
   "metadata": {},
   "source": [
    "Let's see the review for the third movie. Its a negative review for [The Mod Squad](https://www.rottentomatoes.com/m/mod_squad/) (see the [trailer](https://www.youtube.com/watch?v=67cdXuWnRKs)), which has a \"rotten\" rating on rotten tomatoes. \n",
    "\n",
    "![Mod Squad at Rotten Tomatoes](mod_squad.png)"
   ]
  },
  {
   "cell_type": "code",
   "execution_count": 52,
   "metadata": {},
   "outputs": [
    {
     "name": "stdout",
     "output_type": "stream",
     "text": [
      "neg/cv002_17424.txt\n",
      "\n",
      " it is movies like these that make a jaded movie viewer thankful for the invention of the timex indiglo watch . \n",
      "based on the late 1960's television show by the same name , the mod squad tells the tale of three reformed criminals under the employ of the police to go undercover . \n",
      "however , things go wrong as evidence gets stolen and they are immediately under suspicion . \n",
      "of course , the ads make it seem like so much more . \n",
      "quick cuts , cool music , claire dane's nice hair and cute outfits , car chases , stuff blowing up , and the like . \n",
      "sounds like a cool movie , does it not ? \n",
      "after the first fifteen minutes , it quickly becomes apparent that it is not . \n",
      "the mod squad is certainly a slick looking production , complete with nice hair and costumes , but that simply isn't enough . \n",
      "the film is best described as a cross between an hour-long cop show and a music video , both stretched out into the span of an hour and a half . \n",
      "and with it comes every single clich ? . \n",
      "it doesn't really matter that the film is based on a television show , as most of the plot elements have been recycled from everything we've already seen . \n",
      "the characters and acting is nothing spectacular , sometimes even bordering on wooden . \n",
      "claire danes and omar epps deliver their lines as if they are bored , which really transfers onto the audience . \n",
      "the only one to escape relatively unscathed is giovanni ribisi , who plays the resident crazy man , ultimately being the only thing worth watching . \n",
      "unfortunately , even he's not enough to save this convoluted mess , as all the characters don't do much apart from occupying screen time . \n",
      "with the young cast , cool clothes , nice hair , and hip soundtrack , it appears that the film is geared towards the teenage mindset . \n",
      "despite an american 'r' rating ( which the content does not justify ) , the film is way too juvenile for the older mindset . \n",
      "information on the characters is literally spoon-fed to the audience ( would it be that hard to show us instead of telling us ? ) , dialogue is poorly written , and the plot is extremely predictable . \n",
      "the way the film progresses , you likely won't even care if the heroes are in any jeopardy , because you'll know they aren't . \n",
      "basing the show on a 1960's television show that nobody remembers is of questionable wisdom , especially when one considers the target audience and the fact that the number of memorable films based on television shows can be counted on one hand ( even one that's missing a finger or two ) . \n",
      "the number of times that i checked my watch ( six ) is a clear indication that this film is not one of them . \n",
      "it is clear that the film is nothing more than an attempt to cash in on the teenage spending dollar , judging from the rash of really awful teen-flicks that we've been seeing as of late . \n",
      "avoid this film at all costs . \n",
      "\n",
      "\n",
      " The Category: ['neg']\n",
      "\n",
      " Individual Words: ['it', 'is', 'movies', 'like', 'these', 'that', 'make', ...]\n"
     ]
    }
   ],
   "source": [
    "# the name of the file \n",
    "fid = reviews.fileids()[2]\n",
    "print(fid)\n",
    "\n",
    "print('\\n', reviews.raw(fid))\n",
    "\n",
    "\n",
    "print('\\n', \"The Category:\", reviews.categories(fid) )\n",
    "\n",
    "print('\\n', \"Individual Words:\",reviews.words(fid))"
   ]
  },
  {
   "cell_type": "markdown",
   "metadata": {},
   "source": [
    "Let's look at some sentences that indicate that this is a negative review:\n",
    "\n",
    " * \"it is movies like these that make a jaded movie viewer thankful for the invention of the timex indiglo watch\"\n",
    " * \"sounds like a cool movie , does it not ? after the first fifteen minutes , it quickly becomes apparent that it is not .\" \n",
    " * \"nothing spectacular\"\n",
    " * \"avoid this film at all costs\"\n",
    " * \"unfortunately , even he's not enough to save this convoluted mess\""
   ]
  },
  {
   "cell_type": "markdown",
   "metadata": {},
   "source": [
    "### A Custom Algorithm\n",
    "We'll build a sentiment classifier using methods we already know to predicts the label ['neg', 'pos'] from the review text\n",
    "\n",
    "`reviews.categories(file_id)` returns the label ['neg', 'pos'] for that movie"
   ]
  },
  {
   "cell_type": "code",
   "execution_count": 53,
   "metadata": {},
   "outputs": [
    {
     "name": "stdout",
     "output_type": "stream",
     "text": [
      "[['neg'], ['neg'], ['neg'], ['neg'], ['neg'], ['neg'], ['neg'], ['neg'], ['neg'], ['neg']]\n"
     ]
    },
    {
     "data": {
      "text/plain": [
       "(0, 1)"
      ]
     },
     "execution_count": 53,
     "metadata": {},
     "output_type": "execute_result"
    }
   ],
   "source": [
    "categories = [reviews.categories(fid) for fid in reviews.fileids()]\n",
    "print(categories[0:10])\n",
    "labels = {'pos':1, 'neg':0}\n",
    "# create the labels: 1 for positive, 0 for negative\n",
    "y = [labels[x[0]] for x in categories]\n",
    "# output labels for the first (a negative) and the 1000th (a positive review)\n",
    "y[0], y[1000]"
   ]
  },
  {
   "cell_type": "markdown",
   "metadata": {},
   "source": [
    "Here, we collect all words into a nested array datastructure:"
   ]
  },
  {
   "cell_type": "code",
   "execution_count": 54,
   "metadata": {},
   "outputs": [],
   "source": [
    "doc_words = [list(reviews.words(fid)) for fid in reviews.fileids()]"
   ]
  },
  {
   "cell_type": "code",
   "execution_count": 55,
   "metadata": {},
   "outputs": [
    {
     "data": {
      "text/plain": [
       "['is', 'movies', 'like', 'these', 'that', 'make', 'a', 'jaded', 'movie']"
      ]
     },
     "execution_count": 55,
     "metadata": {},
     "output_type": "execute_result"
    }
   ],
   "source": [
    "# first 10 words of the third document - mod squad\n",
    "doc_words[2][1:10]"
   ]
  },
  {
   "cell_type": "markdown",
   "metadata": {},
   "source": [
    "Here we get all of the words in the reviews and make a FreqDist, pick the most common 2000 words and remove the stopwords."
   ]
  },
  {
   "cell_type": "code",
   "execution_count": 56,
   "metadata": {
    "scrolled": false
   },
   "outputs": [
    {
     "name": "stdout",
     "output_type": "stream",
     "text": [
      "1821\n"
     ]
    },
    {
     "data": {
      "text/plain": [
       "[('film', 9517),\n",
       " ('one', 5852),\n",
       " ('movie', 5771),\n",
       " ('like', 3690),\n",
       " ('even', 2565),\n",
       " ('good', 2411),\n",
       " ('time', 2411),\n",
       " ('story', 2169),\n",
       " ('would', 2109),\n",
       " ('much', 2049),\n",
       " ('character', 2020),\n",
       " ('also', 1967),\n",
       " ('get', 1949),\n",
       " ('two', 1911),\n",
       " ('well', 1906),\n",
       " ('characters', 1859),\n",
       " ('first', 1836),\n",
       " ('see', 1749),\n",
       " ('way', 1693),\n",
       " ('make', 1642),\n",
       " ('life', 1586),\n",
       " ('really', 1558),\n",
       " ('films', 1536),\n",
       " ('plot', 1513),\n",
       " ('little', 1501),\n",
       " ('people', 1455),\n",
       " ('could', 1427),\n",
       " ('scene', 1397),\n",
       " ('man', 1396),\n",
       " ('bad', 1395),\n",
       " ('never', 1374),\n",
       " ('best', 1333),\n",
       " ('new', 1292),\n",
       " ('scenes', 1274),\n",
       " ('many', 1268),\n",
       " ('director', 1237),\n",
       " ('know', 1217),\n",
       " ('movies', 1206),\n",
       " ('action', 1172),\n",
       " ('great', 1148),\n",
       " ('another', 1121),\n",
       " ('love', 1119),\n",
       " ('go', 1113),\n",
       " ('made', 1084),\n",
       " ('us', 1073),\n",
       " ('big', 1064),\n",
       " ('end', 1062),\n",
       " ('something', 1061),\n",
       " ('back', 1060),\n",
       " ('still', 1047)]"
      ]
     },
     "execution_count": 56,
     "metadata": {},
     "output_type": "execute_result"
    }
   ],
   "source": [
    "# get the 2000 most common words in lowercase\n",
    "most_common = nltk.FreqDist(w.lower() for w in reviews.words()).most_common(2000)\n",
    "\n",
    "# remove stopwords\n",
    "filtered_words = [word_tuple for word_tuple in most_common if word_tuple[0].lower() not in stopwords]\n",
    "# remove punctuation marks\n",
    "filtered_words = [word_tuple for word_tuple in filtered_words if word_tuple[0].isalpha()]\n",
    "print(len(filtered_words))\n",
    "filtered_words[0:50]"
   ]
  },
  {
   "cell_type": "markdown",
   "metadata": {},
   "source": [
    "We  extract this word list from the frequency tuple."
   ]
  },
  {
   "cell_type": "code",
   "execution_count": 57,
   "metadata": {},
   "outputs": [
    {
     "name": "stdout",
     "output_type": "stream",
     "text": [
      "['film', 'one', 'movie', 'like', 'even']\n"
     ]
    },
    {
     "data": {
      "text/plain": [
       "1821"
      ]
     },
     "execution_count": 57,
     "metadata": {},
     "output_type": "execute_result"
    }
   ],
   "source": [
    "word_features =  [word_tuple[0] for word_tuple in filtered_words]\n",
    "print(word_features[:5])\n",
    "len(word_features)"
   ]
  },
  {
   "cell_type": "markdown",
   "metadata": {},
   "source": [
    "We define a function that takes a document and returns a list of zeros and ones indicating which of the words in  `word_features` appears in that document. "
   ]
  },
  {
   "cell_type": "code",
   "execution_count": 58,
   "metadata": {},
   "outputs": [],
   "source": [
    "def document_features(document):\n",
    "    # convert each document into a set of its words \n",
    "    # this removes duplicates and makes \"existence\" tests efficient\n",
    "    document_words = set(document)\n",
    "    # a list, initalized with 0s, that we'll set to 1 for each of the words that exists in the document\n",
    "    features = np.zeros(len(word_features))\n",
    "    for i, word in enumerate(word_features):\n",
    "        features[i] = (word in document_words)\n",
    "    return features"
   ]
  },
  {
   "cell_type": "markdown",
   "metadata": {},
   "source": [
    "Let's just focus on the third document. Which words from `word_features` are in this document? "
   ]
  },
  {
   "cell_type": "code",
   "execution_count": 59,
   "metadata": {},
   "outputs": [
    {
     "name": "stdout",
     "output_type": "stream",
     "text": [
      "[1. 1. 1. ... 0. 0. 0.]\n",
      "\n",
      " ['film', 'one', 'movie', 'like', 'even', 'time', 'would', 'much', 'two', 'characters', 'first', 'way', 'make', 'really', 'films', 'plot', 'man', 'best', 'know', 'movies', 'go', 'us', 'however', 'every', 'audience', 'enough', 'seen', 'gets', 'things', 'long', 'thing', 'fact', 'nothing', 'cast', 'plays', 'young', 'show', 'comes', 'screen', 'acting', 'three', 'course', 'minutes', 'watch', 'hard', 'seem', 'times', 'instead', 'american', 'half', 'everything', 'becomes', 'dialogue', 'looking', 'watching', 'music', 'especially', 'simply', 'shows', 'written', 'name', 'based', 'wrong', 'unfortunately', 'hand', 'certainly', 'hour', 'despite', 'nice', 'seeing', 'video', 'car', 'matter', 'lines', 'worth', 'care', 'production', 'already', 'sometimes', 'save', 'attempt', 'tells', 'quickly', 'extremely', 'appears', 'police', 'single', 'late', 'elements', 'number', 'television', 'viewer', 'tale', 'cool', 'stuff', 'cop', 'complete', 'clear', 'towards', 'predictable', 'r', 'likely', 'immediately', 'mess', 'escape', 'ultimately', 'teen', 'rating', 'soundtrack', 'memorable', 'six', 'quick', 'cute', 'sounds', 'telling', 'awful', 'onto', 'apart', 'missing', 'cross', 'hair', 'literally', 'teenage', 'older', 'heroes', 'apparent', 'information', 'crazy', 'poorly', 'target', 'deliver', 'cash', 'avoid', 'nobody', 'spectacular', 'bored', 'flicks', 'content', 'clich', 'costumes', 'claire']\n"
     ]
    }
   ],
   "source": [
    "words_in_doc_2 = document_features(doc_words[2])\n",
    "print(words_in_doc_2)\n",
    "\n",
    "inds = np.where(words_in_doc_2 == 1)[0]\n",
    "print('\\n', [word_features[i] for i in inds])"
   ]
  },
  {
   "cell_type": "markdown",
   "metadata": {},
   "source": [
    "Now we build our feature set for all the reviews."
   ]
  },
  {
   "cell_type": "code",
   "execution_count": 60,
   "metadata": {},
   "outputs": [
    {
     "data": {
      "text/plain": [
       "array([[1., 1., 1., ..., 0., 0., 0.],\n",
       "       [0., 0., 1., ..., 0., 0., 0.],\n",
       "       [1., 1., 1., ..., 0., 0., 0.],\n",
       "       [1., 1., 0., ..., 0., 0., 0.],\n",
       "       [1., 1., 1., ..., 0., 0., 0.]])"
      ]
     },
     "execution_count": 60,
     "metadata": {},
     "output_type": "execute_result"
    }
   ],
   "source": [
    "X = np.zeros([num_reviews,len(word_features)])\n",
    "for i in range(num_reviews):\n",
    "    X[i,:] = document_features(doc_words[i])\n",
    "\n",
    "X[0:5]"
   ]
  },
  {
   "cell_type": "markdown",
   "metadata": {},
   "source": [
    "The result is a feature vector for each of these reviews that we can use in classification."
   ]
  },
  {
   "cell_type": "markdown",
   "metadata": {},
   "source": [
    "Now that we have features for each document and labels, **we have a classification problem!** \n",
    "\n",
    "NLTK has a built-in classifier, but we'll use the scikit-learn classifiers we're already familiar with. \n",
    "\n",
    "Let's try k-nearest neighbors:"
   ]
  },
  {
   "cell_type": "code",
   "execution_count": 44,
   "metadata": {},
   "outputs": [
    {
     "name": "stderr",
     "output_type": "stream",
     "text": [
      "C:\\Users\\lissa\\anaconda3.23\\lib\\site-packages\\sklearn\\neighbors\\_classification.py:228: FutureWarning: Unlike other reduction functions (e.g. `skew`, `kurtosis`), the default behavior of `mode` typically preserves the axis it acts along. In SciPy 1.11.0, this behavior will change: the default value of `keepdims` will become False, the `axis` over which the statistic is taken will be eliminated, and the value None will no longer be accepted. Set `keepdims` to True or False to avoid this warning.\n",
      "  mode, _ = stats.mode(_y[neigh_ind, k], axis=1)\n",
      "C:\\Users\\lissa\\anaconda3.23\\lib\\site-packages\\sklearn\\neighbors\\_classification.py:228: FutureWarning: Unlike other reduction functions (e.g. `skew`, `kurtosis`), the default behavior of `mode` typically preserves the axis it acts along. In SciPy 1.11.0, this behavior will change: the default value of `keepdims` will become False, the `axis` over which the statistic is taken will be eliminated, and the value None will no longer be accepted. Set `keepdims` to True or False to avoid this warning.\n",
      "  mode, _ = stats.mode(_y[neigh_ind, k], axis=1)\n",
      "C:\\Users\\lissa\\anaconda3.23\\lib\\site-packages\\sklearn\\neighbors\\_classification.py:228: FutureWarning: Unlike other reduction functions (e.g. `skew`, `kurtosis`), the default behavior of `mode` typically preserves the axis it acts along. In SciPy 1.11.0, this behavior will change: the default value of `keepdims` will become False, the `axis` over which the statistic is taken will be eliminated, and the value None will no longer be accepted. Set `keepdims` to True or False to avoid this warning.\n",
      "  mode, _ = stats.mode(_y[neigh_ind, k], axis=1)\n",
      "C:\\Users\\lissa\\anaconda3.23\\lib\\site-packages\\sklearn\\neighbors\\_classification.py:228: FutureWarning: Unlike other reduction functions (e.g. `skew`, `kurtosis`), the default behavior of `mode` typically preserves the axis it acts along. In SciPy 1.11.0, this behavior will change: the default value of `keepdims` will become False, the `axis` over which the statistic is taken will be eliminated, and the value None will no longer be accepted. Set `keepdims` to True or False to avoid this warning.\n",
      "  mode, _ = stats.mode(_y[neigh_ind, k], axis=1)\n",
      "C:\\Users\\lissa\\anaconda3.23\\lib\\site-packages\\sklearn\\neighbors\\_classification.py:228: FutureWarning: Unlike other reduction functions (e.g. `skew`, `kurtosis`), the default behavior of `mode` typically preserves the axis it acts along. In SciPy 1.11.0, this behavior will change: the default value of `keepdims` will become False, the `axis` over which the statistic is taken will be eliminated, and the value None will no longer be accepted. Set `keepdims` to True or False to avoid this warning.\n",
      "  mode, _ = stats.mode(_y[neigh_ind, k], axis=1)\n",
      "C:\\Users\\lissa\\anaconda3.23\\lib\\site-packages\\sklearn\\neighbors\\_classification.py:228: FutureWarning: Unlike other reduction functions (e.g. `skew`, `kurtosis`), the default behavior of `mode` typically preserves the axis it acts along. In SciPy 1.11.0, this behavior will change: the default value of `keepdims` will become False, the `axis` over which the statistic is taken will be eliminated, and the value None will no longer be accepted. Set `keepdims` to True or False to avoid this warning.\n",
      "  mode, _ = stats.mode(_y[neigh_ind, k], axis=1)\n",
      "C:\\Users\\lissa\\anaconda3.23\\lib\\site-packages\\sklearn\\neighbors\\_classification.py:228: FutureWarning: Unlike other reduction functions (e.g. `skew`, `kurtosis`), the default behavior of `mode` typically preserves the axis it acts along. In SciPy 1.11.0, this behavior will change: the default value of `keepdims` will become False, the `axis` over which the statistic is taken will be eliminated, and the value None will no longer be accepted. Set `keepdims` to True or False to avoid this warning.\n",
      "  mode, _ = stats.mode(_y[neigh_ind, k], axis=1)\n",
      "C:\\Users\\lissa\\anaconda3.23\\lib\\site-packages\\sklearn\\neighbors\\_classification.py:228: FutureWarning: Unlike other reduction functions (e.g. `skew`, `kurtosis`), the default behavior of `mode` typically preserves the axis it acts along. In SciPy 1.11.0, this behavior will change: the default value of `keepdims` will become False, the `axis` over which the statistic is taken will be eliminated, and the value None will no longer be accepted. Set `keepdims` to True or False to avoid this warning.\n",
      "  mode, _ = stats.mode(_y[neigh_ind, k], axis=1)\n"
     ]
    },
    {
     "name": "stdout",
     "output_type": "stream",
     "text": [
      "[0.585 0.62  0.54  0.635 0.64  0.59  0.605 0.67  0.615 0.645]\n"
     ]
    },
    {
     "name": "stderr",
     "output_type": "stream",
     "text": [
      "C:\\Users\\lissa\\anaconda3.23\\lib\\site-packages\\sklearn\\neighbors\\_classification.py:228: FutureWarning: Unlike other reduction functions (e.g. `skew`, `kurtosis`), the default behavior of `mode` typically preserves the axis it acts along. In SciPy 1.11.0, this behavior will change: the default value of `keepdims` will become False, the `axis` over which the statistic is taken will be eliminated, and the value None will no longer be accepted. Set `keepdims` to True or False to avoid this warning.\n",
      "  mode, _ = stats.mode(_y[neigh_ind, k], axis=1)\n",
      "C:\\Users\\lissa\\anaconda3.23\\lib\\site-packages\\sklearn\\neighbors\\_classification.py:228: FutureWarning: Unlike other reduction functions (e.g. `skew`, `kurtosis`), the default behavior of `mode` typically preserves the axis it acts along. In SciPy 1.11.0, this behavior will change: the default value of `keepdims` will become False, the `axis` over which the statistic is taken will be eliminated, and the value None will no longer be accepted. Set `keepdims` to True or False to avoid this warning.\n",
      "  mode, _ = stats.mode(_y[neigh_ind, k], axis=1)\n"
     ]
    }
   ],
   "source": [
    "k = 30\n",
    "model = KNeighborsClassifier(n_neighbors=k)\n",
    "scores = cross_val_score(model, X, y, cv=10)\n",
    "print(scores)"
   ]
  },
  {
   "cell_type": "markdown",
   "metadata": {},
   "source": [
    "And SVM:"
   ]
  },
  {
   "cell_type": "code",
   "execution_count": 45,
   "metadata": {},
   "outputs": [
    {
     "name": "stdout",
     "output_type": "stream",
     "text": [
      "[0.78  0.83  0.855 0.815 0.825 0.85  0.835 0.84  0.79  0.86 ]\n"
     ]
    }
   ],
   "source": [
    "model = svm.SVC(kernel='rbf', C=30, gamma=\"auto\")\n",
    "scores = cross_val_score(model, X, y, cv=10)\n",
    "print(scores)"
   ]
  },
  {
   "cell_type": "markdown",
   "metadata": {},
   "source": [
    "Here we can see that kNN with these parameters is less accurate than SVM, which is about 80% accurate. Of course, we could now use cross validation to find the optimal parameters, `k` and `C`, but as always, SVM is slow... "
   ]
  },
  {
   "cell_type": "markdown",
   "metadata": {},
   "source": [
    "So, let's see what our algorithm things about the Mod Squad! "
   ]
  },
  {
   "cell_type": "code",
   "execution_count": 61,
   "metadata": {},
   "outputs": [
    {
     "data": {
      "text/plain": [
       "SVC(C=30, gamma='auto')"
      ]
     },
     "execution_count": 61,
     "metadata": {},
     "output_type": "execute_result"
    }
   ],
   "source": [
    "XTrain, XTest, yTrain, yTest = train_test_split(X, y, random_state=1, test_size=0.2)\n",
    "\n",
    "model.fit(XTrain, yTrain)"
   ]
  },
  {
   "cell_type": "code",
   "execution_count": 62,
   "metadata": {},
   "outputs": [
    {
     "data": {
      "text/plain": [
       "[array([1., 1., 1., ..., 0., 0., 0.])]"
      ]
     },
     "execution_count": 62,
     "metadata": {},
     "output_type": "execute_result"
    }
   ],
   "source": [
    "mod_squad = [X[2]]\n",
    "mod_squad"
   ]
  },
  {
   "cell_type": "code",
   "execution_count": 63,
   "metadata": {},
   "outputs": [
    {
     "data": {
      "text/plain": [
       "array([0])"
      ]
     },
     "execution_count": 63,
     "metadata": {},
     "output_type": "execute_result"
    }
   ],
   "source": [
    "model.predict(mod_squad)"
   ]
  },
  {
   "cell_type": "markdown",
   "metadata": {},
   "source": [
    "Our model says 0 - so a bad review! We have succesfully build a classifier that can detect the Mod Squad review as a bad review! "
   ]
  },
  {
   "cell_type": "markdown",
   "metadata": {},
   "source": [
    "Let's take a look at a mis-classified movie. Remember, that the first 1000 movies are negative reviews, so we can just look for the first negative one:"
   ]
  },
  {
   "cell_type": "code",
   "execution_count": 64,
   "metadata": {},
   "outputs": [
    {
     "data": {
      "text/plain": [
       "array([0, 0, 0, 0, 0, 0, 0, 0, 1, 0])"
      ]
     },
     "execution_count": 64,
     "metadata": {},
     "output_type": "execute_result"
    }
   ],
   "source": [
    "model.predict(X[0:10])"
   ]
  },
  {
   "cell_type": "markdown",
   "metadata": {},
   "source": [
    "Review 9, which was misclassified, is for Aberdeen, which has [generally favorable reviews](https://www.rottentomatoes.com/m/aberdeen/) with about 80% positive. Let's looks at the review:"
   ]
  },
  {
   "cell_type": "code",
   "execution_count": 65,
   "metadata": {},
   "outputs": [
    {
     "name": "stdout",
     "output_type": "stream",
     "text": [
      "\n",
      " call it a road trip for the walking wounded . \n",
      "stellan skarsg ? rd plays such a convincingly zombified drunken loser that it's difficult to spend nearly two hours of screen time in his smelly , boozed-out presence . \n",
      "yet this ever-reliable swedish actor adds depth and significance to the otherwise plodding and forgettable aberdeen , a sentimental and painfully mundane european drama . \n",
      "playwright august strindberg built his career on families and relationships paralyzed by secrets , unable to express their longings until the hour is far too late . \n",
      "that's an accurate reflection of what aberdeen strives for , focusing on the pairing of an alcoholic father , tomas ( skarsg ? rd ) and his alienated , openly hostile yuppie daughter , kaisa ( lena headey , gossip ) . \n",
      "they haven't spoken in years , and wouldn't even be making the long trip from norway to aberdeen , scotland by automobile if it weren't for kaisa's mother ( charlotte rampling , under the sand ) rotting away in a hospital bed from cancer . \n",
      "in a soap opera twist , mother has only a few days to live . \n",
      " ( only in the movies , right ? ) \n",
      "too blitzed to even step foot on a plane , tomas hits the open road with kaisa . \n",
      "loathing each other all the while , they make periodic stops for tomas to puke on the dashboard or pass out -- whenever he isn't muttering what a rotten kid she turned out to be . \n",
      "despite his sloshed viewpoint , tomas recognizes that the apple hasn't fallen very far from the tree . \n",
      "kaisa gets nosebleeds from snorting coke , sabotages her personal relationships through indifference , and is unable to restrain her quick and vindictive temper . \n",
      "ain't they a pair ? \n",
      "unable to find true notes of unspoken familial empathy in the one-note and repetitively bitchy dialogue , screenwriters kristin amundsen and hans petter moland fabricate a series of contrivances to propel events forward -- lost money , roving street hooligans looking for drunks to kick around , nosy cops , and flat tires all figure into the schematic and convenient narrative . \n",
      "by the time they reach the hospital , it's time to unveil the secrets from a dark past that are not only simplistic devices that trivialize the father-daughter conflict , they're also the mainstays of many a bad strindberg wannabe . \n",
      "this revelation exists purely for its own sake . \n",
      "aberdeen doesn't know where else to go . \n",
      "weak , unimaginative casting thwarts the pivotal role of kaisa . \n",
      "if lena headey were a stronger actress , perhaps aberdeen could have been able to coast on the performances and moody , haunting cinematography ( rendering norway into its own pastoral ghost world -- the reference to a certain superior american indie flick intentional ) . \n",
      "headey's too busy acting , using her face and furrowed brow to convey every last twitch of insouciance . \n",
      "if she were paying any attention to skarsg ? rd , maybe she'd figure out that doing less can reveal so much more . \n",
      "it's worthwhile to compare aberdeen to an earlier film released in 2001 , jonathan nossiter's captivating signs & wonders . \n",
      "it's not just because skarsg ? rd and rampling played disturbed parental figures in both films ( they're not bound by ceremonial wedlock in aberdeen ) . \n",
      "the differences in the way their characters were presented is significant . \n",
      "in aberdeen , rampling is a luminous diva , preening and static in her hospital bed . \n",
      "despite skarsg ? rd's solid performance as tomas , his pathetic drunk is never given much of a chance to emote anything besides catatonic sorrow . \n",
      "there's genuine ferocity and sexually charged frisson during their understated confrontations in signs & wonders , allowing them to suggest a gray zone of complications that accompany torn romance and years of stifled curiosity . \n",
      "nossiter's film thoroughly explores this neurotic territory in addition to delving into the americanization of greece and the use of mysticism as an illusion to deflect pain . \n",
      "if signs & wonders sometimes feels overloaded with ideas , at least it's willing to stretch beyond what we've come to expect from traditional drama . \n",
      "aberdeen is never half so ambitious , content to sleepwalk through the rhythms and timing of other movies . \n",
      "when did character driven stories stop paying attention to the complexities of real life ? \n",
      "the depressing answer can be found in lawrence kasdan's trite but occasionally useful grand canyon , where steve martin's hollywood mogul pronounces , \" all of life's riddles are answered in the movies ! \" \n",
      "even foreign films are taking that advice to heart . \n",
      "\n",
      "\n",
      " ['neg']\n"
     ]
    }
   ],
   "source": [
    "fid = reviews.fileids()[8]\n",
    "\n",
    "print('\\n', reviews.raw(fid))\n",
    "print('\\n', reviews.categories(fid) )"
   ]
  },
  {
   "cell_type": "markdown",
   "metadata": {},
   "source": [
    "So if we read this, we can see that this is a negative review, but not a terrible review. Take this sentence for example: \n",
    "\n",
    " * \"if signs & wonders sometimes feels overloaded with ideas , at least it's willing to stretch beyond what we've come to expect from traditional drama\"\n",
    " * \"yet this ever-reliable swedish actor adds depth and significance to the otherwise plodding and forgettable aberdeen , a sentimental and painfully mundane european drama\""
   ]
  },
  {
   "cell_type": "markdown",
   "metadata": {},
   "source": [
    "## We could have also used the Classifier from the NLTK library\n",
    "\n",
    "Below is the sentiment analysis from [Ch. 6 of the NLTK book](http://www.nltk.org/book/ch06.html). \n",
    "\n"
   ]
  },
  {
   "cell_type": "code",
   "execution_count": 66,
   "metadata": {},
   "outputs": [],
   "source": [
    "documents = [(list(reviews.words(fileid)), category)\n",
    "             for category in reviews.categories() \n",
    "             for fileid in reviews.fileids(category)]"
   ]
  },
  {
   "cell_type": "markdown",
   "metadata": {},
   "source": [
    "This list contains tuples where the review, stored as an array of words, is the first item in the tuple and the category is the second. "
   ]
  },
  {
   "cell_type": "code",
   "execution_count": 67,
   "metadata": {},
   "outputs": [
    {
     "data": {
      "text/plain": [
       "(['the',\n",
       "  'happy',\n",
       "  'bastard',\n",
       "  \"'\",\n",
       "  's',\n",
       "  'quick',\n",
       "  'movie',\n",
       "  'review',\n",
       "  'damn',\n",
       "  'that',\n",
       "  'y2k',\n",
       "  'bug',\n",
       "  '.',\n",
       "  'it',\n",
       "  \"'\",\n",
       "  's',\n",
       "  'got',\n",
       "  'a',\n",
       "  'head',\n",
       "  'start',\n",
       "  'in',\n",
       "  'this',\n",
       "  'movie',\n",
       "  'starring',\n",
       "  'jamie',\n",
       "  'lee',\n",
       "  'curtis',\n",
       "  'and',\n",
       "  'another',\n",
       "  'baldwin',\n",
       "  'brother',\n",
       "  '(',\n",
       "  'william',\n",
       "  'this',\n",
       "  'time',\n",
       "  ')',\n",
       "  'in',\n",
       "  'a',\n",
       "  'story',\n",
       "  'regarding',\n",
       "  'a',\n",
       "  'crew',\n",
       "  'of',\n",
       "  'a',\n",
       "  'tugboat',\n",
       "  'that',\n",
       "  'comes',\n",
       "  'across',\n",
       "  'a',\n",
       "  'deserted',\n",
       "  'russian',\n",
       "  'tech',\n",
       "  'ship',\n",
       "  'that',\n",
       "  'has',\n",
       "  'a',\n",
       "  'strangeness',\n",
       "  'to',\n",
       "  'it',\n",
       "  'when',\n",
       "  'they',\n",
       "  'kick',\n",
       "  'the',\n",
       "  'power',\n",
       "  'back',\n",
       "  'on',\n",
       "  '.',\n",
       "  'little',\n",
       "  'do',\n",
       "  'they',\n",
       "  'know',\n",
       "  'the',\n",
       "  'power',\n",
       "  'within',\n",
       "  '.',\n",
       "  '.',\n",
       "  '.',\n",
       "  'going',\n",
       "  'for',\n",
       "  'the',\n",
       "  'gore',\n",
       "  'and',\n",
       "  'bringing',\n",
       "  'on',\n",
       "  'a',\n",
       "  'few',\n",
       "  'action',\n",
       "  'sequences',\n",
       "  'here',\n",
       "  'and',\n",
       "  'there',\n",
       "  ',',\n",
       "  'virus',\n",
       "  'still',\n",
       "  'feels',\n",
       "  'very',\n",
       "  'empty',\n",
       "  ',',\n",
       "  'like',\n",
       "  'a',\n",
       "  'movie',\n",
       "  'going',\n",
       "  'for',\n",
       "  'all',\n",
       "  'flash',\n",
       "  'and',\n",
       "  'no',\n",
       "  'substance',\n",
       "  '.',\n",
       "  'we',\n",
       "  'don',\n",
       "  \"'\",\n",
       "  't',\n",
       "  'know',\n",
       "  'why',\n",
       "  'the',\n",
       "  'crew',\n",
       "  'was',\n",
       "  'really',\n",
       "  'out',\n",
       "  'in',\n",
       "  'the',\n",
       "  'middle',\n",
       "  'of',\n",
       "  'nowhere',\n",
       "  ',',\n",
       "  'we',\n",
       "  'don',\n",
       "  \"'\",\n",
       "  't',\n",
       "  'know',\n",
       "  'the',\n",
       "  'origin',\n",
       "  'of',\n",
       "  'what',\n",
       "  'took',\n",
       "  'over',\n",
       "  'the',\n",
       "  'ship',\n",
       "  '(',\n",
       "  'just',\n",
       "  'that',\n",
       "  'a',\n",
       "  'big',\n",
       "  'pink',\n",
       "  'flashy',\n",
       "  'thing',\n",
       "  'hit',\n",
       "  'the',\n",
       "  'mir',\n",
       "  ')',\n",
       "  ',',\n",
       "  'and',\n",
       "  ',',\n",
       "  'of',\n",
       "  'course',\n",
       "  ',',\n",
       "  'we',\n",
       "  'don',\n",
       "  \"'\",\n",
       "  't',\n",
       "  'know',\n",
       "  'why',\n",
       "  'donald',\n",
       "  'sutherland',\n",
       "  'is',\n",
       "  'stumbling',\n",
       "  'around',\n",
       "  'drunkenly',\n",
       "  'throughout',\n",
       "  '.',\n",
       "  'here',\n",
       "  ',',\n",
       "  'it',\n",
       "  \"'\",\n",
       "  's',\n",
       "  'just',\n",
       "  '\"',\n",
       "  'hey',\n",
       "  ',',\n",
       "  'let',\n",
       "  \"'\",\n",
       "  's',\n",
       "  'chase',\n",
       "  'these',\n",
       "  'people',\n",
       "  'around',\n",
       "  'with',\n",
       "  'some',\n",
       "  'robots',\n",
       "  '\"',\n",
       "  '.',\n",
       "  'the',\n",
       "  'acting',\n",
       "  'is',\n",
       "  'below',\n",
       "  'average',\n",
       "  ',',\n",
       "  'even',\n",
       "  'from',\n",
       "  'the',\n",
       "  'likes',\n",
       "  'of',\n",
       "  'curtis',\n",
       "  '.',\n",
       "  'you',\n",
       "  \"'\",\n",
       "  're',\n",
       "  'more',\n",
       "  'likely',\n",
       "  'to',\n",
       "  'get',\n",
       "  'a',\n",
       "  'kick',\n",
       "  'out',\n",
       "  'of',\n",
       "  'her',\n",
       "  'work',\n",
       "  'in',\n",
       "  'halloween',\n",
       "  'h20',\n",
       "  '.',\n",
       "  'sutherland',\n",
       "  'is',\n",
       "  'wasted',\n",
       "  'and',\n",
       "  'baldwin',\n",
       "  ',',\n",
       "  'well',\n",
       "  ',',\n",
       "  'he',\n",
       "  \"'\",\n",
       "  's',\n",
       "  'acting',\n",
       "  'like',\n",
       "  'a',\n",
       "  'baldwin',\n",
       "  ',',\n",
       "  'of',\n",
       "  'course',\n",
       "  '.',\n",
       "  'the',\n",
       "  'real',\n",
       "  'star',\n",
       "  'here',\n",
       "  'are',\n",
       "  'stan',\n",
       "  'winston',\n",
       "  \"'\",\n",
       "  's',\n",
       "  'robot',\n",
       "  'design',\n",
       "  ',',\n",
       "  'some',\n",
       "  'schnazzy',\n",
       "  'cgi',\n",
       "  ',',\n",
       "  'and',\n",
       "  'the',\n",
       "  'occasional',\n",
       "  'good',\n",
       "  'gore',\n",
       "  'shot',\n",
       "  ',',\n",
       "  'like',\n",
       "  'picking',\n",
       "  'into',\n",
       "  'someone',\n",
       "  \"'\",\n",
       "  's',\n",
       "  'brain',\n",
       "  '.',\n",
       "  'so',\n",
       "  ',',\n",
       "  'if',\n",
       "  'robots',\n",
       "  'and',\n",
       "  'body',\n",
       "  'parts',\n",
       "  'really',\n",
       "  'turn',\n",
       "  'you',\n",
       "  'on',\n",
       "  ',',\n",
       "  'here',\n",
       "  \"'\",\n",
       "  's',\n",
       "  'your',\n",
       "  'movie',\n",
       "  '.',\n",
       "  'otherwise',\n",
       "  ',',\n",
       "  'it',\n",
       "  \"'\",\n",
       "  's',\n",
       "  'pretty',\n",
       "  'much',\n",
       "  'a',\n",
       "  'sunken',\n",
       "  'ship',\n",
       "  'of',\n",
       "  'a',\n",
       "  'movie',\n",
       "  '.'],\n",
       " 'neg')"
      ]
     },
     "execution_count": 67,
     "metadata": {},
     "output_type": "execute_result"
    }
   ],
   "source": [
    "documents[1]"
   ]
  },
  {
   "cell_type": "markdown",
   "metadata": {},
   "source": [
    "Extract the features from all of the documents"
   ]
  },
  {
   "cell_type": "code",
   "execution_count": 68,
   "metadata": {},
   "outputs": [],
   "source": [
    "def document_features(document):    \n",
    "    document_words = set(document)\n",
    "    features = {}\n",
    "    for word in word_features:\n",
    "        features['contains('+ word +')'] = (word in document_words)\n",
    "    return features\n",
    "\n",
    "featuresets = [(document_features(d), c) for (d,c) in documents]"
   ]
  },
  {
   "cell_type": "code",
   "execution_count": 69,
   "metadata": {},
   "outputs": [
    {
     "data": {
      "text/plain": [
       "({'contains(film)': True,\n",
       "  'contains(one)': True,\n",
       "  'contains(movie)': True,\n",
       "  'contains(like)': True,\n",
       "  'contains(even)': True,\n",
       "  'contains(good)': False,\n",
       "  'contains(time)': True,\n",
       "  'contains(story)': False,\n",
       "  'contains(would)': True,\n",
       "  'contains(much)': True,\n",
       "  'contains(character)': False,\n",
       "  'contains(also)': False,\n",
       "  'contains(get)': False,\n",
       "  'contains(two)': True,\n",
       "  'contains(well)': False,\n",
       "  'contains(characters)': True,\n",
       "  'contains(first)': True,\n",
       "  'contains(see)': False,\n",
       "  'contains(way)': True,\n",
       "  'contains(make)': True,\n",
       "  'contains(life)': False,\n",
       "  'contains(really)': True,\n",
       "  'contains(films)': True,\n",
       "  'contains(plot)': True,\n",
       "  'contains(little)': False,\n",
       "  'contains(people)': False,\n",
       "  'contains(could)': False,\n",
       "  'contains(scene)': False,\n",
       "  'contains(man)': True,\n",
       "  'contains(bad)': False,\n",
       "  'contains(never)': False,\n",
       "  'contains(best)': True,\n",
       "  'contains(new)': False,\n",
       "  'contains(scenes)': False,\n",
       "  'contains(many)': False,\n",
       "  'contains(director)': False,\n",
       "  'contains(know)': True,\n",
       "  'contains(movies)': True,\n",
       "  'contains(action)': False,\n",
       "  'contains(great)': False,\n",
       "  'contains(another)': False,\n",
       "  'contains(love)': False,\n",
       "  'contains(go)': True,\n",
       "  'contains(made)': False,\n",
       "  'contains(us)': True,\n",
       "  'contains(big)': False,\n",
       "  'contains(end)': False,\n",
       "  'contains(something)': False,\n",
       "  'contains(back)': False,\n",
       "  'contains(still)': False,\n",
       "  'contains(world)': False,\n",
       "  'contains(seems)': False,\n",
       "  'contains(work)': False,\n",
       "  'contains(makes)': False,\n",
       "  'contains(however)': True,\n",
       "  'contains(every)': True,\n",
       "  'contains(though)': False,\n",
       "  'contains(better)': False,\n",
       "  'contains(real)': False,\n",
       "  'contains(audience)': True,\n",
       "  'contains(enough)': True,\n",
       "  'contains(seen)': True,\n",
       "  'contains(take)': False,\n",
       "  'contains(around)': False,\n",
       "  'contains(going)': False,\n",
       "  'contains(year)': False,\n",
       "  'contains(performance)': False,\n",
       "  'contains(role)': False,\n",
       "  'contains(old)': False,\n",
       "  'contains(gets)': True,\n",
       "  'contains(may)': False,\n",
       "  'contains(things)': True,\n",
       "  'contains(think)': False,\n",
       "  'contains(years)': False,\n",
       "  'contains(last)': False,\n",
       "  'contains(comedy)': False,\n",
       "  'contains(funny)': False,\n",
       "  'contains(actually)': False,\n",
       "  'contains(long)': True,\n",
       "  'contains(look)': False,\n",
       "  'contains(almost)': False,\n",
       "  'contains(thing)': True,\n",
       "  'contains(fact)': True,\n",
       "  'contains(nothing)': True,\n",
       "  'contains(say)': False,\n",
       "  'contains(right)': False,\n",
       "  'contains(john)': False,\n",
       "  'contains(although)': False,\n",
       "  'contains(played)': False,\n",
       "  'contains(find)': False,\n",
       "  'contains(script)': False,\n",
       "  'contains(come)': False,\n",
       "  'contains(ever)': False,\n",
       "  'contains(cast)': True,\n",
       "  'contains(since)': False,\n",
       "  'contains(star)': False,\n",
       "  'contains(plays)': True,\n",
       "  'contains(young)': True,\n",
       "  'contains(show)': True,\n",
       "  'contains(comes)': True,\n",
       "  'contains(part)': False,\n",
       "  'contains(original)': False,\n",
       "  'contains(actors)': False,\n",
       "  'contains(screen)': True,\n",
       "  'contains(without)': False,\n",
       "  'contains(acting)': True,\n",
       "  'contains(three)': True,\n",
       "  'contains(day)': False,\n",
       "  'contains(point)': False,\n",
       "  'contains(lot)': False,\n",
       "  'contains(least)': False,\n",
       "  'contains(takes)': False,\n",
       "  'contains(guy)': False,\n",
       "  'contains(quite)': False,\n",
       "  'contains(away)': False,\n",
       "  'contains(family)': False,\n",
       "  'contains(effects)': False,\n",
       "  'contains(course)': True,\n",
       "  'contains(goes)': False,\n",
       "  'contains(minutes)': True,\n",
       "  'contains(interesting)': False,\n",
       "  'contains(might)': False,\n",
       "  'contains(far)': False,\n",
       "  'contains(high)': False,\n",
       "  'contains(rather)': False,\n",
       "  'contains(must)': False,\n",
       "  'contains(anything)': False,\n",
       "  'contains(place)': False,\n",
       "  'contains(set)': False,\n",
       "  'contains(yet)': False,\n",
       "  'contains(watch)': True,\n",
       "  'contains(making)': False,\n",
       "  'contains(wife)': False,\n",
       "  'contains(hard)': True,\n",
       "  'contains(always)': False,\n",
       "  'contains(fun)': False,\n",
       "  'contains(seem)': True,\n",
       "  'contains(special)': False,\n",
       "  'contains(bit)': False,\n",
       "  'contains(times)': True,\n",
       "  'contains(trying)': False,\n",
       "  'contains(hollywood)': False,\n",
       "  'contains(instead)': True,\n",
       "  'contains(give)': False,\n",
       "  'contains(want)': False,\n",
       "  'contains(picture)': False,\n",
       "  'contains(kind)': False,\n",
       "  'contains(american)': True,\n",
       "  'contains(job)': False,\n",
       "  'contains(sense)': False,\n",
       "  'contains(woman)': False,\n",
       "  'contains(home)': False,\n",
       "  'contains(series)': False,\n",
       "  'contains(actor)': False,\n",
       "  'contains(probably)': False,\n",
       "  'contains(help)': False,\n",
       "  'contains(half)': True,\n",
       "  'contains(along)': False,\n",
       "  'contains(men)': False,\n",
       "  'contains(everything)': True,\n",
       "  'contains(pretty)': False,\n",
       "  'contains(becomes)': True,\n",
       "  'contains(sure)': False,\n",
       "  'contains(black)': False,\n",
       "  'contains(together)': False,\n",
       "  'contains(dialogue)': True,\n",
       "  'contains(money)': False,\n",
       "  'contains(become)': False,\n",
       "  'contains(gives)': False,\n",
       "  'contains(given)': False,\n",
       "  'contains(looking)': True,\n",
       "  'contains(whole)': False,\n",
       "  'contains(watching)': True,\n",
       "  'contains(father)': False,\n",
       "  'contains(feel)': False,\n",
       "  'contains(everyone)': False,\n",
       "  'contains(music)': True,\n",
       "  'contains(wants)': False,\n",
       "  'contains(sex)': False,\n",
       "  'contains(less)': False,\n",
       "  'contains(done)': False,\n",
       "  'contains(horror)': False,\n",
       "  'contains(got)': False,\n",
       "  'contains(death)': False,\n",
       "  'contains(perhaps)': False,\n",
       "  'contains(city)': False,\n",
       "  'contains(next)': False,\n",
       "  'contains(especially)': True,\n",
       "  'contains(play)': False,\n",
       "  'contains(girl)': False,\n",
       "  'contains(mind)': False,\n",
       "  'contains(moments)': False,\n",
       "  'contains(looks)': False,\n",
       "  'contains(completely)': False,\n",
       "  'contains(reason)': False,\n",
       "  'contains(mother)': False,\n",
       "  'contains(whose)': False,\n",
       "  'contains(line)': False,\n",
       "  'contains(night)': False,\n",
       "  'contains(human)': False,\n",
       "  'contains(rest)': False,\n",
       "  'contains(performances)': False,\n",
       "  'contains(different)': False,\n",
       "  'contains(evil)': False,\n",
       "  'contains(small)': False,\n",
       "  'contains(james)': False,\n",
       "  'contains(simply)': True,\n",
       "  'contains(couple)': False,\n",
       "  'contains(put)': False,\n",
       "  'contains(let)': False,\n",
       "  'contains(anyone)': False,\n",
       "  'contains(ending)': False,\n",
       "  'contains(case)': False,\n",
       "  'contains(several)': False,\n",
       "  'contains(dead)': False,\n",
       "  'contains(michael)': False,\n",
       "  'contains(left)': False,\n",
       "  'contains(thought)': False,\n",
       "  'contains(school)': False,\n",
       "  'contains(shows)': True,\n",
       "  'contains(humor)': False,\n",
       "  'contains(true)': False,\n",
       "  'contains(lost)': False,\n",
       "  'contains(written)': True,\n",
       "  'contains(friend)': False,\n",
       "  'contains(entire)': False,\n",
       "  'contains(getting)': False,\n",
       "  'contains(town)': False,\n",
       "  'contains(turns)': False,\n",
       "  'contains(soon)': False,\n",
       "  'contains(someone)': False,\n",
       "  'contains(second)': False,\n",
       "  'contains(main)': False,\n",
       "  'contains(stars)': False,\n",
       "  'contains(found)': False,\n",
       "  'contains(use)': False,\n",
       "  'contains(problem)': False,\n",
       "  'contains(friends)': False,\n",
       "  'contains(tv)': False,\n",
       "  'contains(top)': False,\n",
       "  'contains(name)': True,\n",
       "  'contains(begins)': False,\n",
       "  'contains(called)': False,\n",
       "  'contains(based)': True,\n",
       "  'contains(comic)': False,\n",
       "  'contains(david)': False,\n",
       "  'contains(head)': False,\n",
       "  'contains(else)': False,\n",
       "  'contains(idea)': False,\n",
       "  'contains(either)': False,\n",
       "  'contains(wrong)': True,\n",
       "  'contains(unfortunately)': True,\n",
       "  'contains(later)': False,\n",
       "  'contains(final)': False,\n",
       "  'contains(hand)': True,\n",
       "  'contains(alien)': False,\n",
       "  'contains(house)': False,\n",
       "  'contains(group)': False,\n",
       "  'contains(full)': False,\n",
       "  'contains(used)': False,\n",
       "  'contains(tries)': False,\n",
       "  'contains(often)': False,\n",
       "  'contains(war)': False,\n",
       "  'contains(sequence)': False,\n",
       "  'contains(keep)': False,\n",
       "  'contains(turn)': False,\n",
       "  'contains(playing)': False,\n",
       "  'contains(boy)': False,\n",
       "  'contains(behind)': False,\n",
       "  'contains(named)': False,\n",
       "  'contains(certainly)': True,\n",
       "  'contains(live)': False,\n",
       "  'contains(believe)': False,\n",
       "  'contains(works)': False,\n",
       "  'contains(relationship)': False,\n",
       "  'contains(face)': False,\n",
       "  'contains(hour)': True,\n",
       "  'contains(run)': False,\n",
       "  'contains(style)': False,\n",
       "  'contains(said)': False,\n",
       "  'contains(despite)': True,\n",
       "  'contains(person)': False,\n",
       "  'contains(finally)': False,\n",
       "  'contains(shot)': False,\n",
       "  'contains(book)': False,\n",
       "  'contains(tell)': False,\n",
       "  'contains(maybe)': False,\n",
       "  'contains(nice)': True,\n",
       "  'contains(son)': False,\n",
       "  'contains(perfect)': False,\n",
       "  'contains(side)': False,\n",
       "  'contains(seeing)': True,\n",
       "  'contains(able)': False,\n",
       "  'contains(finds)': False,\n",
       "  'contains(children)': False,\n",
       "  'contains(days)': False,\n",
       "  'contains(past)': False,\n",
       "  'contains(summer)': False,\n",
       "  'contains(camera)': False,\n",
       "  'contains(including)': False,\n",
       "  'contains(mr)': False,\n",
       "  'contains(kids)': False,\n",
       "  'contains(lives)': False,\n",
       "  'contains(directed)': False,\n",
       "  'contains(moment)': False,\n",
       "  'contains(game)': False,\n",
       "  'contains(running)': False,\n",
       "  'contains(fight)': False,\n",
       "  'contains(supposed)': False,\n",
       "  'contains(video)': True,\n",
       "  'contains(car)': True,\n",
       "  'contains(matter)': True,\n",
       "  'contains(kevin)': False,\n",
       "  'contains(joe)': False,\n",
       "  'contains(lines)': True,\n",
       "  'contains(worth)': True,\n",
       "  'contains(daughter)': False,\n",
       "  'contains(earth)': False,\n",
       "  'contains(starts)': False,\n",
       "  'contains(need)': False,\n",
       "  'contains(entertaining)': False,\n",
       "  'contains(white)': False,\n",
       "  'contains(start)': False,\n",
       "  'contains(writer)': False,\n",
       "  'contains(dark)': False,\n",
       "  'contains(short)': False,\n",
       "  'contains(self)': False,\n",
       "  'contains(worst)': False,\n",
       "  'contains(nearly)': False,\n",
       "  'contains(opening)': False,\n",
       "  'contains(try)': False,\n",
       "  'contains(upon)': False,\n",
       "  'contains(care)': True,\n",
       "  'contains(early)': False,\n",
       "  'contains(violence)': False,\n",
       "  'contains(throughout)': False,\n",
       "  'contains(team)': False,\n",
       "  'contains(production)': True,\n",
       "  'contains(example)': False,\n",
       "  'contains(beautiful)': False,\n",
       "  'contains(title)': False,\n",
       "  'contains(exactly)': False,\n",
       "  'contains(jack)': False,\n",
       "  'contains(review)': False,\n",
       "  'contains(major)': False,\n",
       "  'contains(drama)': False,\n",
       "  'contains(problems)': False,\n",
       "  'contains(sequences)': False,\n",
       "  'contains(obvious)': False,\n",
       "  'contains(version)': False,\n",
       "  'contains(screenplay)': False,\n",
       "  'contains(known)': False,\n",
       "  'contains(killer)': False,\n",
       "  'contains(robert)': False,\n",
       "  'contains(disney)': False,\n",
       "  'contains(already)': True,\n",
       "  'contains(close)': False,\n",
       "  'contains(classic)': False,\n",
       "  'contains(others)': False,\n",
       "  'contains(hit)': False,\n",
       "  'contains(kill)': False,\n",
       "  'contains(deep)': False,\n",
       "  'contains(five)': False,\n",
       "  'contains(order)': False,\n",
       "  'contains(act)': False,\n",
       "  'contains(simple)': False,\n",
       "  'contains(fine)': False,\n",
       "  'contains(heart)': False,\n",
       "  'contains(roles)': False,\n",
       "  'contains(jackie)': False,\n",
       "  'contains(direction)': False,\n",
       "  'contains(eyes)': False,\n",
       "  'contains(four)': False,\n",
       "  'contains(question)': False,\n",
       "  'contains(sort)': False,\n",
       "  'contains(sometimes)': True,\n",
       "  'contains(knows)': False,\n",
       "  'contains(supporting)': False,\n",
       "  'contains(coming)': False,\n",
       "  'contains(voice)': False,\n",
       "  'contains(women)': False,\n",
       "  'contains(truly)': False,\n",
       "  'contains(save)': True,\n",
       "  'contains(jokes)': False,\n",
       "  'contains(computer)': False,\n",
       "  'contains(child)': False,\n",
       "  'contains(boring)': False,\n",
       "  'contains(tom)': False,\n",
       "  'contains(level)': False,\n",
       "  'contains(body)': False,\n",
       "  'contains(guys)': False,\n",
       "  'contains(genre)': False,\n",
       "  'contains(brother)': False,\n",
       "  'contains(strong)': False,\n",
       "  'contains(stop)': False,\n",
       "  'contains(room)': False,\n",
       "  'contains(space)': False,\n",
       "  'contains(lee)': False,\n",
       "  'contains(ends)': False,\n",
       "  'contains(beginning)': False,\n",
       "  'contains(ship)': False,\n",
       "  'contains(york)': False,\n",
       "  'contains(attempt)': True,\n",
       "  'contains(thriller)': False,\n",
       "  'contains(scream)': False,\n",
       "  'contains(peter)': False,\n",
       "  'contains(husband)': False,\n",
       "  'contains(fiction)': False,\n",
       "  'contains(happens)': False,\n",
       "  'contains(hero)': False,\n",
       "  'contains(novel)': False,\n",
       "  'contains(note)': False,\n",
       "  'contains(hope)': False,\n",
       "  'contains(king)': False,\n",
       "  'contains(yes)': False,\n",
       "  'contains(says)': False,\n",
       "  'contains(tells)': True,\n",
       "  'contains(quickly)': True,\n",
       "  'contains(romantic)': False,\n",
       "  'contains(dog)': False,\n",
       "  'contains(oscar)': False,\n",
       "  'contains(stupid)': False,\n",
       "  'contains(possible)': False,\n",
       "  'contains(saw)': False,\n",
       "  'contains(lead)': False,\n",
       "  'contains(career)': False,\n",
       "  'contains(murder)': False,\n",
       "  'contains(extremely)': True,\n",
       "  'contains(manages)': False,\n",
       "  'contains(god)': False,\n",
       "  'contains(mostly)': False,\n",
       "  'contains(wonder)': False,\n",
       "  'contains(particularly)': False,\n",
       "  'contains(future)': False,\n",
       "  'contains(fans)': False,\n",
       "  'contains(sound)': False,\n",
       "  'contains(worse)': False,\n",
       "  'contains(piece)': False,\n",
       "  'contains(involving)': False,\n",
       "  'contains(de)': False,\n",
       "  'contains(appears)': True,\n",
       "  'contains(planet)': False,\n",
       "  'contains(paul)': False,\n",
       "  'contains(involved)': False,\n",
       "  'contains(mean)': False,\n",
       "  'contains(none)': False,\n",
       "  'contains(taking)': False,\n",
       "  'contains(hours)': False,\n",
       "  'contains(laugh)': False,\n",
       "  'contains(police)': True,\n",
       "  'contains(sets)': False,\n",
       "  'contains(attention)': False,\n",
       "  'contains(co)': False,\n",
       "  'contains(hell)': False,\n",
       "  'contains(eventually)': False,\n",
       "  'contains(single)': True,\n",
       "  'contains(fall)': False,\n",
       "  'contains(falls)': False,\n",
       "  'contains(material)': False,\n",
       "  'contains(emotional)': False,\n",
       "  'contains(power)': False,\n",
       "  'contains(late)': True,\n",
       "  'contains(lack)': False,\n",
       "  'contains(dr)': False,\n",
       "  'contains(van)': False,\n",
       "  'contains(result)': False,\n",
       "  'contains(elements)': True,\n",
       "  'contains(meet)': False,\n",
       "  'contains(smith)': False,\n",
       "  'contains(science)': False,\n",
       "  'contains(experience)': False,\n",
       "  'contains(bring)': False,\n",
       "  'contains(wild)': False,\n",
       "  'contains(living)': False,\n",
       "  'contains(theater)': False,\n",
       "  'contains(interest)': False,\n",
       "  'contains(leads)': False,\n",
       "  'contains(word)': False,\n",
       "  'contains(feature)': False,\n",
       "  'contains(battle)': False,\n",
       "  'contains(girls)': False,\n",
       "  'contains(alone)': False,\n",
       "  'contains(obviously)': False,\n",
       "  'contains(george)': False,\n",
       "  'contains(within)': False,\n",
       "  'contains(usually)': False,\n",
       "  'contains(enjoy)': False,\n",
       "  'contains(guess)': False,\n",
       "  'contains(among)': False,\n",
       "  'contains(taken)': False,\n",
       "  'contains(feeling)': False,\n",
       "  'contains(laughs)': False,\n",
       "  'contains(aliens)': False,\n",
       "  'contains(talk)': False,\n",
       "  'contains(chance)': False,\n",
       "  'contains(talent)': False,\n",
       "  'contains(middle)': False,\n",
       "  'contains(number)': True,\n",
       "  'contains(easy)': False,\n",
       "  'contains(across)': False,\n",
       "  'contains(needs)': False,\n",
       "  'contains(attempts)': False,\n",
       "  'contains(happen)': False,\n",
       "  'contains(television)': True,\n",
       "  'contains(chris)': False,\n",
       "  'contains(deal)': False,\n",
       "  'contains(poor)': False,\n",
       "  'contains(form)': False,\n",
       "  'contains(girlfriend)': False,\n",
       "  'contains(viewer)': True,\n",
       "  'contains(release)': False,\n",
       "  'contains(killed)': False,\n",
       "  'contains(forced)': False,\n",
       "  'contains(whether)': False,\n",
       "  'contains(wonderful)': False,\n",
       "  'contains(feels)': False,\n",
       "  'contains(oh)': False,\n",
       "  'contains(tale)': True,\n",
       "  'contains(serious)': False,\n",
       "  'contains(expect)': False,\n",
       "  'contains(except)': False,\n",
       "  'contains(light)': False,\n",
       "  'contains(success)': False,\n",
       "  'contains(features)': False,\n",
       "  'contains(premise)': False,\n",
       "  'contains(happy)': False,\n",
       "  'contains(words)': False,\n",
       "  'contains(leave)': False,\n",
       "  'contains(important)': False,\n",
       "  'contains(meets)': False,\n",
       "  'contains(history)': False,\n",
       "  'contains(giving)': False,\n",
       "  'contains(crew)': False,\n",
       "  'contains(type)': False,\n",
       "  'contains(call)': False,\n",
       "  'contains(turned)': False,\n",
       "  'contains(released)': False,\n",
       "  'contains(parents)': False,\n",
       "  'contains(art)': False,\n",
       "  'contains(impressive)': False,\n",
       "  'contains(mission)': False,\n",
       "  'contains(working)': False,\n",
       "  'contains(seemed)': False,\n",
       "  'contains(score)': False,\n",
       "  'contains(told)': False,\n",
       "  'contains(recent)': False,\n",
       "  'contains(robin)': False,\n",
       "  'contains(basically)': False,\n",
       "  'contains(entertainment)': False,\n",
       "  'contains(america)': False,\n",
       "  'contains(surprise)': False,\n",
       "  'contains(apparently)': False,\n",
       "  'contains(easily)': False,\n",
       "  'contains(ryan)': False,\n",
       "  'contains(cool)': True,\n",
       "  'contains(stuff)': True,\n",
       "  'contains(cop)': True,\n",
       "  'contains(change)': False,\n",
       "  'contains(williams)': False,\n",
       "  'contains(crime)': False,\n",
       "  'contains(office)': False,\n",
       "  'contains(parts)': False,\n",
       "  'contains(somehow)': False,\n",
       "  'contains(sequel)': False,\n",
       "  'contains(william)': False,\n",
       "  'contains(cut)': False,\n",
       "  'contains(die)': False,\n",
       "  'contains(jones)': False,\n",
       "  'contains(credits)': False,\n",
       "  'contains(batman)': False,\n",
       "  'contains(suspense)': False,\n",
       "  'contains(brings)': False,\n",
       "  'contains(events)': False,\n",
       "  'contains(reality)': False,\n",
       "  'contains(local)': False,\n",
       "  'contains(talking)': False,\n",
       "  'contains(difficult)': False,\n",
       "  'contains(using)': False,\n",
       "  'contains(went)': False,\n",
       "  'contains(writing)': False,\n",
       "  'contains(remember)': False,\n",
       "  'contains(near)': False,\n",
       "  'contains(straight)': False,\n",
       "  'contains(hilarious)': False,\n",
       "  'contains(ago)': False,\n",
       "  'contains(certain)': False,\n",
       "  'contains(ben)': False,\n",
       "  'contains(kid)': False,\n",
       "  'contains(slow)': False,\n",
       "  'contains(blood)': False,\n",
       "  'contains(mystery)': False,\n",
       "  'contains(complete)': True,\n",
       "  'contains(red)': False,\n",
       "  'contains(popular)': False,\n",
       "  'contains(effective)': False,\n",
       "  'contains(fast)': False,\n",
       "  'contains(flick)': False,\n",
       "  'contains(due)': False,\n",
       "  'contains(runs)': False,\n",
       "  'contains(gone)': False,\n",
       "  'contains(return)': False,\n",
       "  'contains(presence)': False,\n",
       "  'contains(quality)': False,\n",
       "  'contains(dramatic)': False,\n",
       "  'contains(filmmakers)': False,\n",
       "  'contains(age)': False,\n",
       "  'contains(brothers)': False,\n",
       "  'contains(business)': False,\n",
       "  'contains(general)': False,\n",
       "  'contains(rock)': False,\n",
       "  'contains(sexual)': False,\n",
       "  'contains(present)': False,\n",
       "  'contains(surprisingly)': False,\n",
       "  'contains(anyway)': False,\n",
       "  'contains(uses)': False,\n",
       "  'contains(personal)': False,\n",
       "  'contains(figure)': False,\n",
       "  'contains(smart)': False,\n",
       "  'contains(ways)': False,\n",
       "  'contains(decides)': False,\n",
       "  'contains(annoying)': False,\n",
       "  'contains(begin)': False,\n",
       "  'contains(somewhat)': False,\n",
       "  'contains(shots)': False,\n",
       "  'contains(rich)': False,\n",
       "  'contains(minute)': False,\n",
       "  'contains(law)': False,\n",
       "  'contains(previous)': False,\n",
       "  'contains(jim)': False,\n",
       "  'contains(successful)': False,\n",
       "  'contains(harry)': False,\n",
       "  'contains(water)': False,\n",
       "  'contains(similar)': False,\n",
       "  'contains(absolutely)': False,\n",
       "  'contains(motion)': False,\n",
       "  'contains(former)': False,\n",
       "  'contains(strange)': False,\n",
       "  'contains(came)': False,\n",
       "  'contains(follow)': False,\n",
       "  'contains(read)': False,\n",
       "  'contains(project)': False,\n",
       "  'contains(million)': False,\n",
       "  'contains(secret)': False,\n",
       "  'contains(starring)': False,\n",
       "  'contains(clear)': True,\n",
       "  'contains(familiar)': False,\n",
       "  'contains(romance)': False,\n",
       "  'contains(intelligent)': False,\n",
       "  'contains(third)': False,\n",
       "  'contains(excellent)': False,\n",
       "  'contains(amazing)': False,\n",
       "  'contains(party)': False,\n",
       "  'contains(budget)': False,\n",
       "  'contains(eye)': False,\n",
       "  'contains(actress)': False,\n",
       "  'contains(prison)': False,\n",
       "  'contains(latest)': False,\n",
       "  'contains(means)': False,\n",
       "  'contains(company)': False,\n",
       "  'contains(towards)': True,\n",
       "  'contains(predictable)': True,\n",
       "  'contains(powerful)': False,\n",
       "  'contains(bob)': False,\n",
       "  'contains(beyond)': False,\n",
       "  'contains(visual)': False,\n",
       "  'contains(leaves)': False,\n",
       "  'contains(r)': True,\n",
       "  'contains(nature)': False,\n",
       "  'contains(following)': False,\n",
       "  'contains(villain)': False,\n",
       "  'contains(leaving)': False,\n",
       "  'contains(animated)': False,\n",
       "  'contains(low)': False,\n",
       "  'contains(b)': False,\n",
       "  'contains(bill)': False,\n",
       "  'contains(sam)': False,\n",
       "  'contains(filled)': False,\n",
       "  'contains(wars)': False,\n",
       "  'contains(questions)': False,\n",
       "  'contains(cinema)': False,\n",
       "  'contains(message)': False,\n",
       "  'contains(box)': False,\n",
       "  'contains(moving)': False,\n",
       "  'contains(country)': False,\n",
       "  'contains(usual)': False,\n",
       "  'contains(martin)': False,\n",
       "  'contains(definitely)': False,\n",
       "  'contains(add)': False,\n",
       "  'contains(large)': False,\n",
       "  'contains(clever)': False,\n",
       "  'contains(create)': False,\n",
       "  'contains(felt)': False,\n",
       "  'contains(stories)': False,\n",
       "  'contains(brilliant)': False,\n",
       "  'contains(ones)': False,\n",
       "  'contains(giant)': False,\n",
       "  'contains(situation)': False,\n",
       "  'contains(murphy)': False,\n",
       "  'contains(break)': False,\n",
       "  'contains(opens)': False,\n",
       "  'contains(scary)': False,\n",
       "  'contains(doubt)': False,\n",
       "  'contains(drug)': False,\n",
       "  'contains(bunch)': False,\n",
       "  'contains(thinking)': False,\n",
       "  'contains(solid)': False,\n",
       "  'contains(effect)': False,\n",
       "  'contains(learn)': False,\n",
       "  'contains(move)': False,\n",
       "  'contains(force)': False,\n",
       "  'contains(potential)': False,\n",
       "  'contains(seriously)': False,\n",
       "  'contains(follows)': False,\n",
       "  'contains(saying)': False,\n",
       "  'contains(huge)': False,\n",
       "  'contains(class)': False,\n",
       "  'contains(plan)': False,\n",
       "  'contains(agent)': False,\n",
       "  'contains(created)': False,\n",
       "  'contains(unlike)': False,\n",
       "  'contains(pay)': False,\n",
       "  'contains(non)': False,\n",
       "  'contains(married)': False,\n",
       "  'contains(mark)': False,\n",
       "  'contains(sweet)': False,\n",
       "  'contains(perfectly)': False,\n",
       "  'contains(ex)': False,\n",
       "  'contains(realize)': False,\n",
       "  'contains(audiences)': False,\n",
       "  'contains(took)': False,\n",
       "  'contains(decent)': False,\n",
       "  'contains(likely)': True,\n",
       "  'contains(dream)': False,\n",
       "  'contains(view)': False,\n",
       "  'contains(scott)': False,\n",
       "  'contains(subject)': False,\n",
       "  'contains(understand)': False,\n",
       "  'contains(happened)': False,\n",
       "  'contains(enjoyable)': False,\n",
       "  'contains(studio)': False,\n",
       "  'contains(immediately)': True,\n",
       "  'contains(open)': False,\n",
       "  'contains(e)': False,\n",
       "  'contains(points)': False,\n",
       "  'contains(heard)': False,\n",
       "  'contains(viewers)': False,\n",
       "  'contains(cameron)': False,\n",
       "  'contains(truman)': False,\n",
       "  'contains(bruce)': False,\n",
       "  'contains(frank)': False,\n",
       "  'contains(private)': False,\n",
       "  'contains(stay)': False,\n",
       "  'contains(fails)': False,\n",
       "  'contains(impossible)': False,\n",
       "  'contains(cold)': False,\n",
       "  'contains(richard)': False,\n",
       "  'contains(overall)': False,\n",
       "  'contains(merely)': False,\n",
       "  'contains(exciting)': False,\n",
       "  'contains(mess)': True,\n",
       "  'contains(chase)': False,\n",
       "  'contains(free)': False,\n",
       "  'contains(ten)': False,\n",
       "  'contains(neither)': False,\n",
       "  'contains(wanted)': False,\n",
       "  'contains(gun)': False,\n",
       "  'contains(appear)': False,\n",
       "  'contains(carter)': False,\n",
       "  'contains(escape)': True,\n",
       "  'contains(ultimately)': True,\n",
       "  'contains(fan)': False,\n",
       "  'contains(inside)': False,\n",
       "  'contains(favorite)': False,\n",
       "  'contains(modern)': False,\n",
       "  'contains(l)': False,\n",
       "  'contains(wedding)': False,\n",
       "  'contains(stone)': False,\n",
       "  'contains(trek)': False,\n",
       "  'contains(brought)': False,\n",
       "  'contains(trouble)': False,\n",
       "  'contains(otherwise)': False,\n",
       "  'contains(tim)': False,\n",
       "  'contains(allen)': False,\n",
       "  'contains(bond)': False,\n",
       "  'contains(society)': False,\n",
       "  'contains(liked)': False,\n",
       "  'contains(dumb)': False,\n",
       "  'contains(musical)': False,\n",
       "  'contains(stand)': False,\n",
       "  'contains(political)': False,\n",
       "  'contains(various)': False,\n",
       "  'contains(talented)': False,\n",
       "  'contains(particular)': False,\n",
       "  'contains(west)': False,\n",
       "  'contains(state)': False,\n",
       "  'contains(keeps)': False,\n",
       "  'contains(english)': False,\n",
       "  'contains(silly)': False,\n",
       "  'contains(u)': False,\n",
       "  'contains(situations)': False,\n",
       "  'contains(park)': False,\n",
       "  'contains(teen)': True,\n",
       "  'contains(rating)': True,\n",
       "  'contains(slightly)': False,\n",
       "  'contains(steve)': False,\n",
       "  'contains(truth)': False,\n",
       "  'contains(air)': False,\n",
       "  'contains(element)': False,\n",
       "  'contains(joke)': False,\n",
       "  'contains(spend)': False,\n",
       "  'contains(key)': False,\n",
       "  'contains(biggest)': False,\n",
       "  'contains(members)': False,\n",
       "  'contains(effort)': False,\n",
       "  'contains(government)': False,\n",
       "  'contains(focus)': False,\n",
       "  'contains(eddie)': False,\n",
       "  'contains(soundtrack)': True,\n",
       "  'contains(hands)': False,\n",
       "  'contains(earlier)': False,\n",
       "  'contains(chan)': False,\n",
       "  'contains(purpose)': False,\n",
       "  'contains(today)': False,\n",
       "  'contains(showing)': False,\n",
       "  'contains(memorable)': True,\n",
       "  'contains(six)': True,\n",
       "  'contains(cannot)': False,\n",
       "  'contains(max)': False,\n",
       "  'contains(offers)': False,\n",
       "  'contains(rated)': False,\n",
       "  'contains(mars)': False,\n",
       "  'contains(heavy)': False,\n",
       "  'contains(totally)': False,\n",
       "  'contains(control)': False,\n",
       "  'contains(credit)': False,\n",
       "  'contains(fi)': False,\n",
       "  'contains(woody)': False,\n",
       "  'contains(ideas)': False,\n",
       "  'contains(sci)': False,\n",
       "  'contains(wait)': False,\n",
       "  'contains(sit)': False,\n",
       "  'contains(female)': False,\n",
       "  'contains(ask)': False,\n",
       "  'contains(waste)': False,\n",
       "  'contains(terrible)': False,\n",
       "  'contains(depth)': False,\n",
       "  'contains(simon)': False,\n",
       "  'contains(aspect)': False,\n",
       "  'contains(list)': False,\n",
       "  'contains(mary)': False,\n",
       "  'contains(sister)': False,\n",
       "  'contains(animation)': False,\n",
       "  'contains(entirely)': False,\n",
       "  'contains(fear)': False,\n",
       "  'contains(steven)': False,\n",
       "  'contains(moves)': False,\n",
       "  'contains(actual)': False,\n",
       "  'contains(army)': False,\n",
       "  'contains(british)': False,\n",
       "  'contains(constantly)': False,\n",
       "  'contains(fire)': False,\n",
       "  'contains(convincing)': False,\n",
       "  'contains(setting)': False,\n",
       "  'contains(gave)': False,\n",
       "  'contains(tension)': False,\n",
       "  'contains(street)': False,\n",
       "  'contains(brief)': False,\n",
       "  'contains(ridiculous)': False,\n",
       "  'contains(cinematography)': False,\n",
       "  'contains(typical)': False,\n",
       "  'contains(nick)': False,\n",
       "  'contains(screenwriter)': False,\n",
       "  'contains(ability)': False,\n",
       "  'contains(spent)': False,\n",
       "  'contains(quick)': True,\n",
       "  'contains(violent)': False,\n",
       "  'contains(atmosphere)': False,\n",
       "  'contains(subtle)': False,\n",
       "  'contains(expected)': False,\n",
       "  'contains(fairly)': False,\n",
       "  'contains(seven)': False,\n",
       "  'contains(killing)': False,\n",
       "  'contains(tone)': False,\n",
       "  'contains(master)': False,\n",
       "  'contains(disaster)': False,\n",
       "  'contains(lots)': False,\n",
       "  'contains(thinks)': False,\n",
       "  'contains(song)': False,\n",
       "  'contains(cheap)': False,\n",
       "  'contains(suddenly)': False,\n",
       "  'contains(background)': False,\n",
       "  'contains(club)': False,\n",
       "  'contains(willis)': False,\n",
       "  'contains(whatever)': False,\n",
       "  'contains(highly)': False,\n",
       "  'contains(sees)': False,\n",
       "  'contains(complex)': False,\n",
       "  'contains(greatest)': False,\n",
       "  'contains(impact)': False,\n",
       "  'contains(beauty)': False,\n",
       "  'contains(front)': False,\n",
       "  'contains(humans)': False,\n",
       "  'contains(indeed)': False,\n",
       "  'contains(flat)': False,\n",
       "  'contains(grace)': False,\n",
       "  'contains(wrote)': False,\n",
       "  'contains(amusing)': False,\n",
       "  'contains(ii)': False,\n",
       "  'contains(mike)': False,\n",
       "  'contains(cute)': True,\n",
       "  'contains(dull)': False,\n",
       "  'contains(minor)': False,\n",
       "  'contains(recently)': False,\n",
       "  'contains(hate)': False,\n",
       "  'contains(outside)': False,\n",
       "  'contains(plenty)': False,\n",
       "  'contains(wish)': False,\n",
       "  'contains(godzilla)': False,\n",
       "  'contains(college)': False,\n",
       "  'contains(titanic)': False,\n",
       "  'contains(sounds)': True,\n",
       "  'contains(telling)': True,\n",
       "  'contains(sight)': False,\n",
       "  'contains(double)': False,\n",
       "  'contains(cinematic)': False,\n",
       "  'contains(queen)': False,\n",
       "  'contains(hold)': False,\n",
       "  'contains(meanwhile)': False,\n",
       "  'contains(awful)': True,\n",
       "  'contains(clearly)': False,\n",
       "  'contains(theme)': False,\n",
       "  'contains(hear)': False,\n",
       "  'contains(x)': False,\n",
       "  'contains(amount)': False,\n",
       "  'contains(baby)': False,\n",
       "  'contains(approach)': False,\n",
       "  'contains(dreams)': False,\n",
       "  'contains(shown)': False,\n",
       "  'contains(island)': False,\n",
       "  'contains(reasons)': False,\n",
       "  'contains(charm)': False,\n",
       "  'contains(miss)': False,\n",
       "  'contains(longer)': False,\n",
       "  'contains(common)': False,\n",
       "  'contains(sean)': False,\n",
       "  'contains(carry)': False,\n",
       "  'contains(believable)': False,\n",
       "  'contains(realistic)': False,\n",
       "  'contains(chemistry)': False,\n",
       "  'contains(possibly)': False,\n",
       "  'contains(casting)': False,\n",
       "  'contains(carrey)': False,\n",
       "  'contains(french)': False,\n",
       "  'contains(trailer)': False,\n",
       "  'contains(tough)': False,\n",
       "  'contains(produced)': False,\n",
       "  'contains(imagine)': False,\n",
       "  'contains(choice)': False,\n",
       "  'contains(ride)': False,\n",
       "  'contains(somewhere)': False,\n",
       "  'contains(hot)': False,\n",
       "  'contains(race)': False,\n",
       "  'contains(road)': False,\n",
       "  'contains(leader)': False,\n",
       "  'contains(thin)': False,\n",
       "  'contains(jerry)': False,\n",
       "  'contains(slowly)': False,\n",
       "  'contains(delivers)': False,\n",
       "  'contains(detective)': False,\n",
       "  'contains(brown)': False,\n",
       "  'contains(jackson)': False,\n",
       "  'contains(member)': False,\n",
       "  'contains(provide)': False,\n",
       "  'contains(president)': False,\n",
       "  'contains(puts)': False,\n",
       "  'contains(asks)': False,\n",
       "  'contains(critics)': False,\n",
       "  'contains(appearance)': False,\n",
       "  'contains(famous)': False,\n",
       "  'contains(okay)': False,\n",
       "  'contains(intelligence)': False,\n",
       "  'contains(energy)': False,\n",
       "  'contains(sent)': False,\n",
       "  'contains(spielberg)': False,\n",
       "  'contains(development)': False,\n",
       "  'contains(etc)': False,\n",
       "  'contains(language)': False,\n",
       "  'contains(blue)': False,\n",
       "  'contains(proves)': False,\n",
       "  'contains(vampire)': False,\n",
       "  'contains(seemingly)': False,\n",
       "  'contains(basic)': False,\n",
       "  'contains(caught)': False,\n",
       "  'contains(decide)': False,\n",
       "  'contains(opportunity)': False,\n",
       "  'contains(incredibly)': False,\n",
       "  'contains(images)': False,\n",
       "  'contains(band)': False,\n",
       "  'contains(j)': False,\n",
       "  'contains(writers)': False,\n",
       "  ...},\n",
       " 'neg')"
      ]
     },
     "execution_count": 69,
     "metadata": {},
     "output_type": "execute_result"
    }
   ],
   "source": [
    "featuresets[2]"
   ]
  },
  {
   "cell_type": "markdown",
   "metadata": {},
   "source": [
    "Split into train_set, test_set and perform classification "
   ]
  },
  {
   "cell_type": "code",
   "execution_count": 70,
   "metadata": {},
   "outputs": [
    {
     "name": "stdout",
     "output_type": "stream",
     "text": [
      "0.88\n",
      "Most Informative Features\n",
      "   contains(outstanding) = True              pos : neg    =     10.4 : 1.0\n",
      "        contains(seagal) = True              neg : pos    =      8.7 : 1.0\n",
      "         contains(mulan) = True              pos : neg    =      8.1 : 1.0\n",
      "   contains(wonderfully) = True              pos : neg    =      6.3 : 1.0\n",
      "         contains(damon) = True              pos : neg    =      5.7 : 1.0\n",
      "          contains(lame) = True              neg : pos    =      5.6 : 1.0\n",
      "        contains(wasted) = True              neg : pos    =      5.6 : 1.0\n",
      "         contains(awful) = True              neg : pos    =      5.4 : 1.0\n",
      "         contains(flynt) = True              pos : neg    =      5.1 : 1.0\n",
      "    contains(ridiculous) = True              neg : pos    =      5.1 : 1.0\n"
     ]
    }
   ],
   "source": [
    "train_set, test_set = featuresets[100:], featuresets[:100]\n",
    "classifier = nltk.NaiveBayesClassifier.train(train_set)\n",
    "\n",
    "print(nltk.classify.accuracy(classifier, test_set))\n",
    "\n",
    "classifier.show_most_informative_features(10)"
   ]
  },
  {
   "cell_type": "markdown",
   "metadata": {},
   "source": [
    "NLTK gives us 88% accuracy, which isn't bad, but our home-made naive algorithm also achieved a respectable 80%.\n",
    "\n",
    "\n",
    "What improvements could we have made? Obviously, we could have used more data, or – in our home-grown model select words that discriminate between good and bad reviews. We could have used n-grams, e.g., to catch \"not bad\" as a postitive sentiment."
   ]
  }
 ],
 "metadata": {
  "anaconda-cloud": {},
  "kernelspec": {
   "display_name": "Python 3 (ipykernel)",
   "language": "python",
   "name": "python3"
  },
  "language_info": {
   "codemirror_mode": {
    "name": "ipython",
    "version": 3
   },
   "file_extension": ".py",
   "mimetype": "text/x-python",
   "name": "python",
   "nbconvert_exporter": "python",
   "pygments_lexer": "ipython3",
   "version": "3.9.13"
  }
 },
 "nbformat": 4,
 "nbformat_minor": 1
}
