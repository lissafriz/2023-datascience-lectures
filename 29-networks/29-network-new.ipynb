{
 "cells": [
  {
   "cell_type": "markdown",
   "metadata": {},
   "source": [
    "# Introduction to Data Science – Networks\n",
    "*COMP 5360 / MATH 4100, University of Utah, http://datasciencecourse.net/* \n",
    "\n",
    "In this lecture, we explore how to work with graphs in Python. We will use the [NetworkX](networkx.github.io) library. \n",
    "\n",
    "Alternative libraries are [graph-tool](https://graph-tool.skewed.de) and [iGraph](http://igraph.org/). We have chosen NetworkX because it's native Python and hence easy to install. Graph-tool is said to be faster, but requires manual installation. \n"
   ]
  },
  {
   "cell_type": "markdown",
   "metadata": {},
   "source": [
    "NetworkX supports four types of graphs: \n",
    "\n",
    " * **Graph:** This class implements an undirected graph. It ignores multiple edges between two nodes. It does allow self-loop edges between a node and itself.\n",
    " * **DiGraph:** Directed graphs, that is, graphs with directed edges. \n",
    " * **MultiGraph:** A flexible graph class that allows multiple undirected edges between pairs of nodes. The additional flexibility leads to some degradation in performance, though usually not significant.\n",
    " * **MultiDiGraph:** A directed version of a MultiGraph.\n",
    " \n",
    "\n",
    "We start off by creating a simple graph containing scholars, and connect the authors based on co-authored publications.  We can use the `add_node()` and `add_edge()` functions to add the respective entities. "
   ]
  },
  {
   "cell_type": "code",
   "execution_count": null,
   "metadata": {},
   "outputs": [],
   "source": [
    "import networkx as nx\n",
    "import matplotlib.pyplot as plt\n",
    "%matplotlib inline\n",
    "plt.rcParams['figure.figsize'] = (10, 6)\n",
    "plt.style.use('ggplot')"
   ]
  },
  {
   "cell_type": "code",
   "execution_count": null,
   "metadata": {},
   "outputs": [],
   "source": [
    "#initailize the graph\n",
    "authors=nx.Graph()\n",
    "# add nodes\n",
    "authors.add_node(\"Alex\")\n",
    "authors.add_node(\"Marc\")\n",
    "authors.add_node(\"Wolfgang\")\n",
    "authors.add_node(\"Helwig\")\n",
    "\n",
    "# add edges\n",
    "authors.add_edge(\"Alex\", \"Marc\")\n",
    "authors.add_edge(\"Marc\", \"Wolfgang\")\n",
    "authors.add_edge(\"Marc\", \"Helwig\")\n",
    "authors.add_edge(\"Helwig\", \"Alex\")\n",
    "\n",
    "print(list(authors.nodes()))\n",
    "print(list(authors.edges()))\n"
   ]
  },
  {
   "cell_type": "code",
   "execution_count": null,
   "metadata": {},
   "outputs": [],
   "source": [
    "# The node Hanspeter didn't exist before\n",
    "authors.add_edge(\"Alex\", \"Hanspeter\")\n",
    "authors.add_edge(\"Helwig\", \"Hanspeter\")\n",
    "print(list(authors.nodes()))\n",
    "print(list(authors.edges()))"
   ]
  },
  {
   "cell_type": "markdown",
   "metadata": {},
   "source": [
    "We can add attributes of various types, including basic data types, lists, dictionaries:"
   ]
  },
  {
   "cell_type": "code",
   "execution_count": null,
   "metadata": {},
   "outputs": [],
   "source": [
    "authors.nodes[\"Hanspeter\"][\"Institution\"] = \"Harvard\"\n",
    "authors.nodes[\"Alex\"][\"Institution\"] = \"UofU\"\n",
    "authors.nodes[\"Marc\"][\"Institution\"] = [\"JKU\", \"datavisyn\"]\n",
    "nx.get_node_attributes(authors, \"Institution\")"
   ]
  },
  {
   "cell_type": "markdown",
   "metadata": {},
   "source": [
    "We can access individual nodes:"
   ]
  },
  {
   "cell_type": "code",
   "execution_count": null,
   "metadata": {},
   "outputs": [],
   "source": [
    "authors.nodes(data=True)"
   ]
  },
  {
   "cell_type": "code",
   "execution_count": null,
   "metadata": {},
   "outputs": [],
   "source": [
    "authors.nodes[\"Marc\"]"
   ]
  },
  {
   "cell_type": "markdown",
   "metadata": {},
   "source": [
    "And the neighbors of nodes:"
   ]
  },
  {
   "cell_type": "code",
   "execution_count": null,
   "metadata": {},
   "outputs": [],
   "source": [
    "authors[\"Marc\"]"
   ]
  },
  {
   "cell_type": "markdown",
   "metadata": {},
   "source": [
    "## Visualizing the Graph\n",
    "\n",
    "NetworkX isn't a particular good graph visualization library. For good graph visualization, take a look at [D3](https://d3js.org/) if you want to write JavaScript code, or [Cytoscape](http://www.cytoscape.org/) or [Gephi](https://gephi.org/) if you want a GUI tool.\n",
    "\n",
    "We'll make due with NetworkX's vis capabilities here though. NetworkX uses Matploltlib to draw it's graph. \n",
    "\n",
    "Let's start with a force-directed layout:"
   ]
  },
  {
   "cell_type": "code",
   "execution_count": null,
   "metadata": {},
   "outputs": [],
   "source": [
    "# use a spring layout to calculate positions and plot them\n",
    "nx.draw_spring(authors)\n",
    "plt.show()"
   ]
  },
  {
   "cell_type": "markdown",
   "metadata": {},
   "source": [
    "This clearly shows us the topology, but we want also to know who is who, so we add labels:"
   ]
  },
  {
   "cell_type": "code",
   "execution_count": null,
   "metadata": {},
   "outputs": [],
   "source": [
    "# Here we calculate the layout positions first\n",
    "pos = nx.spring_layout(authors)\n",
    "# and then pass the positions to the drawing function\n",
    "nx.draw(authors, pos=pos, node_size=1000)\n",
    "# then we draw the labels at the same position\n",
    "nx.draw_networkx_labels(authors, pos=pos)\n",
    "plt.show()"
   ]
  },
  {
   "cell_type": "markdown",
   "metadata": {},
   "source": [
    "Alternatively we can use a shell layout, that places the nodes on a circle/ellipsoid:"
   ]
  },
  {
   "cell_type": "code",
   "execution_count": null,
   "metadata": {},
   "outputs": [],
   "source": [
    "pos = nx.shell_layout(authors)\n",
    "nx.draw(authors, pos=pos, node_size=1000)\n",
    "nx.draw_networkx_labels(authors, pos=pos)\n",
    "plt.show()"
   ]
  },
  {
   "cell_type": "markdown",
   "metadata": {},
   "source": [
    "NetworkX does support a couple of other node-link layouts, but it does not support matrix layouts. "
   ]
  },
  {
   "cell_type": "markdown",
   "metadata": {},
   "source": [
    "## Basic Stats\n",
    "\n",
    "Let's take a look at a couple of basic stats about the network."
   ]
  },
  {
   "cell_type": "code",
   "execution_count": null,
   "metadata": {},
   "outputs": [],
   "source": [
    "print(\"Number of nodes:\", nx.number_of_nodes(authors))\n",
    "print(\"Number of edges:\", nx.number_of_edges(authors))"
   ]
  },
  {
   "cell_type": "markdown",
   "metadata": {},
   "source": [
    "We can look at the degree of each node:"
   ]
  },
  {
   "cell_type": "code",
   "execution_count": null,
   "metadata": {},
   "outputs": [],
   "source": [
    "degree = nx.degree(authors)\n",
    "degree"
   ]
  },
  {
   "cell_type": "markdown",
   "metadata": {},
   "source": [
    "And we can visualize these degrees as the size of the nodes. First, a helper function to draw the network:"
   ]
  },
  {
   "cell_type": "code",
   "execution_count": null,
   "metadata": {},
   "outputs": [],
   "source": [
    "def draw_network(network, weights):\n",
    "    \"\"\"Draws a network using force directed layout where the nodes are scaled by the weight\"\"\"\n",
    "    pos = nx.spring_layout(network)\n",
    "    nx.draw(network, pos=pos, node_size=weights)\n",
    "    nx.draw_networkx_labels(network, pos=pos)\n",
    "    plt.show()"
   ]
  },
  {
   "cell_type": "markdown",
   "metadata": {},
   "source": [
    "And then we need to rescale the node size by a factor, so that it's visible:"
   ]
  },
  {
   "cell_type": "code",
   "execution_count": null,
   "metadata": {},
   "outputs": [],
   "source": [
    "scaled_degree = []\n",
    "for author in authors.nodes():\n",
    "    scaled_degree.append(degree[author]*600)\n",
    "\n",
    "draw_network(authors, scaled_degree)"
   ]
  },
  {
   "cell_type": "markdown",
   "metadata": {},
   "source": [
    "It is also trivial to show a degree histogram. Remember, that degree histograms tell us a lot about the network."
   ]
  },
  {
   "cell_type": "code",
   "execution_count": null,
   "metadata": {},
   "outputs": [],
   "source": [
    "plt.rcParams['figure.figsize'] = (10, 6)\n",
    "counts = nx.degree_histogram(authors)\n",
    "bins = range(len(counts))\n",
    "plt.bar(bins, counts, width=0.9)\n",
    "plt.show()"
   ]
  },
  {
   "cell_type": "markdown",
   "metadata": {},
   "source": [
    "For this network, that's not particularly interesting, but we'll take a look at a larger graph next."
   ]
  },
  {
   "cell_type": "markdown",
   "metadata": {},
   "source": [
    "## Importing and Generating Graphs\n",
    "\n",
    "There are various ways to [generate simulated graphs](https://networkx.github.io/documentation/networkx-1.10/reference/generators.html), which are great if you want to try out an algorithm or a visualization method. NetworkX also comes with a set of [pre-loaded graphs](https://networkx.github.io/documentation/networkx-1.10/reference/generators.html#module-networkx.generators.social). \n",
    "\n",
    "We'll use data based on character co-appearance in Victor Hugo's Les Misérables, compiled by [Donald Knuth](http://www-cs-faculty.stanford.edu/~uno/sgb.html). NetworkX supports [various formats](https://networkx.github.io/documentation/networkx-1.10/reference/readwrite.html), including JSON, GraphML, etc. We'll use the [GML format](https://networkx.org/documentation/stable/reference/readwrite/gml.html), that looks like this:\n",
    "\n",
    "```\n",
    "{\n",
    "graph [\n",
    "  node [\n",
    "    id 0\n",
    "    label \"Myriel\"\n",
    "  ]\n",
    "  node [\n",
    "    id 1\n",
    "    label \"Napoleon\"\n",
    "  ]\n",
    "  node [\n",
    "    id 2\n",
    "    label \"MlleBaptistine\"\n",
    "  ]\n",
    "  \n",
    "  ...\n",
    "  \n",
    "  edge [\n",
    "    source 1\n",
    "    target 0\n",
    "    value 1\n",
    "  ]\n",
    "  edge [\n",
    "    source 2\n",
    "    target 0\n",
    "    value 8\n",
    "  ]\n",
    "  ...\n",
    "```"
   ]
  },
  {
   "cell_type": "markdown",
   "metadata": {},
   "source": [
    "Importing GML is trivial if the file is properly formatted. Other formats, such as JSON, can be a little more work as they are less clearly specified. "
   ]
  },
  {
   "cell_type": "code",
   "execution_count": null,
   "metadata": {},
   "outputs": [],
   "source": [
    "# Read the graph file\n",
    "lesmis = nx.read_gml('lesmis.gml')\n",
    "# Plot the nodes\n",
    "lesmis.nodes()"
   ]
  },
  {
   "cell_type": "markdown",
   "metadata": {},
   "source": [
    "Let's look at the stats for this graph:"
   ]
  },
  {
   "cell_type": "code",
   "execution_count": null,
   "metadata": {},
   "outputs": [],
   "source": [
    "print(\"Number of nodes:\", nx.number_of_nodes(lesmis))\n",
    "print(\"Number of edges:\", nx.number_of_edges(lesmis))"
   ]
  },
  {
   "cell_type": "code",
   "execution_count": null,
   "metadata": {},
   "outputs": [],
   "source": [
    "plt.rcParams['figure.figsize'] = (10, 15)\n",
    "pos = nx.spring_layout(lesmis)\n",
    "nx.draw(lesmis, pos=pos)\n",
    "nx.draw_networkx_labels(lesmis, pos=pos)\n",
    "plt.show()"
   ]
  },
  {
   "cell_type": "markdown",
   "metadata": {},
   "source": [
    "## Connectedness Measures"
   ]
  },
  {
   "cell_type": "markdown",
   "metadata": {},
   "source": [
    "Connectedness measures provide information about the relative roles of nodes in a graph. This is important, for example, to rank nodes, or to identify nodes that important hubs in a network. We'll look at three measures: degree, betweenness centrality, and page rank. "
   ]
  },
  {
   "cell_type": "markdown",
   "metadata": {},
   "source": [
    "Here we write a helper function that allows us to plot with weights:"
   ]
  },
  {
   "cell_type": "code",
   "execution_count": null,
   "metadata": {},
   "outputs": [],
   "source": [
    "def draw_network_fancy(graph, weights, drawing_factor, figsize=(10,15), layout_type='spring'):\n",
    "    \"\"\"Draws a network where the nodes are scaled by weights and a factor\"\"\"\n",
    "    node_scale = []\n",
    "    for node in graph.nodes():\n",
    "        node_scale.append(weights[node]*drawing_factor)\n",
    "        \n",
    "    \n",
    "    plt.rcParams['figure.figsize'] = figsize\n",
    "    if layout_type == 'spring':\n",
    "        pos = nx.spring_layout(graph)\n",
    "    elif layout_type == 'shell':\n",
    "        pos = nx.shell_layout(graph)\n",
    "    nx.draw(graph, pos=pos, node_size=node_scale)\n",
    "    nx.draw_networkx_labels(graph, pos=pos)\n",
    "    plt.show()"
   ]
  },
  {
   "cell_type": "markdown",
   "metadata": {},
   "source": [
    "### Degree"
   ]
  },
  {
   "cell_type": "markdown",
   "metadata": {},
   "source": [
    "We first look at the degree of nodes. Degree is a local measure - we could envision one node with a large degree that is not central to the overall network. "
   ]
  },
  {
   "cell_type": "code",
   "execution_count": null,
   "metadata": {},
   "outputs": [],
   "source": [
    "degree = nx.degree(lesmis)\n",
    "sorted(degree, key=lambda x: x[1], reverse=True)[:15]"
   ]
  },
  {
   "cell_type": "code",
   "execution_count": null,
   "metadata": {
    "scrolled": false
   },
   "outputs": [],
   "source": [
    "draw_network_fancy(lesmis, degree, 100)"
   ]
  },
  {
   "cell_type": "markdown",
   "metadata": {
    "collapsed": true
   },
   "source": [
    "### Betweenness centrality\n",
    "\n",
    "The betweenness centrality of a node is a measure of how many shortest paths (of all shortest paths between all nodes) pass through that particular node. The more shortest paths that pass through the vertex, the more central the vertex is to the network. Betweenness centrality is a good measure for the overall relevance of a node in a graph.\n",
    "\n",
    "Betweenness centrality of a node v is the sum of the fraction of all-pairs shortest paths that pass through v\n",
    "\n",
    "$c_B(v) =\\sum_{s\\ne v \\ne t \\in V} \\frac{\\sigma(s, t|v)}{\\sigma(s, t)}$\n",
    "\n",
    "where $V$ is the set of nodes, $\\sigma(s, t)$ is the number of shortest $(s, t)$-paths, and $\\sigma(s, t|v)$ is the number of those paths passing through $v$.\n",
    "\n",
    "This is commonly scaled by dividing through the number of pairs of nodes excluding v. "
   ]
  },
  {
   "cell_type": "code",
   "execution_count": null,
   "metadata": {},
   "outputs": [],
   "source": [
    "#initailize the graph\n",
    "bz_demo=nx.Graph()\n",
    "# add nodes\n",
    "bz_demo.add_nodes_from(['A', 'B', 'C', 'D', 'E', 'F'])\n",
    "bz_demo.add_edges_from([('A', 'B'), ('B', 'C'), ('C', 'D'), ('C', 'E'), ('D', 'F'), ('E', 'F'), ('D', 'E')])\n",
    "centrality = nx.betweenness_centrality(bz_demo)\n",
    "sorted(centrality.items(), key=lambda x: x[1], reverse=True)[:10]"
   ]
  },
  {
   "cell_type": "code",
   "execution_count": null,
   "metadata": {},
   "outputs": [],
   "source": [
    "draw_network_fancy(bz_demo, centrality, 1000, (5,5))"
   ]
  },
  {
   "cell_type": "code",
   "execution_count": null,
   "metadata": {},
   "outputs": [],
   "source": [
    "centrality = nx.betweenness_centrality(lesmis)\n",
    "sorted(centrality.items(), key=lambda x: x[1], reverse=True)[:10]"
   ]
  },
  {
   "cell_type": "code",
   "execution_count": null,
   "metadata": {},
   "outputs": [],
   "source": [
    "draw_network_fancy(lesmis, centrality, 1000)"
   ]
  },
  {
   "cell_type": "markdown",
   "metadata": {},
   "source": [
    "Note that computing the betwenness centrailty is expensive, it requires $\\Theta(V^3)$ comparisons using the [Floyd-Warshall algorithm](https://en.wikipedia.org/wiki/Floyd%E2%80%93Warshall_algorithm). "
   ]
  },
  {
   "cell_type": "markdown",
   "metadata": {},
   "source": [
    "### PageRank\n",
    "\n",
    "[PageRank](https://en.wikipedia.org/wiki/PageRank) is used by Google as part of their algorithm to rank web pages on the Internet. It treats each web page as a node and each hyperlink as an edge. PageRank works by counting the number and quality of links to a page to determine a rough estimate of how important the website is. The underlying assumption is that more important websites are likely to receive more links from other websites.\n",
    "\n",
    "Another way to imagine this is if you initialize millions of people equally across all websites, and each person randomly clicks links. Important websites, or nodes will accumulate more people, and less important nodes will lose people. When this converges, the number of poeple at a node would correspond to the PageRank value.\n",
    "\n",
    "In other words the PageRank value of a node corresponds to a probability distribution that someone clicking on random links will arrive at this page.\n",
    "\n",
    "For example, in a network with four nodes, A, B, C and D, and three links from A->D, B->D, and C->D, the probability of clicking a link that leads to D is 1. You can think of it that initially, all pages have the same probability of 0.25, and by linking to another page they transfer their PageRank to that site. \n",
    "\n",
    "When a site links to multiple pages, its PageRank is evenly distributed among the sites. For example, if \n",
    "A->C, \n",
    "A->D, \n",
    "C->D, \n",
    "D->A, \n",
    "B->D,\n",
    "A distributes half of it's PageRank to D, the other half to C, etc. \n",
    "\n",
    "This transferral is done over multiple iterations. In practice, the PageRank values can be approximated to a high degree of accuracy within only a few iterations."
   ]
  },
  {
   "cell_type": "markdown",
   "metadata": {},
   "source": [
    "When a site links to multiple pages, its PageRank is evenly distributed among the sites. For example, if \n",
    "B->C, and \n",
    "B->D, \n",
    "B distributes half of it's PageRank to D, the other half to C, etc. \n",
    "\n",
    "This transferral is done over multiple iterations. In practice, the PageRank values can be approximated to a high degree of accuracy within only a few iterations."
   ]
  },
  {
   "cell_type": "code",
   "execution_count": null,
   "metadata": {},
   "outputs": [],
   "source": [
    "#initailize the graph\n",
    "abc=nx.DiGraph()\n",
    "# add nodes\n",
    "abc.add_node(\"A\")\n",
    "abc.add_node(\"B\")\n",
    "abc.add_node(\"C\")\n",
    "abc.add_node(\"D\")\n",
    "\n",
    "# add edges\n",
    "abc.add_edge(\"B\", \"C\")\n",
    "abc.add_edge(\"B\", \"D\")\n",
    "abc.add_edge(\"C\", \"D\")\n",
    "abc.add_edge(\"D\", \"B\")\n",
    "abc.add_edge(\"A\", \"D\")\n",
    "\n",
    "print(list(abc.nodes()))\n",
    "print(list(abc.edges()))"
   ]
  },
  {
   "cell_type": "code",
   "execution_count": null,
   "metadata": {
    "scrolled": false
   },
   "outputs": [],
   "source": [
    "# notice the two edges between A and D that are hard to see in this plot\n",
    "weights = {'A':0.25, 'B':0.25, 'C':0.25, 'D':0.25}\n",
    "draw_network_fancy(abc, weights, 2000, (5,5), layout_type='shell')\n",
    "print(weights)\n",
    "\n",
    "# Basic page rank implementation\n",
    "for i in range(10):\n",
    "    new_weights = {'A': 0, 'B': 0, 'C': 0, 'D':0}\n",
    "    for node in abc:\n",
    "        rank = weights[node]\n",
    "        neighbors = abc[node]\n",
    "        for n in neighbors:\n",
    "            new_weights[n] += rank / len(neighbors)\n",
    "\n",
    "    weights = new_weights\n",
    "    draw_network_fancy(abc, weights, 2000, (5,5), layout_type='shell')\n",
    "    print(weights)"
   ]
  },
  {
   "cell_type": "markdown",
   "metadata": {},
   "source": [
    "Let's compare the result of our simple implemenation with NetworkX:"
   ]
  },
  {
   "cell_type": "code",
   "execution_count": null,
   "metadata": {},
   "outputs": [],
   "source": [
    "abc_pr = nx.pagerank(abc, alpha=1)\n",
    "draw_network_fancy(abc, abc_pr, 2000, (5,5), layout_type='shell')\n",
    "print(abc_pr)"
   ]
  },
  {
   "cell_type": "markdown",
   "metadata": {},
   "source": [
    "While the basic implemenatation is fairly simple, NetworkX handles edge cases ours does not. Specifically, for pages with no outbound links the PageRank algorithm assumes they link out to all other pages in the collection. \n",
    "\n",
    "\n",
    "NetworkX also supports other aspects of PageRank, such as the damping factor `alpha`. If we go back to our thought experiment with millions of internet users randomly clicking links. Here, instead of users clicking links forever they have a chance of stopping on each website. The chance of stopping is `1-alpha`. In other words, the damping factor `alpha` is the probability that a person will click the next link at each step."
   ]
  },
  {
   "cell_type": "code",
   "execution_count": null,
   "metadata": {},
   "outputs": [],
   "source": [
    "abc_pr = nx.pagerank(abc, alpha=0.85)\n",
    "abc_pr"
   ]
  },
  {
   "cell_type": "markdown",
   "metadata": {},
   "source": [
    "PageRank was designed for directed graphs. NetworkX's PageRank algorithm implementation treats undirected links as two directed links in each direction. For undirected graphs PageRank is not as valuable, as it follows the degree distribution. We can still look at the PageRank for the Les Miserables network."
   ]
  },
  {
   "cell_type": "code",
   "execution_count": null,
   "metadata": {},
   "outputs": [],
   "source": [
    "pr = nx.pagerank(lesmis, alpha=0.9)\n",
    "sorted(pr.items(), key=lambda x: x[1], reverse=True)[:10]"
   ]
  },
  {
   "cell_type": "code",
   "execution_count": null,
   "metadata": {},
   "outputs": [],
   "source": [
    "draw_network_fancy(lesmis, pr, 3000)"
   ]
  },
  {
   "cell_type": "markdown",
   "metadata": {},
   "source": [
    "### Comparison\n",
    "\n",
    "Let's compare the distribution of these measures."
   ]
  },
  {
   "cell_type": "code",
   "execution_count": null,
   "metadata": {},
   "outputs": [],
   "source": [
    "print(degree)\n",
    "degrees = [d[1] for d in degree]\n",
    "plt.rcParams['figure.figsize'] = (10, 6)\n",
    "plt.hist(degrees)\n",
    "plt.title('Histogram of Degrees')\n",
    "plt.show()"
   ]
  },
  {
   "cell_type": "code",
   "execution_count": null,
   "metadata": {},
   "outputs": [],
   "source": [
    "print(centrality.values())\n",
    "centralities = centrality.values()\n",
    "plt.rcParams['figure.figsize'] = (10, 6)\n",
    "plt.hist(centralities)\n",
    "plt.title('Histogram of Betweennes Centrality Values')\n",
    "plt.show()"
   ]
  },
  {
   "cell_type": "code",
   "execution_count": null,
   "metadata": {},
   "outputs": [],
   "source": [
    "prs = pr.values()\n",
    "plt.rcParams['figure.figsize'] = (10, 6)\n",
    "plt.hist(prs)\n",
    "plt.title('Histogram of PageRanks')\n",
    "plt.show()"
   ]
  },
  {
   "cell_type": "markdown",
   "metadata": {},
   "source": [
    "### Removing Nodes\n",
    "\n",
    "We've seen that our network is highly centralized, let's explore what would happen if we removed Valjean, the central hub of the network. You can think of this as an important employee at a company leaving, or as a central node in a computer network or electric network going offline."
   ]
  },
  {
   "cell_type": "code",
   "execution_count": null,
   "metadata": {},
   "outputs": [],
   "source": [
    "# new network, we might still need the old one\n",
    "lesmis_cut = nx.read_gml('lesmis.gml')\n",
    "lesmis_cut.remove_node(\"Valjean\")"
   ]
  },
  {
   "cell_type": "markdown",
   "metadata": {},
   "source": [
    "Let's take a look at the betweenness centrality and plot the network."
   ]
  },
  {
   "cell_type": "code",
   "execution_count": null,
   "metadata": {},
   "outputs": [],
   "source": [
    "cut_centrality = nx.betweenness_centrality(lesmis_cut)\n",
    "sorted(cut_centrality.items(), key=lambda x: x[1], reverse=True)[:10]"
   ]
  },
  {
   "cell_type": "code",
   "execution_count": null,
   "metadata": {
    "scrolled": false
   },
   "outputs": [],
   "source": [
    "draw_network_fancy(lesmis_cut, cut_centrality, 3000)"
   ]
  },
  {
   "cell_type": "markdown",
   "metadata": {},
   "source": [
    "We can see that the graph is broken off into multiple unconnected components! Valjean was an articulation point that held the network together. "
   ]
  },
  {
   "cell_type": "code",
   "execution_count": null,
   "metadata": {},
   "outputs": [],
   "source": [
    "nx.number_connected_components(lesmis_cut)"
   ]
  },
  {
   "cell_type": "markdown",
   "metadata": {},
   "source": [
    "## Path Search\n",
    "\n",
    "Path search, and in particular shortest path search is an important problem. It answers questions such as \n",
    " * how do I get as quickly as possible from A to B in a road network\n",
    " * how to best rout a data package that delivers the next second of your Netflix movie\n",
    " * who can I talk to to get an introduction to Person B\n",
    " * etc.\n",
    " \n",
    "There are two major types of path search algorithms: \n",
    "\n",
    "1. Algorithms that operate only on the topology, i.e., only the \"distance\" is relevant\n",
    "2. Algorithms that also consider edge weights, i.e., they minimize a \"cost\"\n",
    "\n",
    "For the above scenarios, edge weights make a lot of sense: I might give a different weight to an edge that is an Interstate, for example, as I will be able to travel faster. "
   ]
  },
  {
   "cell_type": "markdown",
   "metadata": {},
   "source": [
    "![](bread.png)"
   ]
  },
  {
   "cell_type": "markdown",
   "metadata": {},
   "source": [
    "### Breadth First Seach\n",
    "\n",
    "Breadth first search is a simple algorithm that solves the single-source shortest path problem, i.e., it calculates the shortest path from one source to all other nodes in the network. \n",
    "\n",
    "The algorithm works as follows:\n",
    "\n",
    "1. Label source node 0\n",
    "2. Find neighbors, label 1, put in queue\n",
    "3. Take node labeled n (1 for first step) out of queue. Find its unlabeled neighbors. Label them n+1 and put in queue\n",
    "4. Repeat 3 until found node (if only the exact path is relevant)  or no nodes left (when looking for all shortest paths)\n",
    "5. The distance between start and end node is the label of the end node.\n",
    "\n",
    "Let's look at the path from Boulatruelle to Napoleon:"
   ]
  },
  {
   "cell_type": "code",
   "execution_count": null,
   "metadata": {},
   "outputs": [],
   "source": [
    "path = nx.shortest_path(lesmis,source=\"Boulatruelle\",target=\"Marius\")\n",
    "path"
   ]
  },
  {
   "cell_type": "markdown",
   "metadata": {},
   "source": [
    "And the path from Perpetue to Napoleon:"
   ]
  },
  {
   "cell_type": "code",
   "execution_count": null,
   "metadata": {},
   "outputs": [],
   "source": [
    "path = nx.shortest_path(lesmis,source=\"Perpetue\",target=\"Napoleon\")\n",
    "path"
   ]
  },
  {
   "cell_type": "markdown",
   "metadata": {},
   "source": [
    "### Dijkstra's Algorithm\n",
    "\n",
    "[Dijkstra's algoritm](https://en.wikipedia.org/wiki/Dijkstra%27s_algorithm) is the go-to algorithm for finding paths in a weigthed graph.\n",
    "\n",
    "Let the node at which we are starting be called the initial node. Let the distance of node Y be the distance from the initial node to Y. Dijkstra's algorithm will assign some initial distance values and will try to improve them step by step.\n",
    "1. Assign to every node a tentative distance value: set it to zero for our initial node and to infinity for all other nodes.\n",
    "2. Set the initial node as current. Mark all other nodes unvisited. Create a set of all the unvisited nodes called the unvisited set.\n",
    "3. For the current node, consider all of its unvisited neighbors and calculate their tentative distances. Compare the newly calculated tentative distance to the current assigned value and assign the smaller one. For example, if the current node A is marked with a distance of 6, and the edge connecting it with a neighbor B has length 2, then the distance to B (through A) will be 6 + 2 = 8. If B was previously marked with a distance greater than 8 then change it to 8. Otherwise, keep the current value.\n",
    "4. When we are done considering all of the neighbors of the current node, mark the current node as visited and remove it from the unvisited set. A visited node will never be checked again.\n",
    "5. If the destination node has been marked visited (when planning a route between two specific nodes) or if the smallest tentative distance among the nodes in the unvisited set is infinity (when planning a complete traversal; occurs when there is no connection between the initial node and remaining unvisited nodes), then stop. The algorithm has finished.\n",
    "6. Otherwise, select the unvisited node that is marked with the smallest tentative distance, set it as the new \"current node\", and go back to step 3.\n",
    "\n",
    "Here' is an animation for Dijkstra's Algorithm from Wikipedia (we'll go through this in class):\n",
    "\n",
    "![](Dijkstra_Animation.gif)\n",
    "\n",
    "Here is an illustration of Dijkstra's Algorithm for a motion planning task:\n",
    "\n",
    "![](Dijkstras_progress_animation.gif)"
   ]
  },
  {
   "cell_type": "markdown",
   "metadata": {},
   "source": [
    "Our Les Miserables dataset actually comes with edge weights. The weight describes the number of co-occurrences of the characters. Now, let's look at the values:"
   ]
  },
  {
   "cell_type": "code",
   "execution_count": null,
   "metadata": {
    "scrolled": true
   },
   "outputs": [],
   "source": [
    "lesmis.edges(data=True)"
   ]
  },
  {
   "cell_type": "markdown",
   "metadata": {},
   "source": [
    "First we run the algorithm without weights:"
   ]
  },
  {
   "cell_type": "code",
   "execution_count": null,
   "metadata": {},
   "outputs": [],
   "source": [
    "path = nx.dijkstra_path(lesmis, source=\"Perpetue\", target=\"Napoleon\")\n",
    "path"
   ]
  },
  {
   "cell_type": "markdown",
   "metadata": {},
   "source": [
    "And then we run it with the weights, to have a comparison:"
   ]
  },
  {
   "cell_type": "code",
   "execution_count": null,
   "metadata": {},
   "outputs": [],
   "source": [
    "weighted_path = nx.dijkstra_path(lesmis, source=\"Perpetue\", target=\"Napoleon\", weight=\"value\")\n",
    "weighted_path"
   ]
  },
  {
   "cell_type": "markdown",
   "metadata": {},
   "source": [
    "We can calculate the relative weights of these paths:"
   ]
  },
  {
   "cell_type": "code",
   "execution_count": null,
   "metadata": {},
   "outputs": [],
   "source": [
    "def getPathCost(path):\n",
    "    length = len(path)\n",
    "    weight = 0\n",
    "    for i in range(length-1):\n",
    "        attributes = lesmis[path[i]][path[i+1]]\n",
    "        weight += attributes[\"value\"]\n",
    "        print(path[i], path[i+1], attributes)\n",
    "    print(\"Weight:\", weight)\n",
    "    \n",
    "print(\"Shortest Path\")\n",
    "getPathCost(path)\n",
    "\n",
    "print(\"\\n ==== \\n\")\n",
    "\n",
    "print(\"Weighted Path\")    \n",
    "getPathCost(weighted_path)\n"
   ]
  },
  {
   "cell_type": "markdown",
   "metadata": {},
   "source": [
    "### The A* Algorithm - Path Finding using Heuristics"
   ]
  },
  {
   "cell_type": "markdown",
   "metadata": {},
   "source": [
    "Dijkstra is a great general algorithm, but it can be slow. \n",
    "\n",
    "If we know more about the network we're working with, we can use a more efficient algorithm that takes this information into account. For example, in motion planning and in route planning on a map, we know where the target point is located spatially, relative to the source point. We can take this information into account by using a heuristic function to refine the search. \n",
    "\n",
    "The [A* algorithm](https://en.wikipedia.org/wiki/A*_search_algorithm) is such an algorithm. It's based on Djikstra's algorithm, but uses a heuristic function to guide it's search into the right direction. A* is an informed search algorithm, or a best-first search, meaning that it solves problems by searching among all possible paths to the solution (goal) for the one that incurs the smallest cost (least distance traveled, shortest time, etc.), and among these paths it first considers the ones that appear to lead most quickly to the solution. \n",
    "\n",
    "At each step of the algorithm, A* evaluates which is the best paths to follow\n",
    "\n",
    "See the following example:\n",
    "\n",
    "![](Astar_progress_animation.gif)\n",
    "\n",
    "While [NetworkX](https://networkx.readthedocs.io/en/stable/reference/algorithms.shortest_paths.html#module-networkx.algorithms.shortest_paths.astar) provides an implementation of the A* algorithm, we are not able to define a meaningful heuristic function for the Les Miserables graph, so we can't use it on this graph."
   ]
  },
  {
   "cell_type": "markdown",
   "metadata": {},
   "source": [
    "## Community Detection\n",
    "Community detection is when you try to detect tightly knit clusters of nodes within a network, in other words a community. For example, if you consider social networks, a community might be a specific friend group. On websites this might be a collection of very related websites, such as wikipedia articles about different graph algorithms. It could also be used to identify computer generated clusters of websites that try to artificially boost their page rank by linking to each other.\n",
    "\n",
    "NetworkX has some community detection algorithm implemented already. Here, we demonstrate using modularity algorithm to detect community in a network of how a karate club seperated. The network captures 34 members of a karate club, documenting links between pairs of members who interacted outside the club. During the study a conflict arose, which led to the split of the club into two. This is a popular example for applying community detection algorithm. "
   ]
  },
  {
   "cell_type": "code",
   "execution_count": null,
   "metadata": {},
   "outputs": [],
   "source": [
    "karate_club = nx.karate_club_graph() #This network is also in NetworkX already, so we can load it in directly. \n",
    "mod_com =  nx.algorithms.community.greedy_modularity_communities(karate_club)\n",
    "mod_com"
   ]
  },
  {
   "cell_type": "code",
   "execution_count": null,
   "metadata": {},
   "outputs": [],
   "source": [
    "color_map = ['Orange', 'Purple', 'Blue']"
   ]
  },
  {
   "cell_type": "code",
   "execution_count": null,
   "metadata": {
    "scrolled": false
   },
   "outputs": [],
   "source": [
    "pos = nx.spring_layout(karate_club)\n",
    "plt.rcParams['figure.figsize'] = (12,12)\n",
    "for i,c in enumerate(mod_com):\n",
    "    node_list = []\n",
    "    for name in c:\n",
    "        node_list+=[name]\n",
    "    nx.draw_networkx(karate_club,pos=pos,nodelist = node_list,node_color = color_map[i])\n",
    "\n",
    "plt.show()"
   ]
  },
  {
   "cell_type": "markdown",
   "metadata": {},
   "source": [
    "We can do the same analysis on our les mis dataset."
   ]
  },
  {
   "cell_type": "code",
   "execution_count": null,
   "metadata": {},
   "outputs": [],
   "source": [
    "mod_com =  nx.algorithms.community.greedy_modularity_communities(lesmis)\n",
    "color_map = ['Orange', 'Purple', 'Blue', 'Red', 'Green']\n",
    "pos = nx.spring_layout(lesmis)\n",
    "plt.rcParams['figure.figsize'] = (12,12)\n",
    "for i,c in enumerate(mod_com):\n",
    "    node_list = []\n",
    "    for name in c:\n",
    "        node_list+=[name]\n",
    "    nx.draw_networkx(lesmis,pos=pos,nodelist = node_list,node_color = color_map[i])\n",
    "\n",
    "plt.show()"
   ]
  },
  {
   "cell_type": "markdown",
   "metadata": {},
   "source": [
    "## Exercise\n",
    "\n",
    "Explore the [Karate Club](https://networkx.readthedocs.io/en/stable/reference/generated/networkx.generators.social.karate_club_graph.html#networkx.generators.social.karate_club_graph) network:\n",
    "\n",
    " * How many nodes, how many edges are in the network? \n",
    " * Are there nodes of high betweenness centrality? Visualize the network.\n",
    " * Remove the node with the highest centrality. How many components do you have?"
   ]
  },
  {
   "cell_type": "code",
   "execution_count": null,
   "metadata": {},
   "outputs": [],
   "source": []
  }
 ],
 "metadata": {
  "anaconda-cloud": {},
  "kernelspec": {
   "display_name": "Python 3 (ipykernel)",
   "language": "python",
   "name": "python3"
  },
  "language_info": {
   "codemirror_mode": {
    "name": "ipython",
    "version": 3
   },
   "file_extension": ".py",
   "mimetype": "text/x-python",
   "name": "python",
   "nbconvert_exporter": "python",
   "pygments_lexer": "ipython3",
   "version": "3.11.1"
  }
 },
 "nbformat": 4,
 "nbformat_minor": 1
}
